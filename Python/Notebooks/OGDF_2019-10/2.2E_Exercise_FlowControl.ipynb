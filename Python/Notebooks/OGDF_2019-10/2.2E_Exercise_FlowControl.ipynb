{
 "cells": [
  {
   "cell_type": "markdown",
   "metadata": {
    "slideshow": {
     "slide_type": "slide"
    }
   },
   "source": [
    "# 2.2E\n",
    "\n",
    "# Exercises about Control of Flow\n",
    "\n",
    "<img src = \"images/logo.jpg\" width=\"100\" align=\"left\">\n",
    "\n",
    "\n",
    "<br><br><br><br>Ram Narasimhan"
   ]
  },
  {
   "cell_type": "markdown",
   "metadata": {
    "slideshow": {
     "slide_type": "slide"
    }
   },
   "source": [
    "# Look at the Handout for the problems...\n",
    "\n",
    "# Solutions follow"
   ]
  },
  {
   "cell_type": "markdown",
   "metadata": {
    "slideshow": {
     "slide_type": "slide"
    }
   },
   "source": [
    "### Flow of Control\n",
    "\n",
    "\n",
    "This task involves printing the Alarm Level of a Rotary Screw Compressor. \n",
    "Based on the temperature, you have to print the Alarm-Level.\n",
    "\n",
    "- Flow-0: Create a List (Temp = [45,63,62, …etc.])\n",
    "![Image](images/exercises_2.5b.jpg)\n",
    "- Flow-1: Write a For Loop to go through the entire list and print the temperature\n",
    "- Flow-2: Write an If/Elif/Else condition for the following to print the Alarm Level\n",
    "![Image](images/exercises_2.5a.jpg)\n",
    "\n"
   ]
  }
 ],
 "metadata": {
  "kernelspec": {
   "display_name": "Python 3",
   "language": "python",
   "name": "python3"
  },
  "language_info": {
   "codemirror_mode": {
    "name": "ipython",
    "version": 3
   },
   "file_extension": ".py",
   "mimetype": "text/x-python",
   "name": "python",
   "nbconvert_exporter": "python",
   "pygments_lexer": "ipython3",
   "version": "3.7.3"
  }
 },
 "nbformat": 4,
 "nbformat_minor": 2
}
