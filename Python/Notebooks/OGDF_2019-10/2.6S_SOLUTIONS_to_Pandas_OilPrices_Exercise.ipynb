{
 "cells": [
  {
   "cell_type": "markdown",
   "metadata": {
    "slideshow": {
     "slide_type": "slide"
    }
   },
   "source": [
    "# SOLUTIONS - 2.6\n",
    "\n",
    "### Day 3\n",
    "\n",
    "# SOLUTION - Descriptive Statistics & Data Manipulation\n",
    "\n",
    "`[] {} \" \" ' ' ( ) #`\n",
    "\n",
    "<img src = \"images/logo.jpg\" width=\"100\" align=\"left\"> \n",
    "\n",
    "Ram Narasimhan"
   ]
  },
  {
   "cell_type": "markdown",
   "metadata": {
    "slideshow": {
     "slide_type": "slide"
    }
   },
   "source": [
    "# <div class=\"alert alert-block alert-success\"> Exercises    </div>\n"
   ]
  },
  {
   "cell_type": "markdown",
   "metadata": {
    "collapsed": true,
    "slideshow": {
     "slide_type": "slide"
    }
   },
   "source": [
    "# From the `data` directory, please open `CrudeOilImportPrices.csv`"
   ]
  },
  {
   "cell_type": "code",
   "execution_count": 24,
   "metadata": {
    "slideshow": {
     "slide_type": "slide"
    }
   },
   "outputs": [
    {
     "data": {
      "text/plain": [
       "'C:\\\\Users\\\\ramna\\\\PyLibrary\\\\data-analysis-using-python\\\\Notebooks'"
      ]
     },
     "execution_count": 24,
     "metadata": {},
     "output_type": "execute_result"
    }
   ],
   "source": [
    "import os\n",
    "os.getcwd()"
   ]
  },
  {
   "cell_type": "markdown",
   "metadata": {
    "slideshow": {
     "slide_type": "slide"
    }
   },
   "source": [
    "<a id=\"section_ID\"></a>\n",
    "# Solutions\n"
   ]
  },
  {
   "cell_type": "markdown",
   "metadata": {
    "slideshow": {
     "slide_type": "fragment"
    }
   },
   "source": [
    "# <div class=\"alert alert-block alert-warning\"> 1. Read the data into a `Pandas` dataframe called `prices`</div>"
   ]
  },
  {
   "cell_type": "code",
   "execution_count": 25,
   "metadata": {
    "slideshow": {
     "slide_type": "slide"
    }
   },
   "outputs": [
    {
     "data": {
      "text/html": [
       "<div>\n",
       "<style scoped>\n",
       "    .dataframe tbody tr th:only-of-type {\n",
       "        vertical-align: middle;\n",
       "    }\n",
       "\n",
       "    .dataframe tbody tr th {\n",
       "        vertical-align: top;\n",
       "    }\n",
       "\n",
       "    .dataframe thead th {\n",
       "        text-align: right;\n",
       "    }\n",
       "</style>\n",
       "<table border=\"1\" class=\"dataframe\">\n",
       "  <thead>\n",
       "    <tr style=\"text-align: right;\">\n",
       "      <th></th>\n",
       "      <th>Country</th>\n",
       "      <th>Indicator</th>\n",
       "      <th>Subject</th>\n",
       "      <th>Units</th>\n",
       "      <th>Frequency</th>\n",
       "      <th>Time</th>\n",
       "      <th>PriceUSD</th>\n",
       "      <th>Flag Codes</th>\n",
       "    </tr>\n",
       "  </thead>\n",
       "  <tbody>\n",
       "    <tr>\n",
       "      <th>0</th>\n",
       "      <td>AUS</td>\n",
       "      <td>OILIMPPRICE</td>\n",
       "      <td>TOT</td>\n",
       "      <td>USD_BAR</td>\n",
       "      <td>A</td>\n",
       "      <td>1980</td>\n",
       "      <td>31.81</td>\n",
       "      <td>NaN</td>\n",
       "    </tr>\n",
       "    <tr>\n",
       "      <th>1</th>\n",
       "      <td>AUS</td>\n",
       "      <td>OILIMPPRICE</td>\n",
       "      <td>TOT</td>\n",
       "      <td>USD_BAR</td>\n",
       "      <td>A</td>\n",
       "      <td>1981</td>\n",
       "      <td>35.88</td>\n",
       "      <td>NaN</td>\n",
       "    </tr>\n",
       "    <tr>\n",
       "      <th>2</th>\n",
       "      <td>AUS</td>\n",
       "      <td>OILIMPPRICE</td>\n",
       "      <td>TOT</td>\n",
       "      <td>USD_BAR</td>\n",
       "      <td>A</td>\n",
       "      <td>1982</td>\n",
       "      <td>35.42</td>\n",
       "      <td>NaN</td>\n",
       "    </tr>\n",
       "    <tr>\n",
       "      <th>3</th>\n",
       "      <td>AUS</td>\n",
       "      <td>OILIMPPRICE</td>\n",
       "      <td>TOT</td>\n",
       "      <td>USD_BAR</td>\n",
       "      <td>A</td>\n",
       "      <td>1983</td>\n",
       "      <td>30.88</td>\n",
       "      <td>NaN</td>\n",
       "    </tr>\n",
       "    <tr>\n",
       "      <th>4</th>\n",
       "      <td>AUS</td>\n",
       "      <td>OILIMPPRICE</td>\n",
       "      <td>TOT</td>\n",
       "      <td>USD_BAR</td>\n",
       "      <td>A</td>\n",
       "      <td>1984</td>\n",
       "      <td>29.19</td>\n",
       "      <td>NaN</td>\n",
       "    </tr>\n",
       "  </tbody>\n",
       "</table>\n",
       "</div>"
      ],
      "text/plain": [
       "  Country    Indicator Subject    Units Frequency  Time  PriceUSD Flag Codes\n",
       "0     AUS  OILIMPPRICE     TOT  USD_BAR         A  1980     31.81        NaN\n",
       "1     AUS  OILIMPPRICE     TOT  USD_BAR         A  1981     35.88        NaN\n",
       "2     AUS  OILIMPPRICE     TOT  USD_BAR         A  1982     35.42        NaN\n",
       "3     AUS  OILIMPPRICE     TOT  USD_BAR         A  1983     30.88        NaN\n",
       "4     AUS  OILIMPPRICE     TOT  USD_BAR         A  1984     29.19        NaN"
      ]
     },
     "execution_count": 25,
     "metadata": {},
     "output_type": "execute_result"
    }
   ],
   "source": [
    "import pandas as pd\n",
    "_file = 'data/Crude Oil Data/CrudeOilImportPrices.csv'\n",
    "prices = pd.read_csv(_file)\n",
    "prices.head()"
   ]
  },
  {
   "cell_type": "markdown",
   "metadata": {
    "slideshow": {
     "slide_type": "slide"
    }
   },
   "source": [
    "# <div class=\"alert alert-block alert-warning\"> 2. How many rows and columns are in `prices`?</div>"
   ]
  },
  {
   "cell_type": "code",
   "execution_count": 26,
   "metadata": {
    "slideshow": {
     "slide_type": "slide"
    }
   },
   "outputs": [
    {
     "data": {
      "text/plain": [
       "(17360, 8)"
      ]
     },
     "execution_count": 26,
     "metadata": {},
     "output_type": "execute_result"
    }
   ],
   "source": [
    "prices.shape"
   ]
  },
  {
   "cell_type": "markdown",
   "metadata": {
    "collapsed": true,
    "slideshow": {
     "slide_type": "slide"
    }
   },
   "source": [
    "# <div class=\"alert alert-block alert-warning\"> 3. Use Pandas to `describe()` the data frame</div>"
   ]
  },
  {
   "cell_type": "code",
   "execution_count": 28,
   "metadata": {
    "slideshow": {
     "slide_type": "slide"
    }
   },
   "outputs": [
    {
     "name": "stdout",
     "output_type": "stream",
     "text": [
      "Index(['Country', 'Indicator', 'Subject', 'Units', 'Frequency', 'Time',\n",
      "       'PriceUSD', 'Flag Codes'],\n",
      "      dtype='object')\n"
     ]
    },
    {
     "data": {
      "text/plain": [
       "Country        object\n",
       "Indicator      object\n",
       "Subject        object\n",
       "Units          object\n",
       "Frequency      object\n",
       "Time           object\n",
       "PriceUSD      float64\n",
       "Flag Codes     object\n",
       "dtype: object"
      ]
     },
     "execution_count": 28,
     "metadata": {},
     "output_type": "execute_result"
    }
   ],
   "source": [
    "print(prices.columns)\n",
    "prices.describe()\n",
    "prices.dtypes"
   ]
  },
  {
   "cell_type": "markdown",
   "metadata": {
    "collapsed": true,
    "slideshow": {
     "slide_type": "slide"
    }
   },
   "source": [
    "# <div class=\"alert alert-block alert-warning\"> 4. Create a smaller data frame (new) with just the Italy Prices</div>"
   ]
  },
  {
   "cell_type": "markdown",
   "metadata": {
    "slideshow": {
     "slide_type": "slide"
    }
   },
   "source": [
    "### We don't know how Italy appears in the table. Therefore we can print all the unique values, and inspect them.\n",
    "\n",
    "### Hint: use unique()"
   ]
  },
  {
   "cell_type": "code",
   "execution_count": 36,
   "metadata": {
    "slideshow": {
     "slide_type": "slide"
    }
   },
   "outputs": [
    {
     "name": "stdout",
     "output_type": "stream",
     "text": [
      "(620, 8)\n"
     ]
    },
    {
     "data": {
      "text/html": [
       "<div>\n",
       "<style scoped>\n",
       "    .dataframe tbody tr th:only-of-type {\n",
       "        vertical-align: middle;\n",
       "    }\n",
       "\n",
       "    .dataframe tbody tr th {\n",
       "        vertical-align: top;\n",
       "    }\n",
       "\n",
       "    .dataframe thead th {\n",
       "        text-align: right;\n",
       "    }\n",
       "</style>\n",
       "<table border=\"1\" class=\"dataframe\">\n",
       "  <thead>\n",
       "    <tr style=\"text-align: right;\">\n",
       "      <th></th>\n",
       "      <th>Country</th>\n",
       "      <th>Indicator</th>\n",
       "      <th>Subject</th>\n",
       "      <th>Units</th>\n",
       "      <th>Frequency</th>\n",
       "      <th>Time</th>\n",
       "      <th>PriceUSD</th>\n",
       "      <th>Flag Codes</th>\n",
       "    </tr>\n",
       "  </thead>\n",
       "  <tbody>\n",
       "    <tr>\n",
       "      <th>396</th>\n",
       "      <td>ITA</td>\n",
       "      <td>OILIMPPRICE</td>\n",
       "      <td>TOT</td>\n",
       "      <td>USD_BAR</td>\n",
       "      <td>A</td>\n",
       "      <td>1980</td>\n",
       "      <td>31.84</td>\n",
       "      <td>NaN</td>\n",
       "    </tr>\n",
       "    <tr>\n",
       "      <th>397</th>\n",
       "      <td>ITA</td>\n",
       "      <td>OILIMPPRICE</td>\n",
       "      <td>TOT</td>\n",
       "      <td>USD_BAR</td>\n",
       "      <td>A</td>\n",
       "      <td>1981</td>\n",
       "      <td>36.19</td>\n",
       "      <td>NaN</td>\n",
       "    </tr>\n",
       "    <tr>\n",
       "      <th>398</th>\n",
       "      <td>ITA</td>\n",
       "      <td>OILIMPPRICE</td>\n",
       "      <td>TOT</td>\n",
       "      <td>USD_BAR</td>\n",
       "      <td>A</td>\n",
       "      <td>1982</td>\n",
       "      <td>33.07</td>\n",
       "      <td>NaN</td>\n",
       "    </tr>\n",
       "    <tr>\n",
       "      <th>399</th>\n",
       "      <td>ITA</td>\n",
       "      <td>OILIMPPRICE</td>\n",
       "      <td>TOT</td>\n",
       "      <td>USD_BAR</td>\n",
       "      <td>A</td>\n",
       "      <td>1983</td>\n",
       "      <td>29.49</td>\n",
       "      <td>NaN</td>\n",
       "    </tr>\n",
       "    <tr>\n",
       "      <th>400</th>\n",
       "      <td>ITA</td>\n",
       "      <td>OILIMPPRICE</td>\n",
       "      <td>TOT</td>\n",
       "      <td>USD_BAR</td>\n",
       "      <td>A</td>\n",
       "      <td>1984</td>\n",
       "      <td>28.63</td>\n",
       "      <td>NaN</td>\n",
       "    </tr>\n",
       "  </tbody>\n",
       "</table>\n",
       "</div>"
      ],
      "text/plain": [
       "    Country    Indicator Subject    Units Frequency  Time  PriceUSD Flag Codes\n",
       "396     ITA  OILIMPPRICE     TOT  USD_BAR         A  1980     31.84        NaN\n",
       "397     ITA  OILIMPPRICE     TOT  USD_BAR         A  1981     36.19        NaN\n",
       "398     ITA  OILIMPPRICE     TOT  USD_BAR         A  1982     33.07        NaN\n",
       "399     ITA  OILIMPPRICE     TOT  USD_BAR         A  1983     29.49        NaN\n",
       "400     ITA  OILIMPPRICE     TOT  USD_BAR         A  1984     28.63        NaN"
      ]
     },
     "execution_count": 36,
     "metadata": {},
     "output_type": "execute_result"
    }
   ],
   "source": [
    "#prices['Country'].unique()\n",
    "condition = prices['Country']== 'ITA'\n",
    "italy_prices = prices[condition] #we are saving the subset as a new df\n",
    "#prices[condition]\n",
    "print(italy_prices.shape)\n",
    "italy_prices.head()"
   ]
  },
  {
   "cell_type": "markdown",
   "metadata": {
    "collapsed": true,
    "slideshow": {
     "slide_type": "slide"
    }
   },
   "source": [
    "# <div class=\"alert alert-block alert-warning\"> 5. What was the highest (max) price paid by any country? When? </div>"
   ]
  },
  {
   "cell_type": "code",
   "execution_count": 37,
   "metadata": {
    "slideshow": {
     "slide_type": "slide"
    }
   },
   "outputs": [
    {
     "data": {
      "text/plain": [
       "142.29"
      ]
     },
     "execution_count": 37,
     "metadata": {},
     "output_type": "execute_result"
    }
   ],
   "source": [
    "max(prices['PriceUSD'])"
   ]
  },
  {
   "cell_type": "code",
   "execution_count": null,
   "metadata": {
    "slideshow": {
     "slide_type": "fragment"
    }
   },
   "outputs": [],
   "source": [
    "#but we still don't know which country and when...\n",
    "# how to do that? Any ideas?"
   ]
  },
  {
   "cell_type": "code",
   "execution_count": 39,
   "metadata": {
    "slideshow": {
     "slide_type": "slide"
    }
   },
   "outputs": [
    {
     "data": {
      "text/html": [
       "<div>\n",
       "<style scoped>\n",
       "    .dataframe tbody tr th:only-of-type {\n",
       "        vertical-align: middle;\n",
       "    }\n",
       "\n",
       "    .dataframe tbody tr th {\n",
       "        vertical-align: top;\n",
       "    }\n",
       "\n",
       "    .dataframe thead th {\n",
       "        text-align: right;\n",
       "    }\n",
       "</style>\n",
       "<table border=\"1\" class=\"dataframe\">\n",
       "  <thead>\n",
       "    <tr style=\"text-align: right;\">\n",
       "      <th></th>\n",
       "      <th>Country</th>\n",
       "      <th>Indicator</th>\n",
       "      <th>Subject</th>\n",
       "      <th>Units</th>\n",
       "      <th>Frequency</th>\n",
       "      <th>Time</th>\n",
       "      <th>PriceUSD</th>\n",
       "      <th>Flag Codes</th>\n",
       "    </tr>\n",
       "  </thead>\n",
       "  <tbody>\n",
       "    <tr>\n",
       "      <th>5074</th>\n",
       "      <td>AUS</td>\n",
       "      <td>OILIMPPRICE</td>\n",
       "      <td>TOT</td>\n",
       "      <td>USD_BAR</td>\n",
       "      <td>M</td>\n",
       "      <td>2008-07</td>\n",
       "      <td>142.29</td>\n",
       "      <td>NaN</td>\n",
       "    </tr>\n",
       "  </tbody>\n",
       "</table>\n",
       "</div>"
      ],
      "text/plain": [
       "     Country    Indicator Subject    Units Frequency     Time  PriceUSD  \\\n",
       "5074     AUS  OILIMPPRICE     TOT  USD_BAR         M  2008-07    142.29   \n",
       "\n",
       "     Flag Codes  \n",
       "5074        NaN  "
      ]
     },
     "execution_count": 39,
     "metadata": {},
     "output_type": "execute_result"
    }
   ],
   "source": [
    "max_price = max(prices.PriceUSD)\n",
    "max_price_rows = prices['PriceUSD']==max_price\n",
    "\n",
    "prices[max_price_rows]"
   ]
  },
  {
   "cell_type": "markdown",
   "metadata": {
    "collapsed": true,
    "slideshow": {
     "slide_type": "slide"
    }
   },
   "source": [
    "# <div class=\"alert alert-block alert-warning\"> 6. How many different (unique) values does `Frequency` have? </div>"
   ]
  },
  {
   "cell_type": "code",
   "execution_count": 40,
   "metadata": {
    "slideshow": {
     "slide_type": "slide"
    }
   },
   "outputs": [
    {
     "data": {
      "text/plain": [
       "array(['A', 'Q', 'M'], dtype=object)"
      ]
     },
     "execution_count": 40,
     "metadata": {},
     "output_type": "execute_result"
    }
   ],
   "source": [
    "prices['Frequency'].unique()"
   ]
  },
  {
   "cell_type": "markdown",
   "metadata": {
    "slideshow": {
     "slide_type": "slide"
    }
   },
   "source": [
    "# Bonus: How many A, how many Q and how many M?"
   ]
  },
  {
   "cell_type": "code",
   "execution_count": 45,
   "metadata": {
    "slideshow": {
     "slide_type": "slide"
    }
   },
   "outputs": [
    {
     "data": {
      "text/html": [
       "<div>\n",
       "<style scoped>\n",
       "    .dataframe tbody tr th:only-of-type {\n",
       "        vertical-align: middle;\n",
       "    }\n",
       "\n",
       "    .dataframe tbody tr th {\n",
       "        vertical-align: top;\n",
       "    }\n",
       "\n",
       "    .dataframe thead th {\n",
       "        text-align: right;\n",
       "    }\n",
       "</style>\n",
       "<table border=\"1\" class=\"dataframe\">\n",
       "  <thead>\n",
       "    <tr style=\"text-align: right;\">\n",
       "      <th></th>\n",
       "      <th>Country</th>\n",
       "      <th>Indicator</th>\n",
       "      <th>Subject</th>\n",
       "      <th>Units</th>\n",
       "      <th>Frequency</th>\n",
       "      <th>Time</th>\n",
       "      <th>PriceUSD</th>\n",
       "      <th>Flag Codes</th>\n",
       "    </tr>\n",
       "  </thead>\n",
       "  <tbody>\n",
       "    <tr>\n",
       "      <th>0</th>\n",
       "      <td>AUS</td>\n",
       "      <td>OILIMPPRICE</td>\n",
       "      <td>TOT</td>\n",
       "      <td>USD_BAR</td>\n",
       "      <td>A</td>\n",
       "      <td>1980</td>\n",
       "      <td>31.81</td>\n",
       "      <td>NaN</td>\n",
       "    </tr>\n",
       "    <tr>\n",
       "      <th>1</th>\n",
       "      <td>AUS</td>\n",
       "      <td>OILIMPPRICE</td>\n",
       "      <td>TOT</td>\n",
       "      <td>USD_BAR</td>\n",
       "      <td>A</td>\n",
       "      <td>1981</td>\n",
       "      <td>35.88</td>\n",
       "      <td>NaN</td>\n",
       "    </tr>\n",
       "    <tr>\n",
       "      <th>2</th>\n",
       "      <td>AUS</td>\n",
       "      <td>OILIMPPRICE</td>\n",
       "      <td>TOT</td>\n",
       "      <td>USD_BAR</td>\n",
       "      <td>A</td>\n",
       "      <td>1982</td>\n",
       "      <td>35.42</td>\n",
       "      <td>NaN</td>\n",
       "    </tr>\n",
       "    <tr>\n",
       "      <th>3</th>\n",
       "      <td>AUS</td>\n",
       "      <td>OILIMPPRICE</td>\n",
       "      <td>TOT</td>\n",
       "      <td>USD_BAR</td>\n",
       "      <td>A</td>\n",
       "      <td>1983</td>\n",
       "      <td>30.88</td>\n",
       "      <td>NaN</td>\n",
       "    </tr>\n",
       "    <tr>\n",
       "      <th>4</th>\n",
       "      <td>AUS</td>\n",
       "      <td>OILIMPPRICE</td>\n",
       "      <td>TOT</td>\n",
       "      <td>USD_BAR</td>\n",
       "      <td>A</td>\n",
       "      <td>1984</td>\n",
       "      <td>29.19</td>\n",
       "      <td>NaN</td>\n",
       "    </tr>\n",
       "    <tr>\n",
       "      <th>5</th>\n",
       "      <td>AUS</td>\n",
       "      <td>OILIMPPRICE</td>\n",
       "      <td>TOT</td>\n",
       "      <td>USD_BAR</td>\n",
       "      <td>A</td>\n",
       "      <td>1985</td>\n",
       "      <td>28.17</td>\n",
       "      <td>NaN</td>\n",
       "    </tr>\n",
       "    <tr>\n",
       "      <th>6</th>\n",
       "      <td>AUS</td>\n",
       "      <td>OILIMPPRICE</td>\n",
       "      <td>TOT</td>\n",
       "      <td>USD_BAR</td>\n",
       "      <td>A</td>\n",
       "      <td>1986</td>\n",
       "      <td>14.49</td>\n",
       "      <td>NaN</td>\n",
       "    </tr>\n",
       "    <tr>\n",
       "      <th>7</th>\n",
       "      <td>AUS</td>\n",
       "      <td>OILIMPPRICE</td>\n",
       "      <td>TOT</td>\n",
       "      <td>USD_BAR</td>\n",
       "      <td>A</td>\n",
       "      <td>1987</td>\n",
       "      <td>19.00</td>\n",
       "      <td>NaN</td>\n",
       "    </tr>\n",
       "    <tr>\n",
       "      <th>8</th>\n",
       "      <td>AUS</td>\n",
       "      <td>OILIMPPRICE</td>\n",
       "      <td>TOT</td>\n",
       "      <td>USD_BAR</td>\n",
       "      <td>A</td>\n",
       "      <td>1988</td>\n",
       "      <td>15.93</td>\n",
       "      <td>NaN</td>\n",
       "    </tr>\n",
       "    <tr>\n",
       "      <th>9</th>\n",
       "      <td>AUS</td>\n",
       "      <td>OILIMPPRICE</td>\n",
       "      <td>TOT</td>\n",
       "      <td>USD_BAR</td>\n",
       "      <td>A</td>\n",
       "      <td>1989</td>\n",
       "      <td>17.63</td>\n",
       "      <td>NaN</td>\n",
       "    </tr>\n",
       "    <tr>\n",
       "      <th>10</th>\n",
       "      <td>AUS</td>\n",
       "      <td>OILIMPPRICE</td>\n",
       "      <td>TOT</td>\n",
       "      <td>USD_BAR</td>\n",
       "      <td>A</td>\n",
       "      <td>1990</td>\n",
       "      <td>24.21</td>\n",
       "      <td>NaN</td>\n",
       "    </tr>\n",
       "    <tr>\n",
       "      <th>11</th>\n",
       "      <td>AUS</td>\n",
       "      <td>OILIMPPRICE</td>\n",
       "      <td>TOT</td>\n",
       "      <td>USD_BAR</td>\n",
       "      <td>A</td>\n",
       "      <td>1991</td>\n",
       "      <td>20.70</td>\n",
       "      <td>NaN</td>\n",
       "    </tr>\n",
       "    <tr>\n",
       "      <th>12</th>\n",
       "      <td>AUS</td>\n",
       "      <td>OILIMPPRICE</td>\n",
       "      <td>TOT</td>\n",
       "      <td>USD_BAR</td>\n",
       "      <td>A</td>\n",
       "      <td>1992</td>\n",
       "      <td>20.16</td>\n",
       "      <td>NaN</td>\n",
       "    </tr>\n",
       "    <tr>\n",
       "      <th>13</th>\n",
       "      <td>AUS</td>\n",
       "      <td>OILIMPPRICE</td>\n",
       "      <td>TOT</td>\n",
       "      <td>USD_BAR</td>\n",
       "      <td>A</td>\n",
       "      <td>1993</td>\n",
       "      <td>17.91</td>\n",
       "      <td>NaN</td>\n",
       "    </tr>\n",
       "    <tr>\n",
       "      <th>14</th>\n",
       "      <td>AUS</td>\n",
       "      <td>OILIMPPRICE</td>\n",
       "      <td>TOT</td>\n",
       "      <td>USD_BAR</td>\n",
       "      <td>A</td>\n",
       "      <td>1994</td>\n",
       "      <td>16.76</td>\n",
       "      <td>NaN</td>\n",
       "    </tr>\n",
       "    <tr>\n",
       "      <th>15</th>\n",
       "      <td>AUS</td>\n",
       "      <td>OILIMPPRICE</td>\n",
       "      <td>TOT</td>\n",
       "      <td>USD_BAR</td>\n",
       "      <td>A</td>\n",
       "      <td>1995</td>\n",
       "      <td>18.53</td>\n",
       "      <td>NaN</td>\n",
       "    </tr>\n",
       "    <tr>\n",
       "      <th>16</th>\n",
       "      <td>AUS</td>\n",
       "      <td>OILIMPPRICE</td>\n",
       "      <td>TOT</td>\n",
       "      <td>USD_BAR</td>\n",
       "      <td>A</td>\n",
       "      <td>1996</td>\n",
       "      <td>21.81</td>\n",
       "      <td>NaN</td>\n",
       "    </tr>\n",
       "    <tr>\n",
       "      <th>17</th>\n",
       "      <td>AUS</td>\n",
       "      <td>OILIMPPRICE</td>\n",
       "      <td>TOT</td>\n",
       "      <td>USD_BAR</td>\n",
       "      <td>A</td>\n",
       "      <td>1997</td>\n",
       "      <td>21.78</td>\n",
       "      <td>NaN</td>\n",
       "    </tr>\n",
       "    <tr>\n",
       "      <th>18</th>\n",
       "      <td>AUS</td>\n",
       "      <td>OILIMPPRICE</td>\n",
       "      <td>TOT</td>\n",
       "      <td>USD_BAR</td>\n",
       "      <td>A</td>\n",
       "      <td>1998</td>\n",
       "      <td>14.60</td>\n",
       "      <td>NaN</td>\n",
       "    </tr>\n",
       "    <tr>\n",
       "      <th>19</th>\n",
       "      <td>AUS</td>\n",
       "      <td>OILIMPPRICE</td>\n",
       "      <td>TOT</td>\n",
       "      <td>USD_BAR</td>\n",
       "      <td>A</td>\n",
       "      <td>1999</td>\n",
       "      <td>18.38</td>\n",
       "      <td>NaN</td>\n",
       "    </tr>\n",
       "    <tr>\n",
       "      <th>20</th>\n",
       "      <td>AUS</td>\n",
       "      <td>OILIMPPRICE</td>\n",
       "      <td>TOT</td>\n",
       "      <td>USD_BAR</td>\n",
       "      <td>A</td>\n",
       "      <td>2000</td>\n",
       "      <td>30.79</td>\n",
       "      <td>NaN</td>\n",
       "    </tr>\n",
       "    <tr>\n",
       "      <th>21</th>\n",
       "      <td>AUS</td>\n",
       "      <td>OILIMPPRICE</td>\n",
       "      <td>TOT</td>\n",
       "      <td>USD_BAR</td>\n",
       "      <td>A</td>\n",
       "      <td>2001</td>\n",
       "      <td>26.61</td>\n",
       "      <td>NaN</td>\n",
       "    </tr>\n",
       "    <tr>\n",
       "      <th>22</th>\n",
       "      <td>AUS</td>\n",
       "      <td>OILIMPPRICE</td>\n",
       "      <td>TOT</td>\n",
       "      <td>USD_BAR</td>\n",
       "      <td>A</td>\n",
       "      <td>2002</td>\n",
       "      <td>25.80</td>\n",
       "      <td>NaN</td>\n",
       "    </tr>\n",
       "    <tr>\n",
       "      <th>23</th>\n",
       "      <td>AUS</td>\n",
       "      <td>OILIMPPRICE</td>\n",
       "      <td>TOT</td>\n",
       "      <td>USD_BAR</td>\n",
       "      <td>A</td>\n",
       "      <td>2003</td>\n",
       "      <td>31.24</td>\n",
       "      <td>NaN</td>\n",
       "    </tr>\n",
       "    <tr>\n",
       "      <th>24</th>\n",
       "      <td>AUS</td>\n",
       "      <td>OILIMPPRICE</td>\n",
       "      <td>TOT</td>\n",
       "      <td>USD_BAR</td>\n",
       "      <td>A</td>\n",
       "      <td>2004</td>\n",
       "      <td>40.93</td>\n",
       "      <td>NaN</td>\n",
       "    </tr>\n",
       "    <tr>\n",
       "      <th>25</th>\n",
       "      <td>AUS</td>\n",
       "      <td>OILIMPPRICE</td>\n",
       "      <td>TOT</td>\n",
       "      <td>USD_BAR</td>\n",
       "      <td>A</td>\n",
       "      <td>2005</td>\n",
       "      <td>56.71</td>\n",
       "      <td>NaN</td>\n",
       "    </tr>\n",
       "    <tr>\n",
       "      <th>26</th>\n",
       "      <td>AUS</td>\n",
       "      <td>OILIMPPRICE</td>\n",
       "      <td>TOT</td>\n",
       "      <td>USD_BAR</td>\n",
       "      <td>A</td>\n",
       "      <td>2006</td>\n",
       "      <td>66.71</td>\n",
       "      <td>NaN</td>\n",
       "    </tr>\n",
       "    <tr>\n",
       "      <th>27</th>\n",
       "      <td>AUS</td>\n",
       "      <td>OILIMPPRICE</td>\n",
       "      <td>TOT</td>\n",
       "      <td>USD_BAR</td>\n",
       "      <td>A</td>\n",
       "      <td>2007</td>\n",
       "      <td>77.13</td>\n",
       "      <td>NaN</td>\n",
       "    </tr>\n",
       "    <tr>\n",
       "      <th>28</th>\n",
       "      <td>AUS</td>\n",
       "      <td>OILIMPPRICE</td>\n",
       "      <td>TOT</td>\n",
       "      <td>USD_BAR</td>\n",
       "      <td>A</td>\n",
       "      <td>2008</td>\n",
       "      <td>107.83</td>\n",
       "      <td>NaN</td>\n",
       "    </tr>\n",
       "    <tr>\n",
       "      <th>29</th>\n",
       "      <td>AUS</td>\n",
       "      <td>OILIMPPRICE</td>\n",
       "      <td>TOT</td>\n",
       "      <td>USD_BAR</td>\n",
       "      <td>A</td>\n",
       "      <td>2009</td>\n",
       "      <td>63.40</td>\n",
       "      <td>NaN</td>\n",
       "    </tr>\n",
       "    <tr>\n",
       "      <th>...</th>\n",
       "      <td>...</td>\n",
       "      <td>...</td>\n",
       "      <td>...</td>\n",
       "      <td>...</td>\n",
       "      <td>...</td>\n",
       "      <td>...</td>\n",
       "      <td>...</td>\n",
       "      <td>...</td>\n",
       "    </tr>\n",
       "    <tr>\n",
       "      <th>17330</th>\n",
       "      <td>LUX</td>\n",
       "      <td>OILIMPPRICE</td>\n",
       "      <td>TOT</td>\n",
       "      <td>USD_BAR</td>\n",
       "      <td>M</td>\n",
       "      <td>2014-01</td>\n",
       "      <td>NaN</td>\n",
       "      <td>M</td>\n",
       "    </tr>\n",
       "    <tr>\n",
       "      <th>17331</th>\n",
       "      <td>LUX</td>\n",
       "      <td>OILIMPPRICE</td>\n",
       "      <td>TOT</td>\n",
       "      <td>USD_BAR</td>\n",
       "      <td>M</td>\n",
       "      <td>2014-02</td>\n",
       "      <td>NaN</td>\n",
       "      <td>M</td>\n",
       "    </tr>\n",
       "    <tr>\n",
       "      <th>17332</th>\n",
       "      <td>LUX</td>\n",
       "      <td>OILIMPPRICE</td>\n",
       "      <td>TOT</td>\n",
       "      <td>USD_BAR</td>\n",
       "      <td>M</td>\n",
       "      <td>2014-03</td>\n",
       "      <td>NaN</td>\n",
       "      <td>M</td>\n",
       "    </tr>\n",
       "    <tr>\n",
       "      <th>17333</th>\n",
       "      <td>LUX</td>\n",
       "      <td>OILIMPPRICE</td>\n",
       "      <td>TOT</td>\n",
       "      <td>USD_BAR</td>\n",
       "      <td>M</td>\n",
       "      <td>2014-04</td>\n",
       "      <td>NaN</td>\n",
       "      <td>M</td>\n",
       "    </tr>\n",
       "    <tr>\n",
       "      <th>17334</th>\n",
       "      <td>LUX</td>\n",
       "      <td>OILIMPPRICE</td>\n",
       "      <td>TOT</td>\n",
       "      <td>USD_BAR</td>\n",
       "      <td>M</td>\n",
       "      <td>2014-05</td>\n",
       "      <td>NaN</td>\n",
       "      <td>M</td>\n",
       "    </tr>\n",
       "    <tr>\n",
       "      <th>17335</th>\n",
       "      <td>LUX</td>\n",
       "      <td>OILIMPPRICE</td>\n",
       "      <td>TOT</td>\n",
       "      <td>USD_BAR</td>\n",
       "      <td>M</td>\n",
       "      <td>2014-06</td>\n",
       "      <td>NaN</td>\n",
       "      <td>M</td>\n",
       "    </tr>\n",
       "    <tr>\n",
       "      <th>17336</th>\n",
       "      <td>LUX</td>\n",
       "      <td>OILIMPPRICE</td>\n",
       "      <td>TOT</td>\n",
       "      <td>USD_BAR</td>\n",
       "      <td>M</td>\n",
       "      <td>2014-07</td>\n",
       "      <td>NaN</td>\n",
       "      <td>M</td>\n",
       "    </tr>\n",
       "    <tr>\n",
       "      <th>17337</th>\n",
       "      <td>LUX</td>\n",
       "      <td>OILIMPPRICE</td>\n",
       "      <td>TOT</td>\n",
       "      <td>USD_BAR</td>\n",
       "      <td>M</td>\n",
       "      <td>2014-08</td>\n",
       "      <td>NaN</td>\n",
       "      <td>M</td>\n",
       "    </tr>\n",
       "    <tr>\n",
       "      <th>17338</th>\n",
       "      <td>LUX</td>\n",
       "      <td>OILIMPPRICE</td>\n",
       "      <td>TOT</td>\n",
       "      <td>USD_BAR</td>\n",
       "      <td>M</td>\n",
       "      <td>2014-09</td>\n",
       "      <td>NaN</td>\n",
       "      <td>M</td>\n",
       "    </tr>\n",
       "    <tr>\n",
       "      <th>17339</th>\n",
       "      <td>LUX</td>\n",
       "      <td>OILIMPPRICE</td>\n",
       "      <td>TOT</td>\n",
       "      <td>USD_BAR</td>\n",
       "      <td>M</td>\n",
       "      <td>2014-10</td>\n",
       "      <td>NaN</td>\n",
       "      <td>M</td>\n",
       "    </tr>\n",
       "    <tr>\n",
       "      <th>17340</th>\n",
       "      <td>LUX</td>\n",
       "      <td>OILIMPPRICE</td>\n",
       "      <td>TOT</td>\n",
       "      <td>USD_BAR</td>\n",
       "      <td>M</td>\n",
       "      <td>2014-11</td>\n",
       "      <td>NaN</td>\n",
       "      <td>M</td>\n",
       "    </tr>\n",
       "    <tr>\n",
       "      <th>17341</th>\n",
       "      <td>LUX</td>\n",
       "      <td>OILIMPPRICE</td>\n",
       "      <td>TOT</td>\n",
       "      <td>USD_BAR</td>\n",
       "      <td>M</td>\n",
       "      <td>2014-12</td>\n",
       "      <td>NaN</td>\n",
       "      <td>M</td>\n",
       "    </tr>\n",
       "    <tr>\n",
       "      <th>17342</th>\n",
       "      <td>LUX</td>\n",
       "      <td>OILIMPPRICE</td>\n",
       "      <td>TOT</td>\n",
       "      <td>USD_BAR</td>\n",
       "      <td>M</td>\n",
       "      <td>2015-01</td>\n",
       "      <td>NaN</td>\n",
       "      <td>M</td>\n",
       "    </tr>\n",
       "    <tr>\n",
       "      <th>17343</th>\n",
       "      <td>LUX</td>\n",
       "      <td>OILIMPPRICE</td>\n",
       "      <td>TOT</td>\n",
       "      <td>USD_BAR</td>\n",
       "      <td>M</td>\n",
       "      <td>2015-02</td>\n",
       "      <td>NaN</td>\n",
       "      <td>M</td>\n",
       "    </tr>\n",
       "    <tr>\n",
       "      <th>17344</th>\n",
       "      <td>LUX</td>\n",
       "      <td>OILIMPPRICE</td>\n",
       "      <td>TOT</td>\n",
       "      <td>USD_BAR</td>\n",
       "      <td>M</td>\n",
       "      <td>2015-03</td>\n",
       "      <td>NaN</td>\n",
       "      <td>M</td>\n",
       "    </tr>\n",
       "    <tr>\n",
       "      <th>17345</th>\n",
       "      <td>LUX</td>\n",
       "      <td>OILIMPPRICE</td>\n",
       "      <td>TOT</td>\n",
       "      <td>USD_BAR</td>\n",
       "      <td>M</td>\n",
       "      <td>2015-04</td>\n",
       "      <td>NaN</td>\n",
       "      <td>M</td>\n",
       "    </tr>\n",
       "    <tr>\n",
       "      <th>17346</th>\n",
       "      <td>LUX</td>\n",
       "      <td>OILIMPPRICE</td>\n",
       "      <td>TOT</td>\n",
       "      <td>USD_BAR</td>\n",
       "      <td>M</td>\n",
       "      <td>2015-05</td>\n",
       "      <td>NaN</td>\n",
       "      <td>M</td>\n",
       "    </tr>\n",
       "    <tr>\n",
       "      <th>17347</th>\n",
       "      <td>LUX</td>\n",
       "      <td>OILIMPPRICE</td>\n",
       "      <td>TOT</td>\n",
       "      <td>USD_BAR</td>\n",
       "      <td>M</td>\n",
       "      <td>2015-06</td>\n",
       "      <td>NaN</td>\n",
       "      <td>M</td>\n",
       "    </tr>\n",
       "    <tr>\n",
       "      <th>17348</th>\n",
       "      <td>LUX</td>\n",
       "      <td>OILIMPPRICE</td>\n",
       "      <td>TOT</td>\n",
       "      <td>USD_BAR</td>\n",
       "      <td>M</td>\n",
       "      <td>2015-07</td>\n",
       "      <td>NaN</td>\n",
       "      <td>M</td>\n",
       "    </tr>\n",
       "    <tr>\n",
       "      <th>17349</th>\n",
       "      <td>LUX</td>\n",
       "      <td>OILIMPPRICE</td>\n",
       "      <td>TOT</td>\n",
       "      <td>USD_BAR</td>\n",
       "      <td>M</td>\n",
       "      <td>2015-08</td>\n",
       "      <td>NaN</td>\n",
       "      <td>M</td>\n",
       "    </tr>\n",
       "    <tr>\n",
       "      <th>17350</th>\n",
       "      <td>LUX</td>\n",
       "      <td>OILIMPPRICE</td>\n",
       "      <td>TOT</td>\n",
       "      <td>USD_BAR</td>\n",
       "      <td>M</td>\n",
       "      <td>2015-09</td>\n",
       "      <td>NaN</td>\n",
       "      <td>M</td>\n",
       "    </tr>\n",
       "    <tr>\n",
       "      <th>17351</th>\n",
       "      <td>LUX</td>\n",
       "      <td>OILIMPPRICE</td>\n",
       "      <td>TOT</td>\n",
       "      <td>USD_BAR</td>\n",
       "      <td>M</td>\n",
       "      <td>2015-10</td>\n",
       "      <td>NaN</td>\n",
       "      <td>M</td>\n",
       "    </tr>\n",
       "    <tr>\n",
       "      <th>17352</th>\n",
       "      <td>LUX</td>\n",
       "      <td>OILIMPPRICE</td>\n",
       "      <td>TOT</td>\n",
       "      <td>USD_BAR</td>\n",
       "      <td>M</td>\n",
       "      <td>2015-11</td>\n",
       "      <td>NaN</td>\n",
       "      <td>M</td>\n",
       "    </tr>\n",
       "    <tr>\n",
       "      <th>17353</th>\n",
       "      <td>LUX</td>\n",
       "      <td>OILIMPPRICE</td>\n",
       "      <td>TOT</td>\n",
       "      <td>USD_BAR</td>\n",
       "      <td>M</td>\n",
       "      <td>2015-12</td>\n",
       "      <td>NaN</td>\n",
       "      <td>M</td>\n",
       "    </tr>\n",
       "    <tr>\n",
       "      <th>17354</th>\n",
       "      <td>LUX</td>\n",
       "      <td>OILIMPPRICE</td>\n",
       "      <td>TOT</td>\n",
       "      <td>USD_BAR</td>\n",
       "      <td>M</td>\n",
       "      <td>2016-01</td>\n",
       "      <td>NaN</td>\n",
       "      <td>M</td>\n",
       "    </tr>\n",
       "    <tr>\n",
       "      <th>17355</th>\n",
       "      <td>LUX</td>\n",
       "      <td>OILIMPPRICE</td>\n",
       "      <td>TOT</td>\n",
       "      <td>USD_BAR</td>\n",
       "      <td>M</td>\n",
       "      <td>2016-02</td>\n",
       "      <td>NaN</td>\n",
       "      <td>M</td>\n",
       "    </tr>\n",
       "    <tr>\n",
       "      <th>17356</th>\n",
       "      <td>LUX</td>\n",
       "      <td>OILIMPPRICE</td>\n",
       "      <td>TOT</td>\n",
       "      <td>USD_BAR</td>\n",
       "      <td>M</td>\n",
       "      <td>2016-03</td>\n",
       "      <td>NaN</td>\n",
       "      <td>M</td>\n",
       "    </tr>\n",
       "    <tr>\n",
       "      <th>17357</th>\n",
       "      <td>LUX</td>\n",
       "      <td>OILIMPPRICE</td>\n",
       "      <td>TOT</td>\n",
       "      <td>USD_BAR</td>\n",
       "      <td>M</td>\n",
       "      <td>2016-04</td>\n",
       "      <td>NaN</td>\n",
       "      <td>M</td>\n",
       "    </tr>\n",
       "    <tr>\n",
       "      <th>17358</th>\n",
       "      <td>LUX</td>\n",
       "      <td>OILIMPPRICE</td>\n",
       "      <td>TOT</td>\n",
       "      <td>USD_BAR</td>\n",
       "      <td>M</td>\n",
       "      <td>2016-05</td>\n",
       "      <td>NaN</td>\n",
       "      <td>M</td>\n",
       "    </tr>\n",
       "    <tr>\n",
       "      <th>17359</th>\n",
       "      <td>LUX</td>\n",
       "      <td>OILIMPPRICE</td>\n",
       "      <td>TOT</td>\n",
       "      <td>USD_BAR</td>\n",
       "      <td>M</td>\n",
       "      <td>2016-06</td>\n",
       "      <td>NaN</td>\n",
       "      <td>M</td>\n",
       "    </tr>\n",
       "  </tbody>\n",
       "</table>\n",
       "<p>17360 rows × 8 columns</p>\n",
       "</div>"
      ],
      "text/plain": [
       "      Country    Indicator Subject    Units Frequency     Time  PriceUSD  \\\n",
       "0         AUS  OILIMPPRICE     TOT  USD_BAR         A     1980     31.81   \n",
       "1         AUS  OILIMPPRICE     TOT  USD_BAR         A     1981     35.88   \n",
       "2         AUS  OILIMPPRICE     TOT  USD_BAR         A     1982     35.42   \n",
       "3         AUS  OILIMPPRICE     TOT  USD_BAR         A     1983     30.88   \n",
       "4         AUS  OILIMPPRICE     TOT  USD_BAR         A     1984     29.19   \n",
       "5         AUS  OILIMPPRICE     TOT  USD_BAR         A     1985     28.17   \n",
       "6         AUS  OILIMPPRICE     TOT  USD_BAR         A     1986     14.49   \n",
       "7         AUS  OILIMPPRICE     TOT  USD_BAR         A     1987     19.00   \n",
       "8         AUS  OILIMPPRICE     TOT  USD_BAR         A     1988     15.93   \n",
       "9         AUS  OILIMPPRICE     TOT  USD_BAR         A     1989     17.63   \n",
       "10        AUS  OILIMPPRICE     TOT  USD_BAR         A     1990     24.21   \n",
       "11        AUS  OILIMPPRICE     TOT  USD_BAR         A     1991     20.70   \n",
       "12        AUS  OILIMPPRICE     TOT  USD_BAR         A     1992     20.16   \n",
       "13        AUS  OILIMPPRICE     TOT  USD_BAR         A     1993     17.91   \n",
       "14        AUS  OILIMPPRICE     TOT  USD_BAR         A     1994     16.76   \n",
       "15        AUS  OILIMPPRICE     TOT  USD_BAR         A     1995     18.53   \n",
       "16        AUS  OILIMPPRICE     TOT  USD_BAR         A     1996     21.81   \n",
       "17        AUS  OILIMPPRICE     TOT  USD_BAR         A     1997     21.78   \n",
       "18        AUS  OILIMPPRICE     TOT  USD_BAR         A     1998     14.60   \n",
       "19        AUS  OILIMPPRICE     TOT  USD_BAR         A     1999     18.38   \n",
       "20        AUS  OILIMPPRICE     TOT  USD_BAR         A     2000     30.79   \n",
       "21        AUS  OILIMPPRICE     TOT  USD_BAR         A     2001     26.61   \n",
       "22        AUS  OILIMPPRICE     TOT  USD_BAR         A     2002     25.80   \n",
       "23        AUS  OILIMPPRICE     TOT  USD_BAR         A     2003     31.24   \n",
       "24        AUS  OILIMPPRICE     TOT  USD_BAR         A     2004     40.93   \n",
       "25        AUS  OILIMPPRICE     TOT  USD_BAR         A     2005     56.71   \n",
       "26        AUS  OILIMPPRICE     TOT  USD_BAR         A     2006     66.71   \n",
       "27        AUS  OILIMPPRICE     TOT  USD_BAR         A     2007     77.13   \n",
       "28        AUS  OILIMPPRICE     TOT  USD_BAR         A     2008    107.83   \n",
       "29        AUS  OILIMPPRICE     TOT  USD_BAR         A     2009     63.40   \n",
       "...       ...          ...     ...      ...       ...      ...       ...   \n",
       "17330     LUX  OILIMPPRICE     TOT  USD_BAR         M  2014-01       NaN   \n",
       "17331     LUX  OILIMPPRICE     TOT  USD_BAR         M  2014-02       NaN   \n",
       "17332     LUX  OILIMPPRICE     TOT  USD_BAR         M  2014-03       NaN   \n",
       "17333     LUX  OILIMPPRICE     TOT  USD_BAR         M  2014-04       NaN   \n",
       "17334     LUX  OILIMPPRICE     TOT  USD_BAR         M  2014-05       NaN   \n",
       "17335     LUX  OILIMPPRICE     TOT  USD_BAR         M  2014-06       NaN   \n",
       "17336     LUX  OILIMPPRICE     TOT  USD_BAR         M  2014-07       NaN   \n",
       "17337     LUX  OILIMPPRICE     TOT  USD_BAR         M  2014-08       NaN   \n",
       "17338     LUX  OILIMPPRICE     TOT  USD_BAR         M  2014-09       NaN   \n",
       "17339     LUX  OILIMPPRICE     TOT  USD_BAR         M  2014-10       NaN   \n",
       "17340     LUX  OILIMPPRICE     TOT  USD_BAR         M  2014-11       NaN   \n",
       "17341     LUX  OILIMPPRICE     TOT  USD_BAR         M  2014-12       NaN   \n",
       "17342     LUX  OILIMPPRICE     TOT  USD_BAR         M  2015-01       NaN   \n",
       "17343     LUX  OILIMPPRICE     TOT  USD_BAR         M  2015-02       NaN   \n",
       "17344     LUX  OILIMPPRICE     TOT  USD_BAR         M  2015-03       NaN   \n",
       "17345     LUX  OILIMPPRICE     TOT  USD_BAR         M  2015-04       NaN   \n",
       "17346     LUX  OILIMPPRICE     TOT  USD_BAR         M  2015-05       NaN   \n",
       "17347     LUX  OILIMPPRICE     TOT  USD_BAR         M  2015-06       NaN   \n",
       "17348     LUX  OILIMPPRICE     TOT  USD_BAR         M  2015-07       NaN   \n",
       "17349     LUX  OILIMPPRICE     TOT  USD_BAR         M  2015-08       NaN   \n",
       "17350     LUX  OILIMPPRICE     TOT  USD_BAR         M  2015-09       NaN   \n",
       "17351     LUX  OILIMPPRICE     TOT  USD_BAR         M  2015-10       NaN   \n",
       "17352     LUX  OILIMPPRICE     TOT  USD_BAR         M  2015-11       NaN   \n",
       "17353     LUX  OILIMPPRICE     TOT  USD_BAR         M  2015-12       NaN   \n",
       "17354     LUX  OILIMPPRICE     TOT  USD_BAR         M  2016-01       NaN   \n",
       "17355     LUX  OILIMPPRICE     TOT  USD_BAR         M  2016-02       NaN   \n",
       "17356     LUX  OILIMPPRICE     TOT  USD_BAR         M  2016-03       NaN   \n",
       "17357     LUX  OILIMPPRICE     TOT  USD_BAR         M  2016-04       NaN   \n",
       "17358     LUX  OILIMPPRICE     TOT  USD_BAR         M  2016-05       NaN   \n",
       "17359     LUX  OILIMPPRICE     TOT  USD_BAR         M  2016-06       NaN   \n",
       "\n",
       "      Flag Codes  \n",
       "0            NaN  \n",
       "1            NaN  \n",
       "2            NaN  \n",
       "3            NaN  \n",
       "4            NaN  \n",
       "5            NaN  \n",
       "6            NaN  \n",
       "7            NaN  \n",
       "8            NaN  \n",
       "9            NaN  \n",
       "10           NaN  \n",
       "11           NaN  \n",
       "12           NaN  \n",
       "13           NaN  \n",
       "14           NaN  \n",
       "15           NaN  \n",
       "16           NaN  \n",
       "17           NaN  \n",
       "18           NaN  \n",
       "19           NaN  \n",
       "20           NaN  \n",
       "21           NaN  \n",
       "22           NaN  \n",
       "23           NaN  \n",
       "24           NaN  \n",
       "25           NaN  \n",
       "26           NaN  \n",
       "27           NaN  \n",
       "28           NaN  \n",
       "29           NaN  \n",
       "...          ...  \n",
       "17330          M  \n",
       "17331          M  \n",
       "17332          M  \n",
       "17333          M  \n",
       "17334          M  \n",
       "17335          M  \n",
       "17336          M  \n",
       "17337          M  \n",
       "17338          M  \n",
       "17339          M  \n",
       "17340          M  \n",
       "17341          M  \n",
       "17342          M  \n",
       "17343          M  \n",
       "17344          M  \n",
       "17345          M  \n",
       "17346          M  \n",
       "17347          M  \n",
       "17348          M  \n",
       "17349          M  \n",
       "17350          M  \n",
       "17351          M  \n",
       "17352          M  \n",
       "17353          M  \n",
       "17354          M  \n",
       "17355          M  \n",
       "17356          M  \n",
       "17357          M  \n",
       "17358          M  \n",
       "17359          M  \n",
       "\n",
       "[17360 rows x 8 columns]"
      ]
     },
     "execution_count": 45,
     "metadata": {},
     "output_type": "execute_result"
    }
   ],
   "source": [
    "prices['Frequency'].value_counts()"
   ]
  },
  {
   "cell_type": "markdown",
   "metadata": {
    "collapsed": true,
    "slideshow": {
     "slide_type": "slide"
    }
   },
   "source": [
    "# <div class=\"alert alert-block alert-warning\"> 7. Plot Italy's *annual* Import Prices </div>\n"
   ]
  },
  {
   "cell_type": "code",
   "execution_count": 42,
   "metadata": {
    "slideshow": {
     "slide_type": "slide"
    }
   },
   "outputs": [],
   "source": [
    "%matplotlib inline\n",
    "import matplotlib.pyplot as plt"
   ]
  },
  {
   "cell_type": "code",
   "execution_count": 43,
   "metadata": {
    "slideshow": {
     "slide_type": "slide"
    }
   },
   "outputs": [
    {
     "data": {
      "text/plain": [
       "<matplotlib.axes._subplots.AxesSubplot at 0x29a08b9ca58>"
      ]
     },
     "execution_count": 43,
     "metadata": {},
     "output_type": "execute_result"
    },
    {
     "data": {
      "image/png": "[encoded data removed]",
      "text/plain": [
       "<Figure size 432x288 with 1 Axes>"
      ]
     },
     "metadata": {
      "needs_background": "light"
     },
     "output_type": "display_data"
    }
   ],
   "source": [
    "italy_prices['PriceUSD'].plot()"
   ]
  },
  {
   "cell_type": "code",
   "execution_count": 47,
   "metadata": {
    "slideshow": {
     "slide_type": "slide"
    }
   },
   "outputs": [
    {
     "data": {
      "text/plain": [
       "<matplotlib.axes._subplots.AxesSubplot at 0x29a08ec70f0>"
      ]
     },
     "execution_count": 47,
     "metadata": {},
     "output_type": "execute_result"
    },
    {
     "data": {
      "image/png": "[encoded data removed]",
      "text/plain": [
       "<Figure size 432x288 with 1 Axes>"
      ]
     },
     "metadata": {
      "needs_background": "light"
     },
     "output_type": "display_data"
    }
   ],
   "source": [
    "#italy_prices[italy_prices['Frequency']=='A']\n",
    "italy_prices[italy_prices['Frequency']=='A']['PriceUSD'].plot()\n"
   ]
  },
  {
   "cell_type": "markdown",
   "metadata": {
    "slideshow": {
     "slide_type": "slide"
    }
   },
   "source": [
    "# There is a problem with this plot. The x-axis is not very informative.\n",
    "It is giving us row numbers. What we want is the Year. That means that we should use the column \"Time.\""
   ]
  },
  {
   "cell_type": "code",
   "execution_count": 48,
   "metadata": {
    "slideshow": {
     "slide_type": "slide"
    }
   },
   "outputs": [
    {
     "data": {
      "text/plain": [
       "<matplotlib.axes._subplots.AxesSubplot at 0x29a08fef6d8>"
      ]
     },
     "execution_count": 48,
     "metadata": {},
     "output_type": "execute_result"
    },
    {
     "data": {
      "image/png": "[encoded data removed]",
      "text/plain": [
       "<Figure size 432x288 with 1 Axes>"
      ]
     },
     "metadata": {
      "needs_background": "light"
     },
     "output_type": "display_data"
    }
   ],
   "source": [
    "italy_prices[italy_prices['Frequency']=='M'].plot(x='Time', y='PriceUSD')"
   ]
  },
  {
   "cell_type": "code",
   "execution_count": 49,
   "metadata": {
    "slideshow": {
     "slide_type": "slide"
    }
   },
   "outputs": [
    {
     "data": {
      "text/plain": [
       "<matplotlib.axes._subplots.AxesSubplot at 0x29a098ffa90>"
      ]
     },
     "execution_count": 49,
     "metadata": {},
     "output_type": "execute_result"
    },
    {
     "data": {
      "image/png": "[encoded data removed]",
      "text/plain": [
       "<Figure size 792x288 with 1 Axes>"
      ]
     },
     "metadata": {
      "needs_background": "light"
     },
     "output_type": "display_data"
    }
   ],
   "source": [
    "italy_prices[italy_prices['Frequency']=='M'].plot(x='Time', y='PriceUSD', \n",
    "                                                  figsize=(11,4))"
   ]
  },
  {
   "cell_type": "markdown",
   "metadata": {
    "slideshow": {
     "slide_type": "slide"
    }
   },
   "source": [
    "# In case we want to convert the line graph to a bar plot, it is quite simple."
   ]
  },
  {
   "cell_type": "code",
   "execution_count": 50,
   "metadata": {
    "slideshow": {
     "slide_type": "slide"
    }
   },
   "outputs": [
    {
     "ename": "AttributeError",
     "evalue": "'DataFrame' object has no attribute 'barplot'",
     "output_type": "error",
     "traceback": [
      "\u001b[1;31m---------------------------------------------------------------------------\u001b[0m",
      "\u001b[1;31mAttributeError\u001b[0m                            Traceback (most recent call last)",
      "\u001b[1;32m<ipython-input-50-a43215e0a781>\u001b[0m in \u001b[0;36m<module>\u001b[1;34m\u001b[0m\n\u001b[0;32m      1\u001b[0m \u001b[1;31m#Logical thing is to try barplot. But that doesn't work.\u001b[0m\u001b[1;33m\u001b[0m\u001b[1;33m\u001b[0m\u001b[1;33m\u001b[0m\u001b[0m\n\u001b[1;32m----> 2\u001b[1;33m \u001b[0mitaly_prices\u001b[0m\u001b[1;33m[\u001b[0m\u001b[0mitaly_prices\u001b[0m\u001b[1;33m[\u001b[0m\u001b[1;34m'Frequency'\u001b[0m\u001b[1;33m]\u001b[0m\u001b[1;33m==\u001b[0m\u001b[1;34m'A'\u001b[0m\u001b[1;33m]\u001b[0m\u001b[1;33m.\u001b[0m\u001b[0mbarplot\u001b[0m\u001b[1;33m(\u001b[0m\u001b[0mx\u001b[0m\u001b[1;33m=\u001b[0m\u001b[1;34m'Time'\u001b[0m\u001b[1;33m,\u001b[0m \u001b[0my\u001b[0m\u001b[1;33m=\u001b[0m\u001b[1;34m'PriceUSD'\u001b[0m\u001b[1;33m)\u001b[0m \u001b[1;31m#just add kind=\"bar\"\u001b[0m\u001b[1;33m\u001b[0m\u001b[1;33m\u001b[0m\u001b[0m\n\u001b[0m",
      "\u001b[1;32m~\\Anaconda3\\lib\\site-packages\\pandas\\core\\generic.py\u001b[0m in \u001b[0;36m__getattr__\u001b[1;34m(self, name)\u001b[0m\n\u001b[0;32m   5065\u001b[0m             \u001b[1;32mif\u001b[0m \u001b[0mself\u001b[0m\u001b[1;33m.\u001b[0m\u001b[0m_info_axis\u001b[0m\u001b[1;33m.\u001b[0m\u001b[0m_can_hold_identifiers_and_holds_name\u001b[0m\u001b[1;33m(\u001b[0m\u001b[0mname\u001b[0m\u001b[1;33m)\u001b[0m\u001b[1;33m:\u001b[0m\u001b[1;33m\u001b[0m\u001b[1;33m\u001b[0m\u001b[0m\n\u001b[0;32m   5066\u001b[0m                 \u001b[1;32mreturn\u001b[0m \u001b[0mself\u001b[0m\u001b[1;33m[\u001b[0m\u001b[0mname\u001b[0m\u001b[1;33m]\u001b[0m\u001b[1;33m\u001b[0m\u001b[1;33m\u001b[0m\u001b[0m\n\u001b[1;32m-> 5067\u001b[1;33m             \u001b[1;32mreturn\u001b[0m \u001b[0mobject\u001b[0m\u001b[1;33m.\u001b[0m\u001b[0m__getattribute__\u001b[0m\u001b[1;33m(\u001b[0m\u001b[0mself\u001b[0m\u001b[1;33m,\u001b[0m \u001b[0mname\u001b[0m\u001b[1;33m)\u001b[0m\u001b[1;33m\u001b[0m\u001b[1;33m\u001b[0m\u001b[0m\n\u001b[0m\u001b[0;32m   5068\u001b[0m \u001b[1;33m\u001b[0m\u001b[0m\n\u001b[0;32m   5069\u001b[0m     \u001b[1;32mdef\u001b[0m \u001b[0m__setattr__\u001b[0m\u001b[1;33m(\u001b[0m\u001b[0mself\u001b[0m\u001b[1;33m,\u001b[0m \u001b[0mname\u001b[0m\u001b[1;33m,\u001b[0m \u001b[0mvalue\u001b[0m\u001b[1;33m)\u001b[0m\u001b[1;33m:\u001b[0m\u001b[1;33m\u001b[0m\u001b[1;33m\u001b[0m\u001b[0m\n",
      "\u001b[1;31mAttributeError\u001b[0m: 'DataFrame' object has no attribute 'barplot'"
     ]
    }
   ],
   "source": [
    "#Logical thing is to try barplot. But that doesn't work.\n",
    "italy_prices[italy_prices['Frequency']=='A'].barplot(x='Time', y='PriceUSD') #just add kind=\"bar\""
   ]
  },
  {
   "cell_type": "code",
   "execution_count": 53,
   "metadata": {
    "slideshow": {
     "slide_type": "slide"
    }
   },
   "outputs": [
    {
     "data": {
      "text/plain": [
       "<matplotlib.axes._subplots.AxesSubplot at 0x29a09aaf2b0>"
      ]
     },
     "execution_count": 53,
     "metadata": {},
     "output_type": "execute_result"
    },
    {
     "data": {
      "image/png": "[encoded data removed]",
      "text/plain": [
       "<Figure size 792x288 with 1 Axes>"
      ]
     },
     "metadata": {
      "needs_background": "light"
     },
     "output_type": "display_data"
    }
   ],
   "source": [
    "italy_prices[italy_prices['Frequency']=='A'].plot(figsize=(11,4), x='Time', y='PriceUSD', \n",
    "                                                  \n",
    "                                                  kind=\"bar\" \n",
    "                                                  ) "
   ]
  },
  {
   "cell_type": "markdown",
   "metadata": {
    "slideshow": {
     "slide_type": "slide"
    }
   },
   "source": [
    "`[] {} \" \" ' ' ( )`\n",
    "![Questions](images/questions.png)"
   ]
  },
  {
   "cell_type": "markdown",
   "metadata": {},
   "source": [
    "`[] {} \" \" ' ' ( )`\n"
   ]
  }
 ],
 "metadata": {
  "kernelspec": {
   "display_name": "Python 3",
   "language": "python",
   "name": "python3"
  },
  "language_info": {
   "codemirror_mode": {
    "name": "ipython",
    "version": 3
   },
   "file_extension": ".py",
   "mimetype": "text/x-python",
   "name": "python",
   "nbconvert_exporter": "python",
   "pygments_lexer": "ipython3",
   "version": "3.7.3"
  }
 },
 "nbformat": 4,
 "nbformat_minor": 2
}
