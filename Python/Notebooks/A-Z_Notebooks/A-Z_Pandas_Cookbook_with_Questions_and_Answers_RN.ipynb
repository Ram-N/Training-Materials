{
 "cells": [
  {
   "cell_type": "markdown",
   "metadata": {
    "slideshow": {
     "slide_type": "slide"
    }
   },
   "source": [
    "### Pandas A-Z\n",
    "\n",
    "# Pandas Cookbook with Questions and Answers\n",
    "<img src = \"images/logo.jpg\" width=\"100\" align=\"left\">\n",
    "\n",
    "<br><br><br><br>Ram Narasimhan"
   ]
  },
  {
   "cell_type": "markdown",
   "metadata": {
    "slideshow": {
     "slide_type": "slide"
    }
   },
   "source": [
    "# About the Cookbook\n",
    "\n",
    "For all data analysis tasks using Python, the Pandas module is used quite extensively. I have created this \"Cookbook\" so that new learners can use it as a reference for all the common tasks that go along with Data Analysis using Python.\n",
    "\n",
    "This Notebook is divided into multiple sections by concept.<br>\n",
    "Just refer to the Table of Contents and click the link to get your answers.\n"
   ]
  },
  {
   "cell_type": "markdown",
   "metadata": {},
   "source": [
    "# Table of Contents\n",
    "\n",
    "<a id='top'></a>"
   ]
  },
  {
   "cell_type": "markdown",
   "metadata": {},
   "source": [
    "## Part 1: Reading, Writing and Creating Data Frame\n",
    "\n",
    "- **1.1 How to read a CSV file as a Pandas data frame?**\n",
    "- **1.2 How to quickly create a Data frame and specify the columns?**\n",
    "- **1.3 How to copy a data frame into another name?**\n",
    "- **1.4 How to WRITE a data frame to a CSV file?**\n",
    "\n",
    "<a href='#part1'>Go to Part 1</a>"
   ]
  },
  {
   "cell_type": "markdown",
   "metadata": {},
   "source": [
    "## Part 2: Viewing sections of the Data Frame\n",
    "\n",
    "- **2.1 View the number of rows and columns in a data frame**\n",
    "- **2.2 View the top few rows, bottom few rows of the data frame**\n",
    "- **2.3 View the list of columns in a data frame**\n",
    "- **2.4 View the Index of a data frame**\n",
    "- **2.5 Describe all the numerical columns of a data frame**"
   ]
  },
  {
   "cell_type": "markdown",
   "metadata": {},
   "source": [
    "## Part 3: Interacting with Data Frame Columns\n",
    "\n",
    "- **3.1 View the content of one particular column, if you know its name**\n",
    "- **3.2 Create a new column, based on some existing columns**\n",
    "- **3.3 How to find the data types of each column in a data frame?**\n",
    "- **3.4 How to find the max() or min() of a column?**\n",
    "- **3.5 How to count the number of unique values in one column?**\n",
    "- **3.6 How to count the frequency of *each* unique value in one column?**\n",
    "- **3.7 How to rename columns?**\n",
    "- **3.8 How to Drop a column?**\n",
    "- **3.9 How to rearrange the columns in a data frame?**"
   ]
  },
  {
   "cell_type": "markdown",
   "metadata": {},
   "source": [
    "## Part 4: Working with the Index\n",
    "\n",
    "- **4.1 How to make one of the columns into the new Index?**\n",
    "- **4.2 How to Select just a few specific rows?**\n",
    "- **4.3 How to specify the column to be the index, when reading in a CSV file?**"
   ]
  },
  {
   "cell_type": "markdown",
   "metadata": {},
   "source": [
    "## Part 5: Selecting and Subsetting (with Boolean Masks)\n",
    "\n",
    "- **5.1 How to specify the column to be the index, when reading in a CSV file?**\n",
    "\n"
   ]
  },
  {
   "cell_type": "markdown",
   "metadata": {},
   "source": [
    "## Part 6: Working with DateTime and DateTimeIndex\n",
    "\n",
    "\n",
    "<a href='#part6'>Go to Part 6</a>\n",
    "\n",
    "\n",
    "- ** 6.1 How to convert a column from string to `datetime`? **\n",
    "- ** 6.2 How to select the hour, date, month and year from a `datetime` column?**\n",
    "- ** 6.3 How to make a datetime column to be the Index?**\n",
    "- ** 6.4 How to select a time slice of the data frame, based on DateTimeIndex?**\n",
    "- ** 6.5 How to resample (aggregate) over different time periods? To get monthly/daily averages?**"
   ]
  },
  {
   "cell_type": "markdown",
   "metadata": {
    "slideshow": {
     "slide_type": "slide"
    }
   },
   "source": [
    "## Part 7: Dealing with Missing Data\n"
   ]
  },
  {
   "cell_type": "markdown",
   "metadata": {},
   "source": [
    "- **7.1 How to print all the rows (indices) where one particular column has missing values? **\n",
    "- ** 7.2 Count the number of Missing values in one Column **\n",
    "- ** 7.3 How to drop the rows that contain at least one missing value? **"
   ]
  },
  {
   "cell_type": "markdown",
   "metadata": {},
   "source": [
    "## Part 8: Sorting in a DataFrame\n",
    "\n",
    "- ** 8.1 How to Sort a Dataframe by the values of a column?**\n",
    "- ** 8.2 How to change the sort order to be descending?**\n",
    "- ** 8.3 How to Sort a Dataframe by its Index? **\n",
    "\n",
    "\n",
    "For more on sorting:\n",
    "- [CMDLINE TIPS Article on Sorting](http://cmdlinetips.com/2018/02/how-to-sort-pandas-dataframe-by-columns-and-row/)"
   ]
  },
  {
   "cell_type": "markdown",
   "metadata": {
    "slideshow": {
     "slide_type": "slide"
    }
   },
   "source": [
    "## Part 9: Plotting Using Pandas"
   ]
  },
  {
   "cell_type": "markdown",
   "metadata": {},
   "source": [
    "- **9.1 How to plot a histogram of one NUMERICAL Column?**\n",
    "- **9.2 How to plot a scatter plot of 2 columns?**\n",
    "- **9.3 How to create a bar plot of 2 columns?**\n",
    "- **9.4 How to Save a Plot to a file?**\n",
    "\n"
   ]
  },
  {
   "cell_type": "markdown",
   "metadata": {
    "slideshow": {
     "slide_type": "slide"
    }
   },
   "source": [
    "## Part 10: Grouping By Columns\n",
    "\n",
    "<a href='#part10'>Go to Part 10 - GroupBy</a>\n"
   ]
  },
  {
   "cell_type": "markdown",
   "metadata": {},
   "source": [
    "- **10.1 How to form a simple group by grouping one Column?**\n",
    "- **10.2 How to List all the groups?**\n",
    "\n",
    "**10.3 How to display the first (last) value of each group?**\n",
    "\n",
    "**10.4 How to display one single group?**\n",
    "\n",
    "**10.5 How to display the count of all the groups?**\n",
    "\n",
    "**10.6 How to Calculate Group Totals?**\n",
    "\n",
    "**10.7 How to Groupby one column, and Perform Multiple Aggregations over another Column?**\n",
    "\n",
    "**10.8 Perform multiple Aggregations across multiple columns after grouping**\n",
    "\n",
    "**10.9 How to Apply a custom function inside `agg` after grouping**\n"
   ]
  },
  {
   "cell_type": "markdown",
   "metadata": {
    "slideshow": {
     "slide_type": "slide"
    }
   },
   "source": [
    "## Part 11: Working with Text data in Columns"
   ]
  },
  {
   "cell_type": "markdown",
   "metadata": {},
   "source": [
    "- **11.1 How to Calculate the lengths of the strings in a text column?**\n",
    "- **11.2 How to Check if a particular substring is present Calculate the lengths of the strings in a text column?**\n",
    "- **11.3 How to Split a Column Based on some text?**\n"
   ]
  },
  {
   "cell_type": "markdown",
   "metadata": {},
   "source": [
    "----\n",
    "# <div class=\"alert-success\">Solutions </div>\n",
    "# <div class=\"alert-success\">  </div>\n",
    "# <div class=\"alert-success\">  </div>\n",
    "---"
   ]
  },
  {
   "cell_type": "code",
   "execution_count": 2,
   "metadata": {
    "slideshow": {
     "slide_type": "slide"
    }
   },
   "outputs": [],
   "source": [
    "import numpy as np #a new module\n",
    "import pandas as pd #we will see this more and more\n",
    "import matplotlib.pyplot as plt #plotting module\n",
    "import seaborn as sns # Seaborn for plotting and styling\n",
    "sns.set(color_codes=True)\n",
    "\n",
    "#shows the graphs in the Notebook itself. (INLINE)\n",
    "%matplotlib inline "
   ]
  },
  {
   "cell_type": "markdown",
   "metadata": {},
   "source": [
    "### Data Files\n",
    "\n",
    "For most of the tasks in this Cookbook, we will be using the following Data Frame. So let's create one with some dummy data to help understand the concepts and called it `df`."
   ]
  },
  {
   "cell_type": "code",
   "execution_count": 57,
   "metadata": {},
   "outputs": [
    {
     "data": {
      "text/html": [
       "<div>\n",
       "<style scoped>\n",
       "    .dataframe tbody tr th:only-of-type {\n",
       "        vertical-align: middle;\n",
       "    }\n",
       "\n",
       "    .dataframe tbody tr th {\n",
       "        vertical-align: top;\n",
       "    }\n",
       "\n",
       "    .dataframe thead th {\n",
       "        text-align: right;\n",
       "    }\n",
       "</style>\n",
       "<table border=\"1\" class=\"dataframe\">\n",
       "  <thead>\n",
       "    <tr style=\"text-align: right;\">\n",
       "      <th></th>\n",
       "      <th>Date</th>\n",
       "      <th>Time</th>\n",
       "      <th>Col One</th>\n",
       "      <th>Temp</th>\n",
       "      <th>Names</th>\n",
       "      <th>Pressure_psi</th>\n",
       "    </tr>\n",
       "  </thead>\n",
       "  <tbody>\n",
       "    <tr>\n",
       "      <th>0</th>\n",
       "      <td>2/23/2019</td>\n",
       "      <td>9:01</td>\n",
       "      <td>Zero</td>\n",
       "      <td>21.9</td>\n",
       "      <td>John</td>\n",
       "      <td>14.900</td>\n",
       "    </tr>\n",
       "    <tr>\n",
       "      <th>1</th>\n",
       "      <td>2/23/2019</td>\n",
       "      <td>13:22</td>\n",
       "      <td>One</td>\n",
       "      <td>34.2</td>\n",
       "      <td>Mary</td>\n",
       "      <td>14.300</td>\n",
       "    </tr>\n",
       "    <tr>\n",
       "      <th>2</th>\n",
       "      <td>2/23/2019</td>\n",
       "      <td>14:58</td>\n",
       "      <td>Two</td>\n",
       "      <td>28.0</td>\n",
       "      <td>John</td>\n",
       "      <td>NaN</td>\n",
       "    </tr>\n",
       "    <tr>\n",
       "      <th>3</th>\n",
       "      <td>2/23/2019</td>\n",
       "      <td>17:31</td>\n",
       "      <td>Three</td>\n",
       "      <td>29.4</td>\n",
       "      <td>Peter</td>\n",
       "      <td>14.669</td>\n",
       "    </tr>\n",
       "    <tr>\n",
       "      <th>4</th>\n",
       "      <td>2/27/2019</td>\n",
       "      <td>8:29</td>\n",
       "      <td>Four</td>\n",
       "      <td>12.0</td>\n",
       "      <td>Ali</td>\n",
       "      <td>14.810</td>\n",
       "    </tr>\n",
       "    <tr>\n",
       "      <th>5</th>\n",
       "      <td>3/3/2019</td>\n",
       "      <td>11:11</td>\n",
       "      <td>Five</td>\n",
       "      <td>14.5</td>\n",
       "      <td>Ravi</td>\n",
       "      <td>14.730</td>\n",
       "    </tr>\n",
       "    <tr>\n",
       "      <th>6</th>\n",
       "      <td>3/3/2019</td>\n",
       "      <td>13:08</td>\n",
       "      <td>Six</td>\n",
       "      <td>40.9</td>\n",
       "      <td>NaN</td>\n",
       "      <td>14.270</td>\n",
       "    </tr>\n",
       "    <tr>\n",
       "      <th>7</th>\n",
       "      <td>3/3/2019</td>\n",
       "      <td>9:01</td>\n",
       "      <td>Seven</td>\n",
       "      <td>35.5</td>\n",
       "      <td>NaN</td>\n",
       "      <td>14.900</td>\n",
       "    </tr>\n",
       "    <tr>\n",
       "      <th>8</th>\n",
       "      <td>3/3/2019</td>\n",
       "      <td>7:33</td>\n",
       "      <td>Eight</td>\n",
       "      <td>23.2</td>\n",
       "      <td>Mariam</td>\n",
       "      <td>14.880</td>\n",
       "    </tr>\n",
       "    <tr>\n",
       "      <th>9</th>\n",
       "      <td>3/3/2019</td>\n",
       "      <td>14:29</td>\n",
       "      <td>Nine</td>\n",
       "      <td>38.6</td>\n",
       "      <td>Mary</td>\n",
       "      <td>14.710</td>\n",
       "    </tr>\n",
       "  </tbody>\n",
       "</table>\n",
       "</div>"
      ],
      "text/plain": [
       "        Date   Time Col One  Temp   Names  Pressure_psi\n",
       "0  2/23/2019   9:01    Zero  21.9    John        14.900\n",
       "1  2/23/2019  13:22    One   34.2    Mary        14.300\n",
       "2  2/23/2019  14:58     Two  28.0    John           NaN\n",
       "3  2/23/2019  17:31   Three  29.4   Peter        14.669\n",
       "4  2/27/2019   8:29    Four  12.0     Ali        14.810\n",
       "5   3/3/2019  11:11    Five  14.5    Ravi        14.730\n",
       "6   3/3/2019  13:08     Six  40.9     NaN        14.270\n",
       "7   3/3/2019   9:01   Seven  35.5     NaN        14.900\n",
       "8   3/3/2019   7:33   Eight  23.2  Mariam        14.880\n",
       "9   3/3/2019  14:29    Nine  38.6    Mary        14.710"
      ]
     },
     "execution_count": 57,
     "metadata": {},
     "output_type": "execute_result"
    }
   ],
   "source": [
    "df = pd.DataFrame({'Date': ['2/23/2019', '2/23/2019', '2/23/2019', '2/23/2019', '2/27/2019', '3/3/2019', '3/3/2019', '3/3/2019', '3/3/2019', '3/3/2019']\n",
    ",'Time' :['9:01','13:22', '14:58', '17:31', '8:29', '11:11', '13:08', '9:01', '7:33', '14:29']\n",
    ",'Col One' : ['Zero', 'One ', 'Two', 'Three', 'Four', 'Five', 'Six', 'Seven', 'Eight', 'Nine']\n",
    ",'Temp' : [21.9, 34.2, 28.0, 29.4, 12.0, 14.5, 40.9, 35.5, 23.2, 38.6]\n",
    ",'Names' : ['John', 'Mary', 'John', 'Peter', 'Ali', 'Ravi', np.nan, np.nan, 'Mariam', 'Mary'] \n",
    ",'Pressure_psi' : [14.9, 14.3, np.nan,  14.669, 14.81, 14.73, 14.27, 14.9, 14.88, 14.71]})\n",
    "    \n",
    "df\n"
   ]
  },
  {
   "cell_type": "markdown",
   "metadata": {},
   "source": [
    "## Part 1: Reading, Writing and Creating Data Frame\n",
    "\n",
    "<a id='part1'>"
   ]
  },
  {
   "cell_type": "code",
   "execution_count": 4,
   "metadata": {},
   "outputs": [],
   "source": [
    "#- **1.1 How to read a CSV file as a Pandas data frame?**\n",
    "df_from_file = pd.read_csv(\"data/example.csv\")"
   ]
  },
  {
   "cell_type": "code",
   "execution_count": 5,
   "metadata": {},
   "outputs": [
    {
     "data": {
      "text/html": [
       "<div>\n",
       "<style scoped>\n",
       "    .dataframe tbody tr th:only-of-type {\n",
       "        vertical-align: middle;\n",
       "    }\n",
       "\n",
       "    .dataframe tbody tr th {\n",
       "        vertical-align: top;\n",
       "    }\n",
       "\n",
       "    .dataframe thead th {\n",
       "        text-align: right;\n",
       "    }\n",
       "</style>\n",
       "<table border=\"1\" class=\"dataframe\">\n",
       "  <thead>\n",
       "    <tr style=\"text-align: right;\">\n",
       "      <th></th>\n",
       "      <th>Date</th>\n",
       "      <th>Time</th>\n",
       "      <th>Col One</th>\n",
       "      <th>Temp</th>\n",
       "      <th>Names</th>\n",
       "      <th>Pressure_psi</th>\n",
       "    </tr>\n",
       "  </thead>\n",
       "  <tbody>\n",
       "    <tr>\n",
       "      <th>0</th>\n",
       "      <td>2/23/2019</td>\n",
       "      <td>9:01</td>\n",
       "      <td>Zero</td>\n",
       "      <td>21.9</td>\n",
       "      <td>John</td>\n",
       "      <td>14.900</td>\n",
       "    </tr>\n",
       "    <tr>\n",
       "      <th>1</th>\n",
       "      <td>2/23/2019</td>\n",
       "      <td>13:22</td>\n",
       "      <td>One</td>\n",
       "      <td>34.2</td>\n",
       "      <td>Mary</td>\n",
       "      <td>NaN</td>\n",
       "    </tr>\n",
       "    <tr>\n",
       "      <th>2</th>\n",
       "      <td>2/23/2019</td>\n",
       "      <td>14:58</td>\n",
       "      <td>Two</td>\n",
       "      <td>28.0</td>\n",
       "      <td>John</td>\n",
       "      <td>14.700</td>\n",
       "    </tr>\n",
       "    <tr>\n",
       "      <th>3</th>\n",
       "      <td>2/23/2019</td>\n",
       "      <td>17:31</td>\n",
       "      <td>Three</td>\n",
       "      <td>29.4</td>\n",
       "      <td>Peter</td>\n",
       "      <td>14.669</td>\n",
       "    </tr>\n",
       "    <tr>\n",
       "      <th>4</th>\n",
       "      <td>2/27/2019</td>\n",
       "      <td>8:29</td>\n",
       "      <td>Four</td>\n",
       "      <td>12.0</td>\n",
       "      <td>Ali</td>\n",
       "      <td>14.810</td>\n",
       "    </tr>\n",
       "    <tr>\n",
       "      <th>5</th>\n",
       "      <td>3/3/2019</td>\n",
       "      <td>11:11</td>\n",
       "      <td>Five</td>\n",
       "      <td>14.5</td>\n",
       "      <td>Ravi</td>\n",
       "      <td>14.730</td>\n",
       "    </tr>\n",
       "    <tr>\n",
       "      <th>6</th>\n",
       "      <td>3/3/2019</td>\n",
       "      <td>13:08</td>\n",
       "      <td>Six</td>\n",
       "      <td>40.9</td>\n",
       "      <td>NaN</td>\n",
       "      <td>14.270</td>\n",
       "    </tr>\n",
       "    <tr>\n",
       "      <th>7</th>\n",
       "      <td>3/3/2019</td>\n",
       "      <td>9:01</td>\n",
       "      <td>Seven</td>\n",
       "      <td>35.5</td>\n",
       "      <td>NaN</td>\n",
       "      <td>14.900</td>\n",
       "    </tr>\n",
       "    <tr>\n",
       "      <th>8</th>\n",
       "      <td>3/3/2019</td>\n",
       "      <td>7:33</td>\n",
       "      <td>Eight</td>\n",
       "      <td>23.2</td>\n",
       "      <td>Mariam</td>\n",
       "      <td>14.880</td>\n",
       "    </tr>\n",
       "    <tr>\n",
       "      <th>9</th>\n",
       "      <td>3/3/2019</td>\n",
       "      <td>14:29</td>\n",
       "      <td>Nine</td>\n",
       "      <td>38.6</td>\n",
       "      <td>Merry</td>\n",
       "      <td>14.710</td>\n",
       "    </tr>\n",
       "  </tbody>\n",
       "</table>\n",
       "</div>"
      ],
      "text/plain": [
       "        Date   Time Col One  Temp   Names  Pressure_psi\n",
       "0  2/23/2019   9:01    Zero  21.9    John        14.900\n",
       "1  2/23/2019  13:22    One   34.2    Mary           NaN\n",
       "2  2/23/2019  14:58     Two  28.0    John        14.700\n",
       "3  2/23/2019  17:31   Three  29.4   Peter        14.669\n",
       "4  2/27/2019   8:29    Four  12.0     Ali        14.810\n",
       "5   3/3/2019  11:11    Five  14.5    Ravi        14.730\n",
       "6   3/3/2019  13:08     Six  40.9     NaN        14.270\n",
       "7   3/3/2019   9:01   Seven  35.5     NaN        14.900\n",
       "8   3/3/2019   7:33   Eight  23.2  Mariam        14.880\n",
       "9   3/3/2019  14:29    Nine  38.6   Merry        14.710"
      ]
     },
     "execution_count": 5,
     "metadata": {},
     "output_type": "execute_result"
    }
   ],
   "source": [
    "df"
   ]
  },
  {
   "cell_type": "markdown",
   "metadata": {},
   "source": [
    "-  **1.2 How to quickly create a Data frame and specify the column Names?**"
   ]
  },
  {
   "cell_type": "code",
   "execution_count": 6,
   "metadata": {},
   "outputs": [],
   "source": [
    "df2 = pd.DataFrame({'col1':range(10), 'col2': np.random.randint(10, 100, size=10)})"
   ]
  },
  {
   "cell_type": "code",
   "execution_count": 7,
   "metadata": {},
   "outputs": [
    {
     "data": {
      "text/html": [
       "<div>\n",
       "<style scoped>\n",
       "    .dataframe tbody tr th:only-of-type {\n",
       "        vertical-align: middle;\n",
       "    }\n",
       "\n",
       "    .dataframe tbody tr th {\n",
       "        vertical-align: top;\n",
       "    }\n",
       "\n",
       "    .dataframe thead th {\n",
       "        text-align: right;\n",
       "    }\n",
       "</style>\n",
       "<table border=\"1\" class=\"dataframe\">\n",
       "  <thead>\n",
       "    <tr style=\"text-align: right;\">\n",
       "      <th></th>\n",
       "      <th>col1</th>\n",
       "      <th>col2</th>\n",
       "    </tr>\n",
       "  </thead>\n",
       "  <tbody>\n",
       "    <tr>\n",
       "      <th>0</th>\n",
       "      <td>0</td>\n",
       "      <td>64</td>\n",
       "    </tr>\n",
       "    <tr>\n",
       "      <th>1</th>\n",
       "      <td>1</td>\n",
       "      <td>31</td>\n",
       "    </tr>\n",
       "    <tr>\n",
       "      <th>2</th>\n",
       "      <td>2</td>\n",
       "      <td>48</td>\n",
       "    </tr>\n",
       "    <tr>\n",
       "      <th>3</th>\n",
       "      <td>3</td>\n",
       "      <td>88</td>\n",
       "    </tr>\n",
       "    <tr>\n",
       "      <th>4</th>\n",
       "      <td>4</td>\n",
       "      <td>61</td>\n",
       "    </tr>\n",
       "  </tbody>\n",
       "</table>\n",
       "</div>"
      ],
      "text/plain": [
       "   col1  col2\n",
       "0     0    64\n",
       "1     1    31\n",
       "2     2    48\n",
       "3     3    88\n",
       "4     4    61"
      ]
     },
     "execution_count": 7,
     "metadata": {},
     "output_type": "execute_result"
    }
   ],
   "source": [
    "df2.head()"
   ]
  },
  {
   "cell_type": "markdown",
   "metadata": {},
   "source": [
    "- **1.3 How to copy a data frame into another name?**"
   ]
  },
  {
   "cell_type": "code",
   "execution_count": 8,
   "metadata": {},
   "outputs": [],
   "source": [
    "df3 = df.copy()\n",
    "#If you plan on modifying an extracted data frame, its a good idea to make a copy."
   ]
  },
  {
   "cell_type": "markdown",
   "metadata": {},
   "source": [
    "- **1.4 How to WRITE a data frame to a CSV file?**"
   ]
  },
  {
   "cell_type": "code",
   "execution_count": 9,
   "metadata": {},
   "outputs": [],
   "source": [
    "df2.to_csv(\"data/newdatafile.csv\") #will end up in the data directory under the given name."
   ]
  },
  {
   "cell_type": "markdown",
   "metadata": {},
   "source": [
    "## Part 2: Viewing sections of the Data Frame\n",
    "\n",
    "<a id='part2'>"
   ]
  },
  {
   "cell_type": "markdown",
   "metadata": {},
   "source": [
    "- **2.1 View the number of rows and columns in a data frame**"
   ]
  },
  {
   "cell_type": "code",
   "execution_count": 70,
   "metadata": {},
   "outputs": [
    {
     "data": {
      "text/plain": [
       "(10, 6)"
      ]
     },
     "execution_count": 70,
     "metadata": {},
     "output_type": "execute_result"
    }
   ],
   "source": [
    "df.shape # note that there is no brackets. Shape does not take any arguments"
   ]
  },
  {
   "cell_type": "markdown",
   "metadata": {},
   "source": [
    "- **2.2 View the top few rows, bottom few rows of the data frame**"
   ]
  },
  {
   "cell_type": "code",
   "execution_count": 71,
   "metadata": {},
   "outputs": [
    {
     "data": {
      "text/html": [
       "<div>\n",
       "<style scoped>\n",
       "    .dataframe tbody tr th:only-of-type {\n",
       "        vertical-align: middle;\n",
       "    }\n",
       "\n",
       "    .dataframe tbody tr th {\n",
       "        vertical-align: top;\n",
       "    }\n",
       "\n",
       "    .dataframe thead th {\n",
       "        text-align: right;\n",
       "    }\n",
       "</style>\n",
       "<table border=\"1\" class=\"dataframe\">\n",
       "  <thead>\n",
       "    <tr style=\"text-align: right;\">\n",
       "      <th></th>\n",
       "      <th>Date</th>\n",
       "      <th>Time</th>\n",
       "      <th>Col One</th>\n",
       "      <th>Temp</th>\n",
       "      <th>Names</th>\n",
       "      <th>Pressure_psi</th>\n",
       "    </tr>\n",
       "  </thead>\n",
       "  <tbody>\n",
       "    <tr>\n",
       "      <th>0</th>\n",
       "      <td>2/23/2019</td>\n",
       "      <td>9:01</td>\n",
       "      <td>Zero</td>\n",
       "      <td>21.9</td>\n",
       "      <td>John</td>\n",
       "      <td>14.900</td>\n",
       "    </tr>\n",
       "    <tr>\n",
       "      <th>1</th>\n",
       "      <td>2/23/2019</td>\n",
       "      <td>13:22</td>\n",
       "      <td>One</td>\n",
       "      <td>34.2</td>\n",
       "      <td>Mary</td>\n",
       "      <td>NaN</td>\n",
       "    </tr>\n",
       "    <tr>\n",
       "      <th>2</th>\n",
       "      <td>2/23/2019</td>\n",
       "      <td>14:58</td>\n",
       "      <td>Two</td>\n",
       "      <td>28.0</td>\n",
       "      <td>John</td>\n",
       "      <td>14.700</td>\n",
       "    </tr>\n",
       "    <tr>\n",
       "      <th>3</th>\n",
       "      <td>2/23/2019</td>\n",
       "      <td>17:31</td>\n",
       "      <td>Three</td>\n",
       "      <td>29.4</td>\n",
       "      <td>Peter</td>\n",
       "      <td>14.669</td>\n",
       "    </tr>\n",
       "    <tr>\n",
       "      <th>4</th>\n",
       "      <td>2/27/2019</td>\n",
       "      <td>8:29</td>\n",
       "      <td>Four</td>\n",
       "      <td>12.0</td>\n",
       "      <td>Ali</td>\n",
       "      <td>14.810</td>\n",
       "    </tr>\n",
       "  </tbody>\n",
       "</table>\n",
       "</div>"
      ],
      "text/plain": [
       "        Date   Time Col One  Temp  Names  Pressure_psi\n",
       "0  2/23/2019   9:01    Zero  21.9   John        14.900\n",
       "1  2/23/2019  13:22    One   34.2   Mary           NaN\n",
       "2  2/23/2019  14:58     Two  28.0   John        14.700\n",
       "3  2/23/2019  17:31   Three  29.4  Peter        14.669\n",
       "4  2/27/2019   8:29    Four  12.0    Ali        14.810"
      ]
     },
     "execution_count": 71,
     "metadata": {},
     "output_type": "execute_result"
    }
   ],
   "source": [
    "df.head()"
   ]
  },
  {
   "cell_type": "code",
   "execution_count": 72,
   "metadata": {},
   "outputs": [
    {
     "data": {
      "text/html": [
       "<div>\n",
       "<style scoped>\n",
       "    .dataframe tbody tr th:only-of-type {\n",
       "        vertical-align: middle;\n",
       "    }\n",
       "\n",
       "    .dataframe tbody tr th {\n",
       "        vertical-align: top;\n",
       "    }\n",
       "\n",
       "    .dataframe thead th {\n",
       "        text-align: right;\n",
       "    }\n",
       "</style>\n",
       "<table border=\"1\" class=\"dataframe\">\n",
       "  <thead>\n",
       "    <tr style=\"text-align: right;\">\n",
       "      <th></th>\n",
       "      <th>Date</th>\n",
       "      <th>Time</th>\n",
       "      <th>Col One</th>\n",
       "      <th>Temp</th>\n",
       "      <th>Names</th>\n",
       "      <th>Pressure_psi</th>\n",
       "    </tr>\n",
       "  </thead>\n",
       "  <tbody>\n",
       "    <tr>\n",
       "      <th>6</th>\n",
       "      <td>3/3/2019</td>\n",
       "      <td>13:08</td>\n",
       "      <td>Six</td>\n",
       "      <td>40.9</td>\n",
       "      <td>NaN</td>\n",
       "      <td>14.27</td>\n",
       "    </tr>\n",
       "    <tr>\n",
       "      <th>7</th>\n",
       "      <td>3/3/2019</td>\n",
       "      <td>9:01</td>\n",
       "      <td>Seven</td>\n",
       "      <td>35.5</td>\n",
       "      <td>NaN</td>\n",
       "      <td>14.90</td>\n",
       "    </tr>\n",
       "    <tr>\n",
       "      <th>8</th>\n",
       "      <td>3/3/2019</td>\n",
       "      <td>7:33</td>\n",
       "      <td>Eight</td>\n",
       "      <td>23.2</td>\n",
       "      <td>Mariam</td>\n",
       "      <td>14.88</td>\n",
       "    </tr>\n",
       "    <tr>\n",
       "      <th>9</th>\n",
       "      <td>3/3/2019</td>\n",
       "      <td>14:29</td>\n",
       "      <td>Nine</td>\n",
       "      <td>38.6</td>\n",
       "      <td>Merry</td>\n",
       "      <td>14.71</td>\n",
       "    </tr>\n",
       "  </tbody>\n",
       "</table>\n",
       "</div>"
      ],
      "text/plain": [
       "       Date   Time Col One  Temp   Names  Pressure_psi\n",
       "6  3/3/2019  13:08     Six  40.9     NaN         14.27\n",
       "7  3/3/2019   9:01   Seven  35.5     NaN         14.90\n",
       "8  3/3/2019   7:33   Eight  23.2  Mariam         14.88\n",
       "9  3/3/2019  14:29    Nine  38.6   Merry         14.71"
      ]
     },
     "execution_count": 72,
     "metadata": {},
     "output_type": "execute_result"
    }
   ],
   "source": [
    "df.tail(4) # View the last n rows"
   ]
  },
  {
   "cell_type": "markdown",
   "metadata": {},
   "source": [
    "- **2.3 View the list of columns in a data frame**"
   ]
  },
  {
   "cell_type": "code",
   "execution_count": 73,
   "metadata": {},
   "outputs": [
    {
     "data": {
      "text/plain": [
       "Index(['Date', 'Time', 'Col One', 'Temp', 'Names', 'Pressure_psi'], dtype='object')"
      ]
     },
     "execution_count": 73,
     "metadata": {},
     "output_type": "execute_result"
    }
   ],
   "source": [
    "df.columns"
   ]
  },
  {
   "cell_type": "code",
   "execution_count": 74,
   "metadata": {},
   "outputs": [
    {
     "data": {
      "text/plain": [
       "'Col One'"
      ]
     },
     "execution_count": 74,
     "metadata": {},
     "output_type": "execute_result"
    }
   ],
   "source": [
    "#if you want to get the column name, just use its index and get the name as a string.\n",
    "#This is very useful if your columns have long names\n",
    "df.columns[2]"
   ]
  },
  {
   "cell_type": "markdown",
   "metadata": {},
   "source": [
    "- **2.4 View the content of one particular column, if you know its name**"
   ]
  },
  {
   "cell_type": "code",
   "execution_count": 75,
   "metadata": {},
   "outputs": [
    {
     "data": {
      "text/plain": [
       "0      John\n",
       "1      Mary\n",
       "2      John\n",
       "3     Peter\n",
       "4       Ali\n",
       "5      Ravi\n",
       "6       NaN\n",
       "7       NaN\n",
       "8    Mariam\n",
       "9     Merry\n",
       "Name: Names, dtype: object"
      ]
     },
     "execution_count": 75,
     "metadata": {},
     "output_type": "execute_result"
    }
   ],
   "source": [
    "df['Names']"
   ]
  },
  {
   "cell_type": "markdown",
   "metadata": {},
   "source": [
    "- **2.5 View the Index of a data frame**"
   ]
  },
  {
   "cell_type": "code",
   "execution_count": 76,
   "metadata": {},
   "outputs": [
    {
     "data": {
      "text/plain": [
       "RangeIndex(start=0, stop=10, step=1)"
      ]
     },
     "execution_count": 76,
     "metadata": {},
     "output_type": "execute_result"
    }
   ],
   "source": [
    "df.index"
   ]
  },
  {
   "cell_type": "markdown",
   "metadata": {},
   "source": [
    "## Part 3: Interacting with Data Frame Columns"
   ]
  },
  {
   "cell_type": "markdown",
   "metadata": {},
   "source": [
    "- **3.1 View the content of one particular column, if you know its name**"
   ]
  },
  {
   "cell_type": "code",
   "execution_count": 77,
   "metadata": {},
   "outputs": [
    {
     "data": {
      "text/plain": [
       "0     Zero\n",
       "1     One \n",
       "2      Two\n",
       "3    Three\n",
       "4     Four\n",
       "5     Five\n",
       "6      Six\n",
       "7    Seven\n",
       "8    Eight\n",
       "9     Nine\n",
       "Name: Col One, dtype: object"
      ]
     },
     "execution_count": 77,
     "metadata": {},
     "output_type": "execute_result"
    }
   ],
   "source": [
    "df['Col One']"
   ]
  },
  {
   "cell_type": "markdown",
   "metadata": {},
   "source": [
    "- **3.2 Create a new column, based on some existing columns**"
   ]
  },
  {
   "cell_type": "code",
   "execution_count": 78,
   "metadata": {},
   "outputs": [
    {
     "data": {
      "text/html": [
       "<div>\n",
       "<style scoped>\n",
       "    .dataframe tbody tr th:only-of-type {\n",
       "        vertical-align: middle;\n",
       "    }\n",
       "\n",
       "    .dataframe tbody tr th {\n",
       "        vertical-align: top;\n",
       "    }\n",
       "\n",
       "    .dataframe thead th {\n",
       "        text-align: right;\n",
       "    }\n",
       "</style>\n",
       "<table border=\"1\" class=\"dataframe\">\n",
       "  <thead>\n",
       "    <tr style=\"text-align: right;\">\n",
       "      <th></th>\n",
       "      <th>Date</th>\n",
       "      <th>Time</th>\n",
       "      <th>Col One</th>\n",
       "      <th>Temp</th>\n",
       "      <th>Names</th>\n",
       "      <th>Pressure_psi</th>\n",
       "      <th>New Column</th>\n",
       "      <th>IntegerTemp</th>\n",
       "    </tr>\n",
       "  </thead>\n",
       "  <tbody>\n",
       "    <tr>\n",
       "      <th>0</th>\n",
       "      <td>2/23/2019</td>\n",
       "      <td>9:01</td>\n",
       "      <td>Zero</td>\n",
       "      <td>21.9</td>\n",
       "      <td>John</td>\n",
       "      <td>14.900</td>\n",
       "      <td>Zero John</td>\n",
       "      <td>21</td>\n",
       "    </tr>\n",
       "    <tr>\n",
       "      <th>1</th>\n",
       "      <td>2/23/2019</td>\n",
       "      <td>13:22</td>\n",
       "      <td>One</td>\n",
       "      <td>34.2</td>\n",
       "      <td>Mary</td>\n",
       "      <td>NaN</td>\n",
       "      <td>One  Mary</td>\n",
       "      <td>34</td>\n",
       "    </tr>\n",
       "    <tr>\n",
       "      <th>2</th>\n",
       "      <td>2/23/2019</td>\n",
       "      <td>14:58</td>\n",
       "      <td>Two</td>\n",
       "      <td>28.0</td>\n",
       "      <td>John</td>\n",
       "      <td>14.700</td>\n",
       "      <td>Two John</td>\n",
       "      <td>28</td>\n",
       "    </tr>\n",
       "    <tr>\n",
       "      <th>3</th>\n",
       "      <td>2/23/2019</td>\n",
       "      <td>17:31</td>\n",
       "      <td>Three</td>\n",
       "      <td>29.4</td>\n",
       "      <td>Peter</td>\n",
       "      <td>14.669</td>\n",
       "      <td>Three Peter</td>\n",
       "      <td>29</td>\n",
       "    </tr>\n",
       "    <tr>\n",
       "      <th>4</th>\n",
       "      <td>2/27/2019</td>\n",
       "      <td>8:29</td>\n",
       "      <td>Four</td>\n",
       "      <td>12.0</td>\n",
       "      <td>Ali</td>\n",
       "      <td>14.810</td>\n",
       "      <td>Four Ali</td>\n",
       "      <td>12</td>\n",
       "    </tr>\n",
       "    <tr>\n",
       "      <th>5</th>\n",
       "      <td>3/3/2019</td>\n",
       "      <td>11:11</td>\n",
       "      <td>Five</td>\n",
       "      <td>14.5</td>\n",
       "      <td>Ravi</td>\n",
       "      <td>14.730</td>\n",
       "      <td>Five Ravi</td>\n",
       "      <td>14</td>\n",
       "    </tr>\n",
       "    <tr>\n",
       "      <th>6</th>\n",
       "      <td>3/3/2019</td>\n",
       "      <td>13:08</td>\n",
       "      <td>Six</td>\n",
       "      <td>40.9</td>\n",
       "      <td>NaN</td>\n",
       "      <td>14.270</td>\n",
       "      <td>NaN</td>\n",
       "      <td>40</td>\n",
       "    </tr>\n",
       "    <tr>\n",
       "      <th>7</th>\n",
       "      <td>3/3/2019</td>\n",
       "      <td>9:01</td>\n",
       "      <td>Seven</td>\n",
       "      <td>35.5</td>\n",
       "      <td>NaN</td>\n",
       "      <td>14.900</td>\n",
       "      <td>NaN</td>\n",
       "      <td>35</td>\n",
       "    </tr>\n",
       "    <tr>\n",
       "      <th>8</th>\n",
       "      <td>3/3/2019</td>\n",
       "      <td>7:33</td>\n",
       "      <td>Eight</td>\n",
       "      <td>23.2</td>\n",
       "      <td>Mariam</td>\n",
       "      <td>14.880</td>\n",
       "      <td>Eight Mariam</td>\n",
       "      <td>23</td>\n",
       "    </tr>\n",
       "    <tr>\n",
       "      <th>9</th>\n",
       "      <td>3/3/2019</td>\n",
       "      <td>14:29</td>\n",
       "      <td>Nine</td>\n",
       "      <td>38.6</td>\n",
       "      <td>Merry</td>\n",
       "      <td>14.710</td>\n",
       "      <td>Nine Merry</td>\n",
       "      <td>38</td>\n",
       "    </tr>\n",
       "  </tbody>\n",
       "</table>\n",
       "</div>"
      ],
      "text/plain": [
       "        Date   Time Col One  Temp   Names  Pressure_psi    New Column  \\\n",
       "0  2/23/2019   9:01    Zero  21.9    John        14.900     Zero John   \n",
       "1  2/23/2019  13:22    One   34.2    Mary           NaN     One  Mary   \n",
       "2  2/23/2019  14:58     Two  28.0    John        14.700      Two John   \n",
       "3  2/23/2019  17:31   Three  29.4   Peter        14.669   Three Peter   \n",
       "4  2/27/2019   8:29    Four  12.0     Ali        14.810      Four Ali   \n",
       "5   3/3/2019  11:11    Five  14.5    Ravi        14.730     Five Ravi   \n",
       "6   3/3/2019  13:08     Six  40.9     NaN        14.270           NaN   \n",
       "7   3/3/2019   9:01   Seven  35.5     NaN        14.900           NaN   \n",
       "8   3/3/2019   7:33   Eight  23.2  Mariam        14.880  Eight Mariam   \n",
       "9   3/3/2019  14:29    Nine  38.6   Merry        14.710    Nine Merry   \n",
       "\n",
       "   IntegerTemp  \n",
       "0           21  \n",
       "1           34  \n",
       "2           28  \n",
       "3           29  \n",
       "4           12  \n",
       "5           14  \n",
       "6           40  \n",
       "7           35  \n",
       "8           23  \n",
       "9           38  "
      ]
     },
     "execution_count": 78,
     "metadata": {},
     "output_type": "execute_result"
    }
   ],
   "source": [
    "df['New Column'] = df['Col One'] + \" \" +  df['Names']\n",
    "df['IntegerTemp'] = df['Temp'].astype(int)\n",
    "df"
   ]
  },
  {
   "cell_type": "markdown",
   "metadata": {},
   "source": [
    "- **3.3 How to find the data types of each column in a data frame?**"
   ]
  },
  {
   "cell_type": "code",
   "execution_count": 79,
   "metadata": {},
   "outputs": [
    {
     "data": {
      "text/plain": [
       "Date             object\n",
       "Time             object\n",
       "Col One          object\n",
       "Temp            float64\n",
       "Names            object\n",
       "Pressure_psi    float64\n",
       "New Column       object\n",
       "IntegerTemp       int32\n",
       "dtype: object"
      ]
     },
     "execution_count": 79,
     "metadata": {},
     "output_type": "execute_result"
    }
   ],
   "source": [
    "df.dtypes # will print the data type of each column in your data frame. (Object usually means a string type)"
   ]
  },
  {
   "cell_type": "markdown",
   "metadata": {},
   "source": [
    "- **3.4 How to find the max() or min() of a column?**"
   ]
  },
  {
   "cell_type": "code",
   "execution_count": 80,
   "metadata": {},
   "outputs": [
    {
     "data": {
      "text/plain": [
       "(12.0, 40)"
      ]
     },
     "execution_count": 80,
     "metadata": {},
     "output_type": "execute_result"
    }
   ],
   "source": [
    "df['Temp'].min(), df['IntegerTemp'].max()"
   ]
  },
  {
   "cell_type": "markdown",
   "metadata": {},
   "source": [
    "- **3.5 How to count the number of unique values in one column?**"
   ]
  },
  {
   "cell_type": "code",
   "execution_count": 81,
   "metadata": {},
   "outputs": [
    {
     "data": {
      "text/plain": [
       "array(['2/23/2019', '2/27/2019', '3/3/2019'], dtype=object)"
      ]
     },
     "execution_count": 81,
     "metadata": {},
     "output_type": "execute_result"
    }
   ],
   "source": [
    "df['Date'].unique()\n",
    "# there are 3 different dates in the data frame"
   ]
  },
  {
   "cell_type": "markdown",
   "metadata": {},
   "source": [
    "- **3.6 How to count the frequency of *each* unique value in one column?**"
   ]
  },
  {
   "cell_type": "code",
   "execution_count": 82,
   "metadata": {},
   "outputs": [
    {
     "data": {
      "text/plain": [
       "3/3/2019     5\n",
       "2/23/2019    4\n",
       "2/27/2019    1\n",
       "Name: Date, dtype: int64"
      ]
     },
     "execution_count": 82,
     "metadata": {},
     "output_type": "execute_result"
    }
   ],
   "source": [
    "df['Date'].value_counts()"
   ]
  },
  {
   "cell_type": "markdown",
   "metadata": {},
   "source": [
    "- **3.7 How to rename columns?**"
   ]
  },
  {
   "cell_type": "code",
   "execution_count": 83,
   "metadata": {},
   "outputs": [
    {
     "data": {
      "text/html": [
       "<div>\n",
       "<style scoped>\n",
       "    .dataframe tbody tr th:only-of-type {\n",
       "        vertical-align: middle;\n",
       "    }\n",
       "\n",
       "    .dataframe tbody tr th {\n",
       "        vertical-align: top;\n",
       "    }\n",
       "\n",
       "    .dataframe thead th {\n",
       "        text-align: right;\n",
       "    }\n",
       "</style>\n",
       "<table border=\"1\" class=\"dataframe\">\n",
       "  <thead>\n",
       "    <tr style=\"text-align: right;\">\n",
       "      <th></th>\n",
       "      <th>Date</th>\n",
       "      <th>Time</th>\n",
       "      <th>NewCol1</th>\n",
       "      <th>Temp</th>\n",
       "      <th>Names</th>\n",
       "      <th>Pressure_psi</th>\n",
       "      <th>New Column</th>\n",
       "      <th>IntegerTemp</th>\n",
       "    </tr>\n",
       "  </thead>\n",
       "  <tbody>\n",
       "    <tr>\n",
       "      <th>0</th>\n",
       "      <td>2/23/2019</td>\n",
       "      <td>9:01</td>\n",
       "      <td>Zero</td>\n",
       "      <td>21.9</td>\n",
       "      <td>John</td>\n",
       "      <td>14.900</td>\n",
       "      <td>Zero John</td>\n",
       "      <td>21</td>\n",
       "    </tr>\n",
       "    <tr>\n",
       "      <th>1</th>\n",
       "      <td>2/23/2019</td>\n",
       "      <td>13:22</td>\n",
       "      <td>One</td>\n",
       "      <td>34.2</td>\n",
       "      <td>Mary</td>\n",
       "      <td>NaN</td>\n",
       "      <td>One  Mary</td>\n",
       "      <td>34</td>\n",
       "    </tr>\n",
       "    <tr>\n",
       "      <th>2</th>\n",
       "      <td>2/23/2019</td>\n",
       "      <td>14:58</td>\n",
       "      <td>Two</td>\n",
       "      <td>28.0</td>\n",
       "      <td>John</td>\n",
       "      <td>14.700</td>\n",
       "      <td>Two John</td>\n",
       "      <td>28</td>\n",
       "    </tr>\n",
       "    <tr>\n",
       "      <th>3</th>\n",
       "      <td>2/23/2019</td>\n",
       "      <td>17:31</td>\n",
       "      <td>Three</td>\n",
       "      <td>29.4</td>\n",
       "      <td>Peter</td>\n",
       "      <td>14.669</td>\n",
       "      <td>Three Peter</td>\n",
       "      <td>29</td>\n",
       "    </tr>\n",
       "    <tr>\n",
       "      <th>4</th>\n",
       "      <td>2/27/2019</td>\n",
       "      <td>8:29</td>\n",
       "      <td>Four</td>\n",
       "      <td>12.0</td>\n",
       "      <td>Ali</td>\n",
       "      <td>14.810</td>\n",
       "      <td>Four Ali</td>\n",
       "      <td>12</td>\n",
       "    </tr>\n",
       "    <tr>\n",
       "      <th>5</th>\n",
       "      <td>3/3/2019</td>\n",
       "      <td>11:11</td>\n",
       "      <td>Five</td>\n",
       "      <td>14.5</td>\n",
       "      <td>Ravi</td>\n",
       "      <td>14.730</td>\n",
       "      <td>Five Ravi</td>\n",
       "      <td>14</td>\n",
       "    </tr>\n",
       "    <tr>\n",
       "      <th>6</th>\n",
       "      <td>3/3/2019</td>\n",
       "      <td>13:08</td>\n",
       "      <td>Six</td>\n",
       "      <td>40.9</td>\n",
       "      <td>NaN</td>\n",
       "      <td>14.270</td>\n",
       "      <td>NaN</td>\n",
       "      <td>40</td>\n",
       "    </tr>\n",
       "    <tr>\n",
       "      <th>7</th>\n",
       "      <td>3/3/2019</td>\n",
       "      <td>9:01</td>\n",
       "      <td>Seven</td>\n",
       "      <td>35.5</td>\n",
       "      <td>NaN</td>\n",
       "      <td>14.900</td>\n",
       "      <td>NaN</td>\n",
       "      <td>35</td>\n",
       "    </tr>\n",
       "    <tr>\n",
       "      <th>8</th>\n",
       "      <td>3/3/2019</td>\n",
       "      <td>7:33</td>\n",
       "      <td>Eight</td>\n",
       "      <td>23.2</td>\n",
       "      <td>Mariam</td>\n",
       "      <td>14.880</td>\n",
       "      <td>Eight Mariam</td>\n",
       "      <td>23</td>\n",
       "    </tr>\n",
       "    <tr>\n",
       "      <th>9</th>\n",
       "      <td>3/3/2019</td>\n",
       "      <td>14:29</td>\n",
       "      <td>Nine</td>\n",
       "      <td>38.6</td>\n",
       "      <td>Merry</td>\n",
       "      <td>14.710</td>\n",
       "      <td>Nine Merry</td>\n",
       "      <td>38</td>\n",
       "    </tr>\n",
       "  </tbody>\n",
       "</table>\n",
       "</div>"
      ],
      "text/plain": [
       "        Date   Time NewCol1  Temp   Names  Pressure_psi    New Column  \\\n",
       "0  2/23/2019   9:01    Zero  21.9    John        14.900     Zero John   \n",
       "1  2/23/2019  13:22    One   34.2    Mary           NaN     One  Mary   \n",
       "2  2/23/2019  14:58     Two  28.0    John        14.700      Two John   \n",
       "3  2/23/2019  17:31   Three  29.4   Peter        14.669   Three Peter   \n",
       "4  2/27/2019   8:29    Four  12.0     Ali        14.810      Four Ali   \n",
       "5   3/3/2019  11:11    Five  14.5    Ravi        14.730     Five Ravi   \n",
       "6   3/3/2019  13:08     Six  40.9     NaN        14.270           NaN   \n",
       "7   3/3/2019   9:01   Seven  35.5     NaN        14.900           NaN   \n",
       "8   3/3/2019   7:33   Eight  23.2  Mariam        14.880  Eight Mariam   \n",
       "9   3/3/2019  14:29    Nine  38.6   Merry        14.710    Nine Merry   \n",
       "\n",
       "   IntegerTemp  \n",
       "0           21  \n",
       "1           34  \n",
       "2           28  \n",
       "3           29  \n",
       "4           12  \n",
       "5           14  \n",
       "6           40  \n",
       "7           35  \n",
       "8           23  \n",
       "9           38  "
      ]
     },
     "execution_count": 83,
     "metadata": {},
     "output_type": "execute_result"
    }
   ],
   "source": [
    "df.rename(columns={'Col One': 'NewCol1'}, inplace = True)\n",
    "df"
   ]
  },
  {
   "cell_type": "code",
   "execution_count": 84,
   "metadata": {},
   "outputs": [
    {
     "data": {
      "text/plain": [
       "pandas.core.series.Series"
      ]
     },
     "execution_count": 84,
     "metadata": {},
     "output_type": "execute_result"
    }
   ],
   "source": [
    "type(df['IntegerTemp'])"
   ]
  },
  {
   "cell_type": "markdown",
   "metadata": {},
   "source": [
    "- **3.8 How to Drop a column?**"
   ]
  },
  {
   "cell_type": "code",
   "execution_count": 85,
   "metadata": {},
   "outputs": [
    {
     "data": {
      "text/html": [
       "<div>\n",
       "<style scoped>\n",
       "    .dataframe tbody tr th:only-of-type {\n",
       "        vertical-align: middle;\n",
       "    }\n",
       "\n",
       "    .dataframe tbody tr th {\n",
       "        vertical-align: top;\n",
       "    }\n",
       "\n",
       "    .dataframe thead th {\n",
       "        text-align: right;\n",
       "    }\n",
       "</style>\n",
       "<table border=\"1\" class=\"dataframe\">\n",
       "  <thead>\n",
       "    <tr style=\"text-align: right;\">\n",
       "      <th></th>\n",
       "      <th>Date</th>\n",
       "      <th>Time</th>\n",
       "      <th>NewCol1</th>\n",
       "      <th>Temp</th>\n",
       "      <th>Pressure_psi</th>\n",
       "      <th>New Column</th>\n",
       "      <th>IntegerTemp</th>\n",
       "    </tr>\n",
       "  </thead>\n",
       "  <tbody>\n",
       "    <tr>\n",
       "      <th>0</th>\n",
       "      <td>2/23/2019</td>\n",
       "      <td>9:01</td>\n",
       "      <td>Zero</td>\n",
       "      <td>21.9</td>\n",
       "      <td>14.900</td>\n",
       "      <td>Zero John</td>\n",
       "      <td>21</td>\n",
       "    </tr>\n",
       "    <tr>\n",
       "      <th>1</th>\n",
       "      <td>2/23/2019</td>\n",
       "      <td>13:22</td>\n",
       "      <td>One</td>\n",
       "      <td>34.2</td>\n",
       "      <td>NaN</td>\n",
       "      <td>One  Mary</td>\n",
       "      <td>34</td>\n",
       "    </tr>\n",
       "    <tr>\n",
       "      <th>2</th>\n",
       "      <td>2/23/2019</td>\n",
       "      <td>14:58</td>\n",
       "      <td>Two</td>\n",
       "      <td>28.0</td>\n",
       "      <td>14.700</td>\n",
       "      <td>Two John</td>\n",
       "      <td>28</td>\n",
       "    </tr>\n",
       "    <tr>\n",
       "      <th>3</th>\n",
       "      <td>2/23/2019</td>\n",
       "      <td>17:31</td>\n",
       "      <td>Three</td>\n",
       "      <td>29.4</td>\n",
       "      <td>14.669</td>\n",
       "      <td>Three Peter</td>\n",
       "      <td>29</td>\n",
       "    </tr>\n",
       "    <tr>\n",
       "      <th>4</th>\n",
       "      <td>2/27/2019</td>\n",
       "      <td>8:29</td>\n",
       "      <td>Four</td>\n",
       "      <td>12.0</td>\n",
       "      <td>14.810</td>\n",
       "      <td>Four Ali</td>\n",
       "      <td>12</td>\n",
       "    </tr>\n",
       "    <tr>\n",
       "      <th>5</th>\n",
       "      <td>3/3/2019</td>\n",
       "      <td>11:11</td>\n",
       "      <td>Five</td>\n",
       "      <td>14.5</td>\n",
       "      <td>14.730</td>\n",
       "      <td>Five Ravi</td>\n",
       "      <td>14</td>\n",
       "    </tr>\n",
       "    <tr>\n",
       "      <th>6</th>\n",
       "      <td>3/3/2019</td>\n",
       "      <td>13:08</td>\n",
       "      <td>Six</td>\n",
       "      <td>40.9</td>\n",
       "      <td>14.270</td>\n",
       "      <td>NaN</td>\n",
       "      <td>40</td>\n",
       "    </tr>\n",
       "    <tr>\n",
       "      <th>7</th>\n",
       "      <td>3/3/2019</td>\n",
       "      <td>9:01</td>\n",
       "      <td>Seven</td>\n",
       "      <td>35.5</td>\n",
       "      <td>14.900</td>\n",
       "      <td>NaN</td>\n",
       "      <td>35</td>\n",
       "    </tr>\n",
       "    <tr>\n",
       "      <th>8</th>\n",
       "      <td>3/3/2019</td>\n",
       "      <td>7:33</td>\n",
       "      <td>Eight</td>\n",
       "      <td>23.2</td>\n",
       "      <td>14.880</td>\n",
       "      <td>Eight Mariam</td>\n",
       "      <td>23</td>\n",
       "    </tr>\n",
       "    <tr>\n",
       "      <th>9</th>\n",
       "      <td>3/3/2019</td>\n",
       "      <td>14:29</td>\n",
       "      <td>Nine</td>\n",
       "      <td>38.6</td>\n",
       "      <td>14.710</td>\n",
       "      <td>Nine Merry</td>\n",
       "      <td>38</td>\n",
       "    </tr>\n",
       "  </tbody>\n",
       "</table>\n",
       "</div>"
      ],
      "text/plain": [
       "        Date   Time NewCol1  Temp  Pressure_psi    New Column  IntegerTemp\n",
       "0  2/23/2019   9:01    Zero  21.9        14.900     Zero John           21\n",
       "1  2/23/2019  13:22    One   34.2           NaN     One  Mary           34\n",
       "2  2/23/2019  14:58     Two  28.0        14.700      Two John           28\n",
       "3  2/23/2019  17:31   Three  29.4        14.669   Three Peter           29\n",
       "4  2/27/2019   8:29    Four  12.0        14.810      Four Ali           12\n",
       "5   3/3/2019  11:11    Five  14.5        14.730     Five Ravi           14\n",
       "6   3/3/2019  13:08     Six  40.9        14.270           NaN           40\n",
       "7   3/3/2019   9:01   Seven  35.5        14.900           NaN           35\n",
       "8   3/3/2019   7:33   Eight  23.2        14.880  Eight Mariam           23\n",
       "9   3/3/2019  14:29    Nine  38.6        14.710    Nine Merry           38"
      ]
     },
     "execution_count": 85,
     "metadata": {},
     "output_type": "execute_result"
    }
   ],
   "source": [
    "df.drop('Names', axis=1)\n",
    "#df.drop('Names', axis=1, inplace=True) # the inplace argument being set to True would make the change permanent. \n",
    "#That column would be gone.\n"
   ]
  },
  {
   "cell_type": "markdown",
   "metadata": {},
   "source": [
    "- **3.9 How to rearrange the columns in a data frame?**"
   ]
  },
  {
   "cell_type": "code",
   "execution_count": 86,
   "metadata": {},
   "outputs": [
    {
     "data": {
      "text/html": [
       "<div>\n",
       "<style scoped>\n",
       "    .dataframe tbody tr th:only-of-type {\n",
       "        vertical-align: middle;\n",
       "    }\n",
       "\n",
       "    .dataframe tbody tr th {\n",
       "        vertical-align: top;\n",
       "    }\n",
       "\n",
       "    .dataframe thead th {\n",
       "        text-align: right;\n",
       "    }\n",
       "</style>\n",
       "<table border=\"1\" class=\"dataframe\">\n",
       "  <thead>\n",
       "    <tr style=\"text-align: right;\">\n",
       "      <th></th>\n",
       "      <th>Time</th>\n",
       "      <th>Date</th>\n",
       "      <th>NewCol1</th>\n",
       "      <th>Temp</th>\n",
       "      <th>Pressure_psi</th>\n",
       "      <th>Names</th>\n",
       "      <th>IntegerTemp</th>\n",
       "    </tr>\n",
       "  </thead>\n",
       "  <tbody>\n",
       "    <tr>\n",
       "      <th>0</th>\n",
       "      <td>9:01</td>\n",
       "      <td>2/23/2019</td>\n",
       "      <td>Zero</td>\n",
       "      <td>21.9</td>\n",
       "      <td>14.900</td>\n",
       "      <td>John</td>\n",
       "      <td>21</td>\n",
       "    </tr>\n",
       "    <tr>\n",
       "      <th>1</th>\n",
       "      <td>13:22</td>\n",
       "      <td>2/23/2019</td>\n",
       "      <td>One</td>\n",
       "      <td>34.2</td>\n",
       "      <td>NaN</td>\n",
       "      <td>Mary</td>\n",
       "      <td>34</td>\n",
       "    </tr>\n",
       "    <tr>\n",
       "      <th>2</th>\n",
       "      <td>14:58</td>\n",
       "      <td>2/23/2019</td>\n",
       "      <td>Two</td>\n",
       "      <td>28.0</td>\n",
       "      <td>14.700</td>\n",
       "      <td>John</td>\n",
       "      <td>28</td>\n",
       "    </tr>\n",
       "    <tr>\n",
       "      <th>3</th>\n",
       "      <td>17:31</td>\n",
       "      <td>2/23/2019</td>\n",
       "      <td>Three</td>\n",
       "      <td>29.4</td>\n",
       "      <td>14.669</td>\n",
       "      <td>Peter</td>\n",
       "      <td>29</td>\n",
       "    </tr>\n",
       "    <tr>\n",
       "      <th>4</th>\n",
       "      <td>8:29</td>\n",
       "      <td>2/27/2019</td>\n",
       "      <td>Four</td>\n",
       "      <td>12.0</td>\n",
       "      <td>14.810</td>\n",
       "      <td>Ali</td>\n",
       "      <td>12</td>\n",
       "    </tr>\n",
       "    <tr>\n",
       "      <th>5</th>\n",
       "      <td>11:11</td>\n",
       "      <td>3/3/2019</td>\n",
       "      <td>Five</td>\n",
       "      <td>14.5</td>\n",
       "      <td>14.730</td>\n",
       "      <td>Ravi</td>\n",
       "      <td>14</td>\n",
       "    </tr>\n",
       "    <tr>\n",
       "      <th>6</th>\n",
       "      <td>13:08</td>\n",
       "      <td>3/3/2019</td>\n",
       "      <td>Six</td>\n",
       "      <td>40.9</td>\n",
       "      <td>14.270</td>\n",
       "      <td>NaN</td>\n",
       "      <td>40</td>\n",
       "    </tr>\n",
       "    <tr>\n",
       "      <th>7</th>\n",
       "      <td>9:01</td>\n",
       "      <td>3/3/2019</td>\n",
       "      <td>Seven</td>\n",
       "      <td>35.5</td>\n",
       "      <td>14.900</td>\n",
       "      <td>NaN</td>\n",
       "      <td>35</td>\n",
       "    </tr>\n",
       "    <tr>\n",
       "      <th>8</th>\n",
       "      <td>7:33</td>\n",
       "      <td>3/3/2019</td>\n",
       "      <td>Eight</td>\n",
       "      <td>23.2</td>\n",
       "      <td>14.880</td>\n",
       "      <td>Mariam</td>\n",
       "      <td>23</td>\n",
       "    </tr>\n",
       "    <tr>\n",
       "      <th>9</th>\n",
       "      <td>14:29</td>\n",
       "      <td>3/3/2019</td>\n",
       "      <td>Nine</td>\n",
       "      <td>38.6</td>\n",
       "      <td>14.710</td>\n",
       "      <td>Merry</td>\n",
       "      <td>38</td>\n",
       "    </tr>\n",
       "  </tbody>\n",
       "</table>\n",
       "</div>"
      ],
      "text/plain": [
       "    Time       Date NewCol1  Temp  Pressure_psi   Names  IntegerTemp\n",
       "0   9:01  2/23/2019    Zero  21.9        14.900    John           21\n",
       "1  13:22  2/23/2019    One   34.2           NaN    Mary           34\n",
       "2  14:58  2/23/2019     Two  28.0        14.700    John           28\n",
       "3  17:31  2/23/2019   Three  29.4        14.669   Peter           29\n",
       "4   8:29  2/27/2019    Four  12.0        14.810     Ali           12\n",
       "5  11:11   3/3/2019    Five  14.5        14.730    Ravi           14\n",
       "6  13:08   3/3/2019     Six  40.9        14.270     NaN           40\n",
       "7   9:01   3/3/2019   Seven  35.5        14.900     NaN           35\n",
       "8   7:33   3/3/2019   Eight  23.2        14.880  Mariam           23\n",
       "9  14:29   3/3/2019    Nine  38.6        14.710   Merry           38"
      ]
     },
     "execution_count": 86,
     "metadata": {},
     "output_type": "execute_result"
    }
   ],
   "source": [
    "neworder  = ['Time', 'Date', 'NewCol1', 'Temp', 'Pressure_psi', 'Names', 'IntegerTemp']\n",
    "df = df[neworder]\n",
    "df"
   ]
  },
  {
   "cell_type": "markdown",
   "metadata": {},
   "source": [
    "# Part 4: Working with the Data Frame Index\n",
    "\n",
    "<a id='part4'>"
   ]
  },
  {
   "cell_type": "markdown",
   "metadata": {},
   "source": [
    "- **4.1 How to make one column of the data frame to be the Index?**"
   ]
  },
  {
   "cell_type": "code",
   "execution_count": 87,
   "metadata": {},
   "outputs": [
    {
     "data": {
      "text/html": [
       "<div>\n",
       "<style scoped>\n",
       "    .dataframe tbody tr th:only-of-type {\n",
       "        vertical-align: middle;\n",
       "    }\n",
       "\n",
       "    .dataframe tbody tr th {\n",
       "        vertical-align: top;\n",
       "    }\n",
       "\n",
       "    .dataframe thead th {\n",
       "        text-align: right;\n",
       "    }\n",
       "</style>\n",
       "<table border=\"1\" class=\"dataframe\">\n",
       "  <thead>\n",
       "    <tr style=\"text-align: right;\">\n",
       "      <th></th>\n",
       "      <th>Time</th>\n",
       "      <th>Date</th>\n",
       "      <th>NewCol1</th>\n",
       "      <th>Temp</th>\n",
       "      <th>Pressure_psi</th>\n",
       "      <th>IntegerTemp</th>\n",
       "    </tr>\n",
       "    <tr>\n",
       "      <th>Names</th>\n",
       "      <th></th>\n",
       "      <th></th>\n",
       "      <th></th>\n",
       "      <th></th>\n",
       "      <th></th>\n",
       "      <th></th>\n",
       "    </tr>\n",
       "  </thead>\n",
       "  <tbody>\n",
       "    <tr>\n",
       "      <th>John</th>\n",
       "      <td>9:01</td>\n",
       "      <td>2/23/2019</td>\n",
       "      <td>Zero</td>\n",
       "      <td>21.9</td>\n",
       "      <td>14.900</td>\n",
       "      <td>21</td>\n",
       "    </tr>\n",
       "    <tr>\n",
       "      <th>Mary</th>\n",
       "      <td>13:22</td>\n",
       "      <td>2/23/2019</td>\n",
       "      <td>One</td>\n",
       "      <td>34.2</td>\n",
       "      <td>NaN</td>\n",
       "      <td>34</td>\n",
       "    </tr>\n",
       "    <tr>\n",
       "      <th>John</th>\n",
       "      <td>14:58</td>\n",
       "      <td>2/23/2019</td>\n",
       "      <td>Two</td>\n",
       "      <td>28.0</td>\n",
       "      <td>14.700</td>\n",
       "      <td>28</td>\n",
       "    </tr>\n",
       "    <tr>\n",
       "      <th>Peter</th>\n",
       "      <td>17:31</td>\n",
       "      <td>2/23/2019</td>\n",
       "      <td>Three</td>\n",
       "      <td>29.4</td>\n",
       "      <td>14.669</td>\n",
       "      <td>29</td>\n",
       "    </tr>\n",
       "    <tr>\n",
       "      <th>Ali</th>\n",
       "      <td>8:29</td>\n",
       "      <td>2/27/2019</td>\n",
       "      <td>Four</td>\n",
       "      <td>12.0</td>\n",
       "      <td>14.810</td>\n",
       "      <td>12</td>\n",
       "    </tr>\n",
       "    <tr>\n",
       "      <th>Ravi</th>\n",
       "      <td>11:11</td>\n",
       "      <td>3/3/2019</td>\n",
       "      <td>Five</td>\n",
       "      <td>14.5</td>\n",
       "      <td>14.730</td>\n",
       "      <td>14</td>\n",
       "    </tr>\n",
       "    <tr>\n",
       "      <th>NaN</th>\n",
       "      <td>13:08</td>\n",
       "      <td>3/3/2019</td>\n",
       "      <td>Six</td>\n",
       "      <td>40.9</td>\n",
       "      <td>14.270</td>\n",
       "      <td>40</td>\n",
       "    </tr>\n",
       "    <tr>\n",
       "      <th>NaN</th>\n",
       "      <td>9:01</td>\n",
       "      <td>3/3/2019</td>\n",
       "      <td>Seven</td>\n",
       "      <td>35.5</td>\n",
       "      <td>14.900</td>\n",
       "      <td>35</td>\n",
       "    </tr>\n",
       "    <tr>\n",
       "      <th>Mariam</th>\n",
       "      <td>7:33</td>\n",
       "      <td>3/3/2019</td>\n",
       "      <td>Eight</td>\n",
       "      <td>23.2</td>\n",
       "      <td>14.880</td>\n",
       "      <td>23</td>\n",
       "    </tr>\n",
       "    <tr>\n",
       "      <th>Merry</th>\n",
       "      <td>14:29</td>\n",
       "      <td>3/3/2019</td>\n",
       "      <td>Nine</td>\n",
       "      <td>38.6</td>\n",
       "      <td>14.710</td>\n",
       "      <td>38</td>\n",
       "    </tr>\n",
       "  </tbody>\n",
       "</table>\n",
       "</div>"
      ],
      "text/plain": [
       "         Time       Date NewCol1  Temp  Pressure_psi  IntegerTemp\n",
       "Names                                                            \n",
       "John     9:01  2/23/2019    Zero  21.9        14.900           21\n",
       "Mary    13:22  2/23/2019    One   34.2           NaN           34\n",
       "John    14:58  2/23/2019     Two  28.0        14.700           28\n",
       "Peter   17:31  2/23/2019   Three  29.4        14.669           29\n",
       "Ali      8:29  2/27/2019    Four  12.0        14.810           12\n",
       "Ravi    11:11   3/3/2019    Five  14.5        14.730           14\n",
       "NaN     13:08   3/3/2019     Six  40.9        14.270           40\n",
       "NaN      9:01   3/3/2019   Seven  35.5        14.900           35\n",
       "Mariam   7:33   3/3/2019   Eight  23.2        14.880           23\n",
       "Merry   14:29   3/3/2019    Nine  38.6        14.710           38"
      ]
     },
     "execution_count": 87,
     "metadata": {},
     "output_type": "execute_result"
    }
   ],
   "source": [
    "df.set_index('Names')\n",
    "#df.set_index('Names', inplace = True) #this would make the change permanent"
   ]
  },
  {
   "cell_type": "markdown",
   "metadata": {},
   "source": [
    "Notice that the Names have now become the index, there is no more 0,1,2...integer index. Also notice that two of the index values are NaN. The same value can be the index multiple times."
   ]
  },
  {
   "cell_type": "markdown",
   "metadata": {},
   "source": [
    "### 4.2 Print the rows that have the index values of 5 and 6"
   ]
  },
  {
   "cell_type": "code",
   "execution_count": 88,
   "metadata": {},
   "outputs": [
    {
     "data": {
      "text/html": [
       "<div>\n",
       "<style scoped>\n",
       "    .dataframe tbody tr th:only-of-type {\n",
       "        vertical-align: middle;\n",
       "    }\n",
       "\n",
       "    .dataframe tbody tr th {\n",
       "        vertical-align: top;\n",
       "    }\n",
       "\n",
       "    .dataframe thead th {\n",
       "        text-align: right;\n",
       "    }\n",
       "</style>\n",
       "<table border=\"1\" class=\"dataframe\">\n",
       "  <thead>\n",
       "    <tr style=\"text-align: right;\">\n",
       "      <th></th>\n",
       "      <th>Time</th>\n",
       "      <th>Date</th>\n",
       "      <th>NewCol1</th>\n",
       "      <th>Temp</th>\n",
       "      <th>Pressure_psi</th>\n",
       "      <th>Names</th>\n",
       "      <th>IntegerTemp</th>\n",
       "    </tr>\n",
       "  </thead>\n",
       "  <tbody>\n",
       "    <tr>\n",
       "      <th>5</th>\n",
       "      <td>11:11</td>\n",
       "      <td>3/3/2019</td>\n",
       "      <td>Five</td>\n",
       "      <td>14.5</td>\n",
       "      <td>14.73</td>\n",
       "      <td>Ravi</td>\n",
       "      <td>14</td>\n",
       "    </tr>\n",
       "    <tr>\n",
       "      <th>6</th>\n",
       "      <td>13:08</td>\n",
       "      <td>3/3/2019</td>\n",
       "      <td>Six</td>\n",
       "      <td>40.9</td>\n",
       "      <td>14.27</td>\n",
       "      <td>NaN</td>\n",
       "      <td>40</td>\n",
       "    </tr>\n",
       "  </tbody>\n",
       "</table>\n",
       "</div>"
      ],
      "text/plain": [
       "    Time      Date NewCol1  Temp  Pressure_psi Names  IntegerTemp\n",
       "5  11:11  3/3/2019    Five  14.5         14.73  Ravi           14\n",
       "6  13:08  3/3/2019     Six  40.9         14.27   NaN           40"
      ]
     },
     "execution_count": 88,
     "metadata": {},
     "output_type": "execute_result"
    }
   ],
   "source": [
    "df.iloc[5:7] #iloc[] is for integer location of the row number, starting from 0"
   ]
  },
  {
   "cell_type": "markdown",
   "metadata": {},
   "source": [
    "### 4.3 Specify a column to be the index, when reading the CSV file"
   ]
  },
  {
   "cell_type": "code",
   "execution_count": 89,
   "metadata": {},
   "outputs": [
    {
     "data": {
      "text/html": [
       "<div>\n",
       "<style scoped>\n",
       "    .dataframe tbody tr th:only-of-type {\n",
       "        vertical-align: middle;\n",
       "    }\n",
       "\n",
       "    .dataframe tbody tr th {\n",
       "        vertical-align: top;\n",
       "    }\n",
       "\n",
       "    .dataframe thead th {\n",
       "        text-align: right;\n",
       "    }\n",
       "</style>\n",
       "<table border=\"1\" class=\"dataframe\">\n",
       "  <thead>\n",
       "    <tr style=\"text-align: right;\">\n",
       "      <th></th>\n",
       "      <th>Date</th>\n",
       "      <th>Time</th>\n",
       "      <th>Col One</th>\n",
       "      <th>Temp</th>\n",
       "      <th>Pressure_psi</th>\n",
       "    </tr>\n",
       "    <tr>\n",
       "      <th>Names</th>\n",
       "      <th></th>\n",
       "      <th></th>\n",
       "      <th></th>\n",
       "      <th></th>\n",
       "      <th></th>\n",
       "    </tr>\n",
       "  </thead>\n",
       "  <tbody>\n",
       "    <tr>\n",
       "      <th>John</th>\n",
       "      <td>2/3/2019</td>\n",
       "      <td>9:01</td>\n",
       "      <td>Zero</td>\n",
       "      <td>21.9</td>\n",
       "      <td>14.900</td>\n",
       "    </tr>\n",
       "    <tr>\n",
       "      <th>Mary</th>\n",
       "      <td>2/3/2019</td>\n",
       "      <td>13:22</td>\n",
       "      <td>One</td>\n",
       "      <td>34.2</td>\n",
       "      <td>NaN</td>\n",
       "    </tr>\n",
       "    <tr>\n",
       "      <th>John</th>\n",
       "      <td>2/3/2019</td>\n",
       "      <td>14:58</td>\n",
       "      <td>Two</td>\n",
       "      <td>28.0</td>\n",
       "      <td>14.700</td>\n",
       "    </tr>\n",
       "    <tr>\n",
       "      <th>Peter</th>\n",
       "      <td>2/3/2019</td>\n",
       "      <td>17:31</td>\n",
       "      <td>Three</td>\n",
       "      <td>29.4</td>\n",
       "      <td>14.669</td>\n",
       "    </tr>\n",
       "    <tr>\n",
       "      <th>Ali</th>\n",
       "      <td>2/7/2019</td>\n",
       "      <td>8:29</td>\n",
       "      <td>Four</td>\n",
       "      <td>12.0</td>\n",
       "      <td>14.810</td>\n",
       "    </tr>\n",
       "    <tr>\n",
       "      <th>Baba</th>\n",
       "      <td>3/3/2019</td>\n",
       "      <td>11:11</td>\n",
       "      <td>Five</td>\n",
       "      <td>14.5</td>\n",
       "      <td>14.730</td>\n",
       "    </tr>\n",
       "    <tr>\n",
       "      <th>NaN</th>\n",
       "      <td>3/3/2019</td>\n",
       "      <td>13:08</td>\n",
       "      <td>Six</td>\n",
       "      <td>40.9</td>\n",
       "      <td>14.270</td>\n",
       "    </tr>\n",
       "    <tr>\n",
       "      <th>NaN</th>\n",
       "      <td>3/3/2019</td>\n",
       "      <td>9:01</td>\n",
       "      <td>Seven</td>\n",
       "      <td>35.5</td>\n",
       "      <td>14.900</td>\n",
       "    </tr>\n",
       "    <tr>\n",
       "      <th>Mariam</th>\n",
       "      <td>3/3/2019</td>\n",
       "      <td>7:33</td>\n",
       "      <td>Eight</td>\n",
       "      <td>23.2</td>\n",
       "      <td>14.880</td>\n",
       "    </tr>\n",
       "    <tr>\n",
       "      <th>Merry</th>\n",
       "      <td>3/3/2019</td>\n",
       "      <td>14:29</td>\n",
       "      <td>Nine</td>\n",
       "      <td>38.6</td>\n",
       "      <td>14.710</td>\n",
       "    </tr>\n",
       "  </tbody>\n",
       "</table>\n",
       "</div>"
      ],
      "text/plain": [
       "            Date   Time Col One  Temp  Pressure_psi\n",
       "Names                                              \n",
       "John    2/3/2019   9:01    Zero  21.9        14.900\n",
       "Mary    2/3/2019  13:22    One   34.2           NaN\n",
       "John    2/3/2019  14:58     Two  28.0        14.700\n",
       "Peter   2/3/2019  17:31   Three  29.4        14.669\n",
       "Ali     2/7/2019   8:29    Four  12.0        14.810\n",
       "Baba    3/3/2019  11:11    Five  14.5        14.730\n",
       "NaN     3/3/2019  13:08     Six  40.9        14.270\n",
       "NaN     3/3/2019   9:01   Seven  35.5        14.900\n",
       "Mariam  3/3/2019   7:33   Eight  23.2        14.880\n",
       "Merry   3/3/2019  14:29    Nine  38.6        14.710"
      ]
     },
     "execution_count": 89,
     "metadata": {},
     "output_type": "execute_result"
    }
   ],
   "source": [
    "pd.read_csv(\"data/example.csv\", index_col=['Names'])\n",
    "#dfi = pd.read_csv(\"data/example.csv\", index_col=['Names'])"
   ]
  },
  {
   "cell_type": "markdown",
   "metadata": {},
   "source": [
    "![Image](images/Boolean-Indexing-Example.png)"
   ]
  },
  {
   "cell_type": "code",
   "execution_count": 90,
   "metadata": {},
   "outputs": [
    {
     "ename": "KeyError",
     "evalue": "'rev'",
     "output_type": "error",
     "traceback": [
      "\u001b[1;31m---------------------------------------------------------------------------\u001b[0m",
      "\u001b[1;31mKeyError\u001b[0m                                  Traceback (most recent call last)",
      "\u001b[1;32m~\\Anaconda3\\lib\\site-packages\\pandas\\core\\indexes\\base.py\u001b[0m in \u001b[0;36mget_loc\u001b[1;34m(self, key, method, tolerance)\u001b[0m\n\u001b[0;32m   3062\u001b[0m             \u001b[1;32mtry\u001b[0m\u001b[1;33m:\u001b[0m\u001b[1;33m\u001b[0m\u001b[0m\n\u001b[1;32m-> 3063\u001b[1;33m                 \u001b[1;32mreturn\u001b[0m \u001b[0mself\u001b[0m\u001b[1;33m.\u001b[0m\u001b[0m_engine\u001b[0m\u001b[1;33m.\u001b[0m\u001b[0mget_loc\u001b[0m\u001b[1;33m(\u001b[0m\u001b[0mkey\u001b[0m\u001b[1;33m)\u001b[0m\u001b[1;33m\u001b[0m\u001b[0m\n\u001b[0m\u001b[0;32m   3064\u001b[0m             \u001b[1;32mexcept\u001b[0m \u001b[0mKeyError\u001b[0m\u001b[1;33m:\u001b[0m\u001b[1;33m\u001b[0m\u001b[0m\n",
      "\u001b[1;32mpandas\\_libs\\index.pyx\u001b[0m in \u001b[0;36mpandas._libs.index.IndexEngine.get_loc\u001b[1;34m()\u001b[0m\n",
      "\u001b[1;32mpandas\\_libs\\index.pyx\u001b[0m in \u001b[0;36mpandas._libs.index.IndexEngine.get_loc\u001b[1;34m()\u001b[0m\n",
      "\u001b[1;32mpandas\\_libs\\hashtable_class_helper.pxi\u001b[0m in \u001b[0;36mpandas._libs.hashtable.PyObjectHashTable.get_item\u001b[1;34m()\u001b[0m\n",
      "\u001b[1;32mpandas\\_libs\\hashtable_class_helper.pxi\u001b[0m in \u001b[0;36mpandas._libs.hashtable.PyObjectHashTable.get_item\u001b[1;34m()\u001b[0m\n",
      "\u001b[1;31mKeyError\u001b[0m: 'rev'",
      "\nDuring handling of the above exception, another exception occurred:\n",
      "\u001b[1;31mKeyError\u001b[0m                                  Traceback (most recent call last)",
      "\u001b[1;32m<ipython-input-90-f35e5f42c733>\u001b[0m in \u001b[0;36m<module>\u001b[1;34m()\u001b[0m\n\u001b[0;32m      1\u001b[0m \u001b[1;31m#Here is an easy way to select only the columns you want.\u001b[0m\u001b[1;33m\u001b[0m\u001b[1;33m\u001b[0m\u001b[0m\n\u001b[0;32m      2\u001b[0m \u001b[0museful_cols\u001b[0m \u001b[1;33m=\u001b[0m \u001b[1;33m[\u001b[0m\u001b[1;34m\"rev\"\u001b[0m\u001b[1;33m]\u001b[0m\u001b[1;33m\u001b[0m\u001b[0m\n\u001b[1;32m----> 3\u001b[1;33m \u001b[0mcondition\u001b[0m \u001b[1;33m=\u001b[0m \u001b[0mdf\u001b[0m\u001b[1;33m[\u001b[0m\u001b[1;34m\"rev\"\u001b[0m\u001b[1;33m]\u001b[0m\u001b[1;33m==\u001b[0m\u001b[1;36m23\u001b[0m\u001b[1;33m\u001b[0m\u001b[0m\n\u001b[0m\u001b[0;32m      4\u001b[0m \u001b[0mdf\u001b[0m\u001b[1;33m[\u001b[0m\u001b[0museful_cols\u001b[0m\u001b[1;33m]\u001b[0m\u001b[1;33m[\u001b[0m\u001b[0mcondition\u001b[0m\u001b[1;33m]\u001b[0m\u001b[1;33m\u001b[0m\u001b[0m\n",
      "\u001b[1;32m~\\Anaconda3\\lib\\site-packages\\pandas\\core\\frame.py\u001b[0m in \u001b[0;36m__getitem__\u001b[1;34m(self, key)\u001b[0m\n\u001b[0;32m   2683\u001b[0m             \u001b[1;32mreturn\u001b[0m \u001b[0mself\u001b[0m\u001b[1;33m.\u001b[0m\u001b[0m_getitem_multilevel\u001b[0m\u001b[1;33m(\u001b[0m\u001b[0mkey\u001b[0m\u001b[1;33m)\u001b[0m\u001b[1;33m\u001b[0m\u001b[0m\n\u001b[0;32m   2684\u001b[0m         \u001b[1;32melse\u001b[0m\u001b[1;33m:\u001b[0m\u001b[1;33m\u001b[0m\u001b[0m\n\u001b[1;32m-> 2685\u001b[1;33m             \u001b[1;32mreturn\u001b[0m \u001b[0mself\u001b[0m\u001b[1;33m.\u001b[0m\u001b[0m_getitem_column\u001b[0m\u001b[1;33m(\u001b[0m\u001b[0mkey\u001b[0m\u001b[1;33m)\u001b[0m\u001b[1;33m\u001b[0m\u001b[0m\n\u001b[0m\u001b[0;32m   2686\u001b[0m \u001b[1;33m\u001b[0m\u001b[0m\n\u001b[0;32m   2687\u001b[0m     \u001b[1;32mdef\u001b[0m \u001b[0m_getitem_column\u001b[0m\u001b[1;33m(\u001b[0m\u001b[0mself\u001b[0m\u001b[1;33m,\u001b[0m \u001b[0mkey\u001b[0m\u001b[1;33m)\u001b[0m\u001b[1;33m:\u001b[0m\u001b[1;33m\u001b[0m\u001b[0m\n",
      "\u001b[1;32m~\\Anaconda3\\lib\\site-packages\\pandas\\core\\frame.py\u001b[0m in \u001b[0;36m_getitem_column\u001b[1;34m(self, key)\u001b[0m\n\u001b[0;32m   2690\u001b[0m         \u001b[1;31m# get column\u001b[0m\u001b[1;33m\u001b[0m\u001b[1;33m\u001b[0m\u001b[0m\n\u001b[0;32m   2691\u001b[0m         \u001b[1;32mif\u001b[0m \u001b[0mself\u001b[0m\u001b[1;33m.\u001b[0m\u001b[0mcolumns\u001b[0m\u001b[1;33m.\u001b[0m\u001b[0mis_unique\u001b[0m\u001b[1;33m:\u001b[0m\u001b[1;33m\u001b[0m\u001b[0m\n\u001b[1;32m-> 2692\u001b[1;33m             \u001b[1;32mreturn\u001b[0m \u001b[0mself\u001b[0m\u001b[1;33m.\u001b[0m\u001b[0m_get_item_cache\u001b[0m\u001b[1;33m(\u001b[0m\u001b[0mkey\u001b[0m\u001b[1;33m)\u001b[0m\u001b[1;33m\u001b[0m\u001b[0m\n\u001b[0m\u001b[0;32m   2693\u001b[0m \u001b[1;33m\u001b[0m\u001b[0m\n\u001b[0;32m   2694\u001b[0m         \u001b[1;31m# duplicate columns & possible reduce dimensionality\u001b[0m\u001b[1;33m\u001b[0m\u001b[1;33m\u001b[0m\u001b[0m\n",
      "\u001b[1;32m~\\Anaconda3\\lib\\site-packages\\pandas\\core\\generic.py\u001b[0m in \u001b[0;36m_get_item_cache\u001b[1;34m(self, item)\u001b[0m\n\u001b[0;32m   2484\u001b[0m         \u001b[0mres\u001b[0m \u001b[1;33m=\u001b[0m \u001b[0mcache\u001b[0m\u001b[1;33m.\u001b[0m\u001b[0mget\u001b[0m\u001b[1;33m(\u001b[0m\u001b[0mitem\u001b[0m\u001b[1;33m)\u001b[0m\u001b[1;33m\u001b[0m\u001b[0m\n\u001b[0;32m   2485\u001b[0m         \u001b[1;32mif\u001b[0m \u001b[0mres\u001b[0m \u001b[1;32mis\u001b[0m \u001b[1;32mNone\u001b[0m\u001b[1;33m:\u001b[0m\u001b[1;33m\u001b[0m\u001b[0m\n\u001b[1;32m-> 2486\u001b[1;33m             \u001b[0mvalues\u001b[0m \u001b[1;33m=\u001b[0m \u001b[0mself\u001b[0m\u001b[1;33m.\u001b[0m\u001b[0m_data\u001b[0m\u001b[1;33m.\u001b[0m\u001b[0mget\u001b[0m\u001b[1;33m(\u001b[0m\u001b[0mitem\u001b[0m\u001b[1;33m)\u001b[0m\u001b[1;33m\u001b[0m\u001b[0m\n\u001b[0m\u001b[0;32m   2487\u001b[0m             \u001b[0mres\u001b[0m \u001b[1;33m=\u001b[0m \u001b[0mself\u001b[0m\u001b[1;33m.\u001b[0m\u001b[0m_box_item_values\u001b[0m\u001b[1;33m(\u001b[0m\u001b[0mitem\u001b[0m\u001b[1;33m,\u001b[0m \u001b[0mvalues\u001b[0m\u001b[1;33m)\u001b[0m\u001b[1;33m\u001b[0m\u001b[0m\n\u001b[0;32m   2488\u001b[0m             \u001b[0mcache\u001b[0m\u001b[1;33m[\u001b[0m\u001b[0mitem\u001b[0m\u001b[1;33m]\u001b[0m \u001b[1;33m=\u001b[0m \u001b[0mres\u001b[0m\u001b[1;33m\u001b[0m\u001b[0m\n",
      "\u001b[1;32m~\\Anaconda3\\lib\\site-packages\\pandas\\core\\internals.py\u001b[0m in \u001b[0;36mget\u001b[1;34m(self, item, fastpath)\u001b[0m\n\u001b[0;32m   4113\u001b[0m \u001b[1;33m\u001b[0m\u001b[0m\n\u001b[0;32m   4114\u001b[0m             \u001b[1;32mif\u001b[0m \u001b[1;32mnot\u001b[0m \u001b[0misna\u001b[0m\u001b[1;33m(\u001b[0m\u001b[0mitem\u001b[0m\u001b[1;33m)\u001b[0m\u001b[1;33m:\u001b[0m\u001b[1;33m\u001b[0m\u001b[0m\n\u001b[1;32m-> 4115\u001b[1;33m                 \u001b[0mloc\u001b[0m \u001b[1;33m=\u001b[0m \u001b[0mself\u001b[0m\u001b[1;33m.\u001b[0m\u001b[0mitems\u001b[0m\u001b[1;33m.\u001b[0m\u001b[0mget_loc\u001b[0m\u001b[1;33m(\u001b[0m\u001b[0mitem\u001b[0m\u001b[1;33m)\u001b[0m\u001b[1;33m\u001b[0m\u001b[0m\n\u001b[0m\u001b[0;32m   4116\u001b[0m             \u001b[1;32melse\u001b[0m\u001b[1;33m:\u001b[0m\u001b[1;33m\u001b[0m\u001b[0m\n\u001b[0;32m   4117\u001b[0m                 \u001b[0mindexer\u001b[0m \u001b[1;33m=\u001b[0m \u001b[0mnp\u001b[0m\u001b[1;33m.\u001b[0m\u001b[0marange\u001b[0m\u001b[1;33m(\u001b[0m\u001b[0mlen\u001b[0m\u001b[1;33m(\u001b[0m\u001b[0mself\u001b[0m\u001b[1;33m.\u001b[0m\u001b[0mitems\u001b[0m\u001b[1;33m)\u001b[0m\u001b[1;33m)\u001b[0m\u001b[1;33m[\u001b[0m\u001b[0misna\u001b[0m\u001b[1;33m(\u001b[0m\u001b[0mself\u001b[0m\u001b[1;33m.\u001b[0m\u001b[0mitems\u001b[0m\u001b[1;33m)\u001b[0m\u001b[1;33m]\u001b[0m\u001b[1;33m\u001b[0m\u001b[0m\n",
      "\u001b[1;32m~\\Anaconda3\\lib\\site-packages\\pandas\\core\\indexes\\base.py\u001b[0m in \u001b[0;36mget_loc\u001b[1;34m(self, key, method, tolerance)\u001b[0m\n\u001b[0;32m   3063\u001b[0m                 \u001b[1;32mreturn\u001b[0m \u001b[0mself\u001b[0m\u001b[1;33m.\u001b[0m\u001b[0m_engine\u001b[0m\u001b[1;33m.\u001b[0m\u001b[0mget_loc\u001b[0m\u001b[1;33m(\u001b[0m\u001b[0mkey\u001b[0m\u001b[1;33m)\u001b[0m\u001b[1;33m\u001b[0m\u001b[0m\n\u001b[0;32m   3064\u001b[0m             \u001b[1;32mexcept\u001b[0m \u001b[0mKeyError\u001b[0m\u001b[1;33m:\u001b[0m\u001b[1;33m\u001b[0m\u001b[0m\n\u001b[1;32m-> 3065\u001b[1;33m                 \u001b[1;32mreturn\u001b[0m \u001b[0mself\u001b[0m\u001b[1;33m.\u001b[0m\u001b[0m_engine\u001b[0m\u001b[1;33m.\u001b[0m\u001b[0mget_loc\u001b[0m\u001b[1;33m(\u001b[0m\u001b[0mself\u001b[0m\u001b[1;33m.\u001b[0m\u001b[0m_maybe_cast_indexer\u001b[0m\u001b[1;33m(\u001b[0m\u001b[0mkey\u001b[0m\u001b[1;33m)\u001b[0m\u001b[1;33m)\u001b[0m\u001b[1;33m\u001b[0m\u001b[0m\n\u001b[0m\u001b[0;32m   3066\u001b[0m \u001b[1;33m\u001b[0m\u001b[0m\n\u001b[0;32m   3067\u001b[0m         \u001b[0mindexer\u001b[0m \u001b[1;33m=\u001b[0m \u001b[0mself\u001b[0m\u001b[1;33m.\u001b[0m\u001b[0mget_indexer\u001b[0m\u001b[1;33m(\u001b[0m\u001b[1;33m[\u001b[0m\u001b[0mkey\u001b[0m\u001b[1;33m]\u001b[0m\u001b[1;33m,\u001b[0m \u001b[0mmethod\u001b[0m\u001b[1;33m=\u001b[0m\u001b[0mmethod\u001b[0m\u001b[1;33m,\u001b[0m \u001b[0mtolerance\u001b[0m\u001b[1;33m=\u001b[0m\u001b[0mtolerance\u001b[0m\u001b[1;33m)\u001b[0m\u001b[1;33m\u001b[0m\u001b[0m\n",
      "\u001b[1;32mpandas\\_libs\\index.pyx\u001b[0m in \u001b[0;36mpandas._libs.index.IndexEngine.get_loc\u001b[1;34m()\u001b[0m\n",
      "\u001b[1;32mpandas\\_libs\\index.pyx\u001b[0m in \u001b[0;36mpandas._libs.index.IndexEngine.get_loc\u001b[1;34m()\u001b[0m\n",
      "\u001b[1;32mpandas\\_libs\\hashtable_class_helper.pxi\u001b[0m in \u001b[0;36mpandas._libs.hashtable.PyObjectHashTable.get_item\u001b[1;34m()\u001b[0m\n",
      "\u001b[1;32mpandas\\_libs\\hashtable_class_helper.pxi\u001b[0m in \u001b[0;36mpandas._libs.hashtable.PyObjectHashTable.get_item\u001b[1;34m()\u001b[0m\n",
      "\u001b[1;31mKeyError\u001b[0m: 'rev'"
     ]
    }
   ],
   "source": [
    "#Here is an easy way to select only the columns you want. \n",
    "useful_cols = [\"rev\"]\n",
    "condition = df[\"rev\"]==23\n",
    "df[useful_cols][condition]"
   ]
  },
  {
   "cell_type": "code",
   "execution_count": null,
   "metadata": {},
   "outputs": [],
   "source": []
  },
  {
   "cell_type": "markdown",
   "metadata": {},
   "source": [
    "## Part 6: Working with DateTime and DateTimeIndex\n",
    "\n",
    "<a id='part6'> </a>\n",
    "\n",
    "\n",
    "- **6.1. How to convert a column from string to `datetime`?**"
   ]
  },
  {
   "cell_type": "code",
   "execution_count": 91,
   "metadata": {},
   "outputs": [
    {
     "data": {
      "text/plain": [
       "dtype('O')"
      ]
     },
     "execution_count": 91,
     "metadata": {},
     "output_type": "execute_result"
    }
   ],
   "source": [
    "#First, let's verify that the Date column is actually a string (object)\n",
    "df['Date'].dtype"
   ]
  },
  {
   "cell_type": "markdown",
   "metadata": {},
   "source": [
    "Since the column is a string, we need to convert it to a `datetime` object. If we do that, a number of time related functions will be available to us for ready use."
   ]
  },
  {
   "cell_type": "code",
   "execution_count": 92,
   "metadata": {},
   "outputs": [],
   "source": [
    "#let us combine the two columns in one new column, called \"DateTime\" (it is still a string)\n",
    "df['DateTime'] = df['Date'] + \" \" + df['Time'] "
   ]
  },
  {
   "cell_type": "code",
   "execution_count": 93,
   "metadata": {},
   "outputs": [
    {
     "data": {
      "text/plain": [
       "0     2/23/2019 9:01\n",
       "1    2/23/2019 13:22\n",
       "2    2/23/2019 14:58\n",
       "3    2/23/2019 17:31\n",
       "4     2/27/2019 8:29\n",
       "Name: DateTime, dtype: object"
      ]
     },
     "execution_count": 93,
     "metadata": {},
     "output_type": "execute_result"
    }
   ],
   "source": [
    "df['DateTime'].head() #verify that it worked okay"
   ]
  },
  {
   "cell_type": "markdown",
   "metadata": {},
   "source": [
    "**Optional step**: If we don't want the 'Date' and 'Time' columns anymore, we can drop them from the dataframe.\n",
    "Remember to use `inplace=True` and `axis=1`"
   ]
  },
  {
   "cell_type": "code",
   "execution_count": 94,
   "metadata": {},
   "outputs": [],
   "source": [
    "df.drop(['Time', 'Date'], axis=1, inplace=True)"
   ]
  },
  {
   "cell_type": "code",
   "execution_count": 95,
   "metadata": {},
   "outputs": [
    {
     "data": {
      "text/plain": [
       "0   2019-02-23 09:01:00\n",
       "1   2019-02-23 13:22:00\n",
       "2   2019-02-23 14:58:00\n",
       "3   2019-02-23 17:31:00\n",
       "4   2019-02-27 08:29:00\n",
       "5   2019-03-03 11:11:00\n",
       "6   2019-03-03 13:08:00\n",
       "7   2019-03-03 09:01:00\n",
       "8   2019-03-03 07:33:00\n",
       "9   2019-03-03 14:29:00\n",
       "Name: DateTime, dtype: datetime64[ns]"
      ]
     },
     "execution_count": 95,
     "metadata": {},
     "output_type": "execute_result"
    }
   ],
   "source": [
    "pd.to_datetime(df['DateTime'], format=\"%m/%d/%Y %H:%M\")"
   ]
  },
  {
   "cell_type": "markdown",
   "metadata": {},
   "source": [
    "Important: Notice that the dtype has now become datetime (no longer an object/string)"
   ]
  },
  {
   "cell_type": "markdown",
   "metadata": {},
   "source": [
    "The various details of the format conversion (%M %H etc.) are clearly specified here: \n",
    "\n",
    "https://docs.python.org/3/library/datetime.html#strftime-and-strptime-behavior"
   ]
  },
  {
   "cell_type": "code",
   "execution_count": 96,
   "metadata": {},
   "outputs": [],
   "source": [
    "df['DateTime'] = pd.to_datetime(df['DateTime'])"
   ]
  },
  {
   "cell_type": "markdown",
   "metadata": {},
   "source": [
    "- **6.2. How to get the hour, date, month and year from a `datetime` column?**"
   ]
  },
  {
   "cell_type": "code",
   "execution_count": 97,
   "metadata": {},
   "outputs": [
    {
     "data": {
      "text/plain": [
       "0     1\n",
       "1    22\n",
       "2    58\n",
       "3    31\n",
       "4    29\n",
       "5    11\n",
       "6     8\n",
       "7     1\n",
       "8    33\n",
       "9    29\n",
       "Name: DateTime, dtype: int64"
      ]
     },
     "execution_count": 97,
     "metadata": {},
     "output_type": "execute_result"
    }
   ],
   "source": [
    "df['DateTime'].dt.hour\n",
    "df['DateTime'].dt.day\n",
    "df['DateTime'].dt.date\n",
    "df['DateTime'].dt.year\n",
    "df['DateTime'].dt.minute"
   ]
  },
  {
   "cell_type": "code",
   "execution_count": 98,
   "metadata": {},
   "outputs": [],
   "source": [
    "df['hour'] = df['DateTime'].dt.hour"
   ]
  },
  {
   "cell_type": "markdown",
   "metadata": {},
   "source": [
    "- **6.3 How to make a datetime column to be the Index?**"
   ]
  },
  {
   "cell_type": "code",
   "execution_count": 99,
   "metadata": {},
   "outputs": [],
   "source": [
    "df.set_index('DateTime', inplace=True)"
   ]
  },
  {
   "cell_type": "code",
   "execution_count": 100,
   "metadata": {},
   "outputs": [
    {
     "data": {
      "text/plain": [
       "DatetimeIndex(['2019-02-23 09:01:00', '2019-02-23 13:22:00',\n",
       "               '2019-02-23 14:58:00', '2019-02-23 17:31:00',\n",
       "               '2019-02-27 08:29:00', '2019-03-03 11:11:00',\n",
       "               '2019-03-03 13:08:00', '2019-03-03 09:01:00',\n",
       "               '2019-03-03 07:33:00', '2019-03-03 14:29:00'],\n",
       "              dtype='datetime64[ns]', name='DateTime', freq=None)"
      ]
     },
     "execution_count": 100,
     "metadata": {},
     "output_type": "execute_result"
    }
   ],
   "source": [
    "df.index #notice that it is now a `DateTimeIndex`"
   ]
  },
  {
   "cell_type": "markdown",
   "metadata": {},
   "source": [
    "- **6.4  How to select a time slice of the data frame, based on DateTimeIndex?**"
   ]
  },
  {
   "cell_type": "code",
   "execution_count": 101,
   "metadata": {},
   "outputs": [
    {
     "data": {
      "text/html": [
       "<div>\n",
       "<style scoped>\n",
       "    .dataframe tbody tr th:only-of-type {\n",
       "        vertical-align: middle;\n",
       "    }\n",
       "\n",
       "    .dataframe tbody tr th {\n",
       "        vertical-align: top;\n",
       "    }\n",
       "\n",
       "    .dataframe thead th {\n",
       "        text-align: right;\n",
       "    }\n",
       "</style>\n",
       "<table border=\"1\" class=\"dataframe\">\n",
       "  <thead>\n",
       "    <tr style=\"text-align: right;\">\n",
       "      <th></th>\n",
       "      <th>NewCol1</th>\n",
       "      <th>Temp</th>\n",
       "      <th>Pressure_psi</th>\n",
       "      <th>Names</th>\n",
       "      <th>IntegerTemp</th>\n",
       "      <th>hour</th>\n",
       "    </tr>\n",
       "    <tr>\n",
       "      <th>DateTime</th>\n",
       "      <th></th>\n",
       "      <th></th>\n",
       "      <th></th>\n",
       "      <th></th>\n",
       "      <th></th>\n",
       "      <th></th>\n",
       "    </tr>\n",
       "  </thead>\n",
       "  <tbody>\n",
       "    <tr>\n",
       "      <th>2019-02-23 09:01:00</th>\n",
       "      <td>Zero</td>\n",
       "      <td>21.9</td>\n",
       "      <td>14.900</td>\n",
       "      <td>John</td>\n",
       "      <td>21</td>\n",
       "      <td>9</td>\n",
       "    </tr>\n",
       "    <tr>\n",
       "      <th>2019-02-23 13:22:00</th>\n",
       "      <td>One</td>\n",
       "      <td>34.2</td>\n",
       "      <td>NaN</td>\n",
       "      <td>Mary</td>\n",
       "      <td>34</td>\n",
       "      <td>13</td>\n",
       "    </tr>\n",
       "    <tr>\n",
       "      <th>2019-02-23 14:58:00</th>\n",
       "      <td>Two</td>\n",
       "      <td>28.0</td>\n",
       "      <td>14.700</td>\n",
       "      <td>John</td>\n",
       "      <td>28</td>\n",
       "      <td>14</td>\n",
       "    </tr>\n",
       "    <tr>\n",
       "      <th>2019-02-23 17:31:00</th>\n",
       "      <td>Three</td>\n",
       "      <td>29.4</td>\n",
       "      <td>14.669</td>\n",
       "      <td>Peter</td>\n",
       "      <td>29</td>\n",
       "      <td>17</td>\n",
       "    </tr>\n",
       "    <tr>\n",
       "      <th>2019-02-27 08:29:00</th>\n",
       "      <td>Four</td>\n",
       "      <td>12.0</td>\n",
       "      <td>14.810</td>\n",
       "      <td>Ali</td>\n",
       "      <td>12</td>\n",
       "      <td>8</td>\n",
       "    </tr>\n",
       "  </tbody>\n",
       "</table>\n",
       "</div>"
      ],
      "text/plain": [
       "                    NewCol1  Temp  Pressure_psi  Names  IntegerTemp  hour\n",
       "DateTime                                                                 \n",
       "2019-02-23 09:01:00    Zero  21.9        14.900   John           21     9\n",
       "2019-02-23 13:22:00    One   34.2           NaN   Mary           34    13\n",
       "2019-02-23 14:58:00     Two  28.0        14.700   John           28    14\n",
       "2019-02-23 17:31:00   Three  29.4        14.669  Peter           29    17\n",
       "2019-02-27 08:29:00    Four  12.0        14.810    Ali           12     8"
      ]
     },
     "execution_count": 101,
     "metadata": {},
     "output_type": "execute_result"
    }
   ],
   "source": [
    "df['2019-02'] # Get all the rows for February 2019"
   ]
  },
  {
   "cell_type": "code",
   "execution_count": 102,
   "metadata": {},
   "outputs": [
    {
     "data": {
      "text/html": [
       "<div>\n",
       "<style scoped>\n",
       "    .dataframe tbody tr th:only-of-type {\n",
       "        vertical-align: middle;\n",
       "    }\n",
       "\n",
       "    .dataframe tbody tr th {\n",
       "        vertical-align: top;\n",
       "    }\n",
       "\n",
       "    .dataframe thead th {\n",
       "        text-align: right;\n",
       "    }\n",
       "</style>\n",
       "<table border=\"1\" class=\"dataframe\">\n",
       "  <thead>\n",
       "    <tr style=\"text-align: right;\">\n",
       "      <th></th>\n",
       "      <th>NewCol1</th>\n",
       "      <th>Temp</th>\n",
       "      <th>Pressure_psi</th>\n",
       "      <th>Names</th>\n",
       "      <th>IntegerTemp</th>\n",
       "      <th>hour</th>\n",
       "    </tr>\n",
       "    <tr>\n",
       "      <th>DateTime</th>\n",
       "      <th></th>\n",
       "      <th></th>\n",
       "      <th></th>\n",
       "      <th></th>\n",
       "      <th></th>\n",
       "      <th></th>\n",
       "    </tr>\n",
       "  </thead>\n",
       "  <tbody>\n",
       "  </tbody>\n",
       "</table>\n",
       "</div>"
      ],
      "text/plain": [
       "Empty DataFrame\n",
       "Columns: [NewCol1, Temp, Pressure_psi, Names, IntegerTemp, hour]\n",
       "Index: []"
      ]
     },
     "execution_count": 102,
     "metadata": {},
     "output_type": "execute_result"
    }
   ],
   "source": [
    "df['2019-02-03'] # for one single date\n",
    "#Remember: This will only work if you have made the dataframe Index to be datetime"
   ]
  },
  {
   "cell_type": "code",
   "execution_count": 103,
   "metadata": {},
   "outputs": [
    {
     "data": {
      "text/html": [
       "<div>\n",
       "<style scoped>\n",
       "    .dataframe tbody tr th:only-of-type {\n",
       "        vertical-align: middle;\n",
       "    }\n",
       "\n",
       "    .dataframe tbody tr th {\n",
       "        vertical-align: top;\n",
       "    }\n",
       "\n",
       "    .dataframe thead th {\n",
       "        text-align: right;\n",
       "    }\n",
       "</style>\n",
       "<table border=\"1\" class=\"dataframe\">\n",
       "  <thead>\n",
       "    <tr style=\"text-align: right;\">\n",
       "      <th></th>\n",
       "      <th>NewCol1</th>\n",
       "      <th>Temp</th>\n",
       "      <th>Pressure_psi</th>\n",
       "      <th>Names</th>\n",
       "      <th>IntegerTemp</th>\n",
       "      <th>hour</th>\n",
       "    </tr>\n",
       "    <tr>\n",
       "      <th>DateTime</th>\n",
       "      <th></th>\n",
       "      <th></th>\n",
       "      <th></th>\n",
       "      <th></th>\n",
       "      <th></th>\n",
       "      <th></th>\n",
       "    </tr>\n",
       "  </thead>\n",
       "  <tbody>\n",
       "    <tr>\n",
       "      <th>2019-02-23 09:01:00</th>\n",
       "      <td>Zero</td>\n",
       "      <td>21.9</td>\n",
       "      <td>14.900</td>\n",
       "      <td>John</td>\n",
       "      <td>21</td>\n",
       "      <td>9</td>\n",
       "    </tr>\n",
       "    <tr>\n",
       "      <th>2019-02-23 13:22:00</th>\n",
       "      <td>One</td>\n",
       "      <td>34.2</td>\n",
       "      <td>NaN</td>\n",
       "      <td>Mary</td>\n",
       "      <td>34</td>\n",
       "      <td>13</td>\n",
       "    </tr>\n",
       "    <tr>\n",
       "      <th>2019-02-23 14:58:00</th>\n",
       "      <td>Two</td>\n",
       "      <td>28.0</td>\n",
       "      <td>14.700</td>\n",
       "      <td>John</td>\n",
       "      <td>28</td>\n",
       "      <td>14</td>\n",
       "    </tr>\n",
       "    <tr>\n",
       "      <th>2019-02-23 17:31:00</th>\n",
       "      <td>Three</td>\n",
       "      <td>29.4</td>\n",
       "      <td>14.669</td>\n",
       "      <td>Peter</td>\n",
       "      <td>29</td>\n",
       "      <td>17</td>\n",
       "    </tr>\n",
       "    <tr>\n",
       "      <th>2019-02-27 08:29:00</th>\n",
       "      <td>Four</td>\n",
       "      <td>12.0</td>\n",
       "      <td>14.810</td>\n",
       "      <td>Ali</td>\n",
       "      <td>12</td>\n",
       "      <td>8</td>\n",
       "    </tr>\n",
       "    <tr>\n",
       "      <th>2019-03-03 11:11:00</th>\n",
       "      <td>Five</td>\n",
       "      <td>14.5</td>\n",
       "      <td>14.730</td>\n",
       "      <td>Ravi</td>\n",
       "      <td>14</td>\n",
       "      <td>11</td>\n",
       "    </tr>\n",
       "    <tr>\n",
       "      <th>2019-03-03 13:08:00</th>\n",
       "      <td>Six</td>\n",
       "      <td>40.9</td>\n",
       "      <td>14.270</td>\n",
       "      <td>NaN</td>\n",
       "      <td>40</td>\n",
       "      <td>13</td>\n",
       "    </tr>\n",
       "    <tr>\n",
       "      <th>2019-03-03 09:01:00</th>\n",
       "      <td>Seven</td>\n",
       "      <td>35.5</td>\n",
       "      <td>14.900</td>\n",
       "      <td>NaN</td>\n",
       "      <td>35</td>\n",
       "      <td>9</td>\n",
       "    </tr>\n",
       "    <tr>\n",
       "      <th>2019-03-03 07:33:00</th>\n",
       "      <td>Eight</td>\n",
       "      <td>23.2</td>\n",
       "      <td>14.880</td>\n",
       "      <td>Mariam</td>\n",
       "      <td>23</td>\n",
       "      <td>7</td>\n",
       "    </tr>\n",
       "    <tr>\n",
       "      <th>2019-03-03 14:29:00</th>\n",
       "      <td>Nine</td>\n",
       "      <td>38.6</td>\n",
       "      <td>14.710</td>\n",
       "      <td>Merry</td>\n",
       "      <td>38</td>\n",
       "      <td>14</td>\n",
       "    </tr>\n",
       "  </tbody>\n",
       "</table>\n",
       "</div>"
      ],
      "text/plain": [
       "                    NewCol1  Temp  Pressure_psi   Names  IntegerTemp  hour\n",
       "DateTime                                                                  \n",
       "2019-02-23 09:01:00    Zero  21.9        14.900    John           21     9\n",
       "2019-02-23 13:22:00    One   34.2           NaN    Mary           34    13\n",
       "2019-02-23 14:58:00     Two  28.0        14.700    John           28    14\n",
       "2019-02-23 17:31:00   Three  29.4        14.669   Peter           29    17\n",
       "2019-02-27 08:29:00    Four  12.0        14.810     Ali           12     8\n",
       "2019-03-03 11:11:00    Five  14.5        14.730    Ravi           14    11\n",
       "2019-03-03 13:08:00     Six  40.9        14.270     NaN           40    13\n",
       "2019-03-03 09:01:00   Seven  35.5        14.900     NaN           35     9\n",
       "2019-03-03 07:33:00   Eight  23.2        14.880  Mariam           23     7\n",
       "2019-03-03 14:29:00    Nine  38.6        14.710   Merry           38    14"
      ]
     },
     "execution_count": 103,
     "metadata": {},
     "output_type": "execute_result"
    }
   ],
   "source": [
    "df['2019-02': '2019-03'] #between time periods, both ends are included."
   ]
  },
  {
   "cell_type": "markdown",
   "metadata": {},
   "source": [
    "- **6.5 How to resample (aggregate) over different time periods?**"
   ]
  },
  {
   "cell_type": "markdown",
   "metadata": {},
   "source": [
    "#### 'M' is for monthly, and 'D' is for daily level resampling.\n",
    "\n",
    "We resample the whole dataframe by given time increments (daily, monthly, hourly etc) and then select one column and apply a mathematical function to it. In the following examples, we select the 'Temp' column and calculate it mean or max"
   ]
  },
  {
   "cell_type": "code",
   "execution_count": 104,
   "metadata": {},
   "outputs": [
    {
     "data": {
      "text/plain": [
       "DateTime\n",
       "2019-02-28    34.2\n",
       "2019-03-31    40.9\n",
       "Freq: M, Name: Temp, dtype: float64"
      ]
     },
     "execution_count": 104,
     "metadata": {},
     "output_type": "execute_result"
    }
   ],
   "source": [
    "df.resample('M')['Temp'].max()"
   ]
  },
  {
   "cell_type": "code",
   "execution_count": 106,
   "metadata": {},
   "outputs": [
    {
     "data": {
      "text/plain": [
       "DateTime\n",
       "2019-02-23    28.375\n",
       "2019-02-24       NaN\n",
       "2019-02-25       NaN\n",
       "2019-02-26       NaN\n",
       "2019-02-27    12.000\n",
       "2019-02-28       NaN\n",
       "2019-03-01       NaN\n",
       "2019-03-02       NaN\n",
       "2019-03-03    30.540\n",
       "Freq: D, Name: Temp, dtype: float64"
      ]
     },
     "execution_count": 106,
     "metadata": {},
     "output_type": "execute_result"
    }
   ],
   "source": [
    "df.resample('D')['Temp'].mean() #resample aggregates the data down to 1 row per day ('D')"
   ]
  },
  {
   "cell_type": "markdown",
   "metadata": {},
   "source": [
    "**Resources for Time Series using Pandas**\n",
    "\n",
    "1. [Basic Time Series Manipulation with Pandas](https://towardsdatascience.com/basic-time-series-manipulation-with-pandas-4432afee64ea) - in Towards Data Science"
   ]
  },
  {
   "cell_type": "markdown",
   "metadata": {
    "slideshow": {
     "slide_type": "slide"
    }
   },
   "source": [
    "# Part 7: Dealing with Missing Data\n",
    "\n",
    "<a id='part7'>"
   ]
  },
  {
   "cell_type": "markdown",
   "metadata": {},
   "source": [
    "### How to print all the rows (indices) where one particular column has missing values?"
   ]
  },
  {
   "cell_type": "code",
   "execution_count": 107,
   "metadata": {},
   "outputs": [
    {
     "data": {
      "text/html": [
       "<div>\n",
       "<style scoped>\n",
       "    .dataframe tbody tr th:only-of-type {\n",
       "        vertical-align: middle;\n",
       "    }\n",
       "\n",
       "    .dataframe tbody tr th {\n",
       "        vertical-align: top;\n",
       "    }\n",
       "\n",
       "    .dataframe thead th {\n",
       "        text-align: right;\n",
       "    }\n",
       "</style>\n",
       "<table border=\"1\" class=\"dataframe\">\n",
       "  <thead>\n",
       "    <tr style=\"text-align: right;\">\n",
       "      <th></th>\n",
       "      <th>NewCol1</th>\n",
       "      <th>Temp</th>\n",
       "      <th>Pressure_psi</th>\n",
       "      <th>Names</th>\n",
       "      <th>IntegerTemp</th>\n",
       "      <th>hour</th>\n",
       "    </tr>\n",
       "    <tr>\n",
       "      <th>DateTime</th>\n",
       "      <th></th>\n",
       "      <th></th>\n",
       "      <th></th>\n",
       "      <th></th>\n",
       "      <th></th>\n",
       "      <th></th>\n",
       "    </tr>\n",
       "  </thead>\n",
       "  <tbody>\n",
       "    <tr>\n",
       "      <th>2019-02-23 09:01:00</th>\n",
       "      <td>Zero</td>\n",
       "      <td>21.9</td>\n",
       "      <td>14.900</td>\n",
       "      <td>John</td>\n",
       "      <td>21</td>\n",
       "      <td>9</td>\n",
       "    </tr>\n",
       "    <tr>\n",
       "      <th>2019-02-23 13:22:00</th>\n",
       "      <td>One</td>\n",
       "      <td>34.2</td>\n",
       "      <td>NaN</td>\n",
       "      <td>Mary</td>\n",
       "      <td>34</td>\n",
       "      <td>13</td>\n",
       "    </tr>\n",
       "    <tr>\n",
       "      <th>2019-02-23 14:58:00</th>\n",
       "      <td>Two</td>\n",
       "      <td>28.0</td>\n",
       "      <td>14.700</td>\n",
       "      <td>John</td>\n",
       "      <td>28</td>\n",
       "      <td>14</td>\n",
       "    </tr>\n",
       "    <tr>\n",
       "      <th>2019-02-23 17:31:00</th>\n",
       "      <td>Three</td>\n",
       "      <td>29.4</td>\n",
       "      <td>14.669</td>\n",
       "      <td>Peter</td>\n",
       "      <td>29</td>\n",
       "      <td>17</td>\n",
       "    </tr>\n",
       "    <tr>\n",
       "      <th>2019-02-27 08:29:00</th>\n",
       "      <td>Four</td>\n",
       "      <td>12.0</td>\n",
       "      <td>14.810</td>\n",
       "      <td>Ali</td>\n",
       "      <td>12</td>\n",
       "      <td>8</td>\n",
       "    </tr>\n",
       "    <tr>\n",
       "      <th>2019-03-03 11:11:00</th>\n",
       "      <td>Five</td>\n",
       "      <td>14.5</td>\n",
       "      <td>14.730</td>\n",
       "      <td>Ravi</td>\n",
       "      <td>14</td>\n",
       "      <td>11</td>\n",
       "    </tr>\n",
       "    <tr>\n",
       "      <th>2019-03-03 13:08:00</th>\n",
       "      <td>Six</td>\n",
       "      <td>40.9</td>\n",
       "      <td>14.270</td>\n",
       "      <td>NaN</td>\n",
       "      <td>40</td>\n",
       "      <td>13</td>\n",
       "    </tr>\n",
       "    <tr>\n",
       "      <th>2019-03-03 09:01:00</th>\n",
       "      <td>Seven</td>\n",
       "      <td>35.5</td>\n",
       "      <td>14.900</td>\n",
       "      <td>NaN</td>\n",
       "      <td>35</td>\n",
       "      <td>9</td>\n",
       "    </tr>\n",
       "    <tr>\n",
       "      <th>2019-03-03 07:33:00</th>\n",
       "      <td>Eight</td>\n",
       "      <td>23.2</td>\n",
       "      <td>14.880</td>\n",
       "      <td>Mariam</td>\n",
       "      <td>23</td>\n",
       "      <td>7</td>\n",
       "    </tr>\n",
       "    <tr>\n",
       "      <th>2019-03-03 14:29:00</th>\n",
       "      <td>Nine</td>\n",
       "      <td>38.6</td>\n",
       "      <td>14.710</td>\n",
       "      <td>Merry</td>\n",
       "      <td>38</td>\n",
       "      <td>14</td>\n",
       "    </tr>\n",
       "  </tbody>\n",
       "</table>\n",
       "</div>"
      ],
      "text/plain": [
       "                    NewCol1  Temp  Pressure_psi   Names  IntegerTemp  hour\n",
       "DateTime                                                                  \n",
       "2019-02-23 09:01:00    Zero  21.9        14.900    John           21     9\n",
       "2019-02-23 13:22:00    One   34.2           NaN    Mary           34    13\n",
       "2019-02-23 14:58:00     Two  28.0        14.700    John           28    14\n",
       "2019-02-23 17:31:00   Three  29.4        14.669   Peter           29    17\n",
       "2019-02-27 08:29:00    Four  12.0        14.810     Ali           12     8\n",
       "2019-03-03 11:11:00    Five  14.5        14.730    Ravi           14    11\n",
       "2019-03-03 13:08:00     Six  40.9        14.270     NaN           40    13\n",
       "2019-03-03 09:01:00   Seven  35.5        14.900     NaN           35     9\n",
       "2019-03-03 07:33:00   Eight  23.2        14.880  Mariam           23     7\n",
       "2019-03-03 14:29:00    Nine  38.6        14.710   Merry           38    14"
      ]
     },
     "execution_count": 107,
     "metadata": {},
     "output_type": "execute_result"
    }
   ],
   "source": [
    "df"
   ]
  },
  {
   "cell_type": "code",
   "execution_count": 108,
   "metadata": {},
   "outputs": [
    {
     "data": {
      "text/plain": [
       "array([14.9  ,    nan, 14.7  , 14.669, 14.81 , 14.73 , 14.27 , 14.88 ,\n",
       "       14.71 ])"
      ]
     },
     "execution_count": 108,
     "metadata": {},
     "output_type": "execute_result"
    }
   ],
   "source": [
    "df['Pressure_psi'].unique()"
   ]
  },
  {
   "cell_type": "code",
   "execution_count": 109,
   "metadata": {},
   "outputs": [
    {
     "data": {
      "text/plain": [
       "DateTime\n",
       "2019-02-23 09:01:00    False\n",
       "2019-02-23 13:22:00     True\n",
       "2019-02-23 14:58:00    False\n",
       "2019-02-23 17:31:00    False\n",
       "2019-02-27 08:29:00    False\n",
       "2019-03-03 11:11:00    False\n",
       "2019-03-03 13:08:00    False\n",
       "2019-03-03 09:01:00    False\n",
       "2019-03-03 07:33:00    False\n",
       "2019-03-03 14:29:00    False\n",
       "Name: Pressure_psi, dtype: bool"
      ]
     },
     "execution_count": 109,
     "metadata": {},
     "output_type": "execute_result"
    }
   ],
   "source": [
    "df['Pressure_psi'].isnull()"
   ]
  },
  {
   "cell_type": "markdown",
   "metadata": {},
   "source": [
    "### 7.1 Count the number of Missing values in one Column"
   ]
  },
  {
   "cell_type": "code",
   "execution_count": 110,
   "metadata": {},
   "outputs": [
    {
     "data": {
      "text/plain": [
       "2"
      ]
     },
     "execution_count": 110,
     "metadata": {},
     "output_type": "execute_result"
    }
   ],
   "source": [
    "df['Pressure_psi'].isnull().sum() # 1 missing\n",
    "df['Names'].isnull().sum()"
   ]
  },
  {
   "cell_type": "markdown",
   "metadata": {},
   "source": [
    "### How to drop the rows that contain at least one missing value?"
   ]
  },
  {
   "cell_type": "code",
   "execution_count": 111,
   "metadata": {},
   "outputs": [
    {
     "data": {
      "text/html": [
       "<div>\n",
       "<style scoped>\n",
       "    .dataframe tbody tr th:only-of-type {\n",
       "        vertical-align: middle;\n",
       "    }\n",
       "\n",
       "    .dataframe tbody tr th {\n",
       "        vertical-align: top;\n",
       "    }\n",
       "\n",
       "    .dataframe thead th {\n",
       "        text-align: right;\n",
       "    }\n",
       "</style>\n",
       "<table border=\"1\" class=\"dataframe\">\n",
       "  <thead>\n",
       "    <tr style=\"text-align: right;\">\n",
       "      <th></th>\n",
       "      <th>NewCol1</th>\n",
       "      <th>Temp</th>\n",
       "      <th>Pressure_psi</th>\n",
       "      <th>Names</th>\n",
       "      <th>IntegerTemp</th>\n",
       "      <th>hour</th>\n",
       "    </tr>\n",
       "    <tr>\n",
       "      <th>DateTime</th>\n",
       "      <th></th>\n",
       "      <th></th>\n",
       "      <th></th>\n",
       "      <th></th>\n",
       "      <th></th>\n",
       "      <th></th>\n",
       "    </tr>\n",
       "  </thead>\n",
       "  <tbody>\n",
       "    <tr>\n",
       "      <th>2019-02-23 09:01:00</th>\n",
       "      <td>Zero</td>\n",
       "      <td>21.9</td>\n",
       "      <td>14.900</td>\n",
       "      <td>John</td>\n",
       "      <td>21</td>\n",
       "      <td>9</td>\n",
       "    </tr>\n",
       "    <tr>\n",
       "      <th>2019-02-23 14:58:00</th>\n",
       "      <td>Two</td>\n",
       "      <td>28.0</td>\n",
       "      <td>14.700</td>\n",
       "      <td>John</td>\n",
       "      <td>28</td>\n",
       "      <td>14</td>\n",
       "    </tr>\n",
       "    <tr>\n",
       "      <th>2019-02-23 17:31:00</th>\n",
       "      <td>Three</td>\n",
       "      <td>29.4</td>\n",
       "      <td>14.669</td>\n",
       "      <td>Peter</td>\n",
       "      <td>29</td>\n",
       "      <td>17</td>\n",
       "    </tr>\n",
       "    <tr>\n",
       "      <th>2019-02-27 08:29:00</th>\n",
       "      <td>Four</td>\n",
       "      <td>12.0</td>\n",
       "      <td>14.810</td>\n",
       "      <td>Ali</td>\n",
       "      <td>12</td>\n",
       "      <td>8</td>\n",
       "    </tr>\n",
       "    <tr>\n",
       "      <th>2019-03-03 11:11:00</th>\n",
       "      <td>Five</td>\n",
       "      <td>14.5</td>\n",
       "      <td>14.730</td>\n",
       "      <td>Ravi</td>\n",
       "      <td>14</td>\n",
       "      <td>11</td>\n",
       "    </tr>\n",
       "    <tr>\n",
       "      <th>2019-03-03 07:33:00</th>\n",
       "      <td>Eight</td>\n",
       "      <td>23.2</td>\n",
       "      <td>14.880</td>\n",
       "      <td>Mariam</td>\n",
       "      <td>23</td>\n",
       "      <td>7</td>\n",
       "    </tr>\n",
       "    <tr>\n",
       "      <th>2019-03-03 14:29:00</th>\n",
       "      <td>Nine</td>\n",
       "      <td>38.6</td>\n",
       "      <td>14.710</td>\n",
       "      <td>Merry</td>\n",
       "      <td>38</td>\n",
       "      <td>14</td>\n",
       "    </tr>\n",
       "  </tbody>\n",
       "</table>\n",
       "</div>"
      ],
      "text/plain": [
       "                    NewCol1  Temp  Pressure_psi   Names  IntegerTemp  hour\n",
       "DateTime                                                                  \n",
       "2019-02-23 09:01:00    Zero  21.9        14.900    John           21     9\n",
       "2019-02-23 14:58:00     Two  28.0        14.700    John           28    14\n",
       "2019-02-23 17:31:00   Three  29.4        14.669   Peter           29    17\n",
       "2019-02-27 08:29:00    Four  12.0        14.810     Ali           12     8\n",
       "2019-03-03 11:11:00    Five  14.5        14.730    Ravi           14    11\n",
       "2019-03-03 07:33:00   Eight  23.2        14.880  Mariam           23     7\n",
       "2019-03-03 14:29:00    Nine  38.6        14.710   Merry           38    14"
      ]
     },
     "execution_count": 111,
     "metadata": {},
     "output_type": "execute_result"
    }
   ],
   "source": [
    "df.dropna()\n",
    "# 3 rows got dropped. This is because they had at least one Nan or NULL value.\n"
   ]
  },
  {
   "cell_type": "code",
   "execution_count": 112,
   "metadata": {},
   "outputs": [
    {
     "data": {
      "text/plain": [
       "((10, 6), (7, 6))"
      ]
     },
     "execution_count": 112,
     "metadata": {},
     "output_type": "execute_result"
    }
   ],
   "source": [
    "df.shape, df.dropna().shape"
   ]
  },
  {
   "cell_type": "markdown",
   "metadata": {},
   "source": [
    "# Part 8: Sorting in a DataFrame\n",
    "\n",
    "<a id='part8'>"
   ]
  },
  {
   "cell_type": "markdown",
   "metadata": {},
   "source": [
    "Pandas comes with two very useful functions. They are clearly named, so it is easy to guess what they'll do. `sort_values()` and `sort_index()`\n",
    "- https://pandas.pydata.org/pandas-docs/stable/generated/pandas.DataFrame.sort_values.html\n",
    "- https://pandas.pydata.org/pandas-docs/stable/generated/pandas.DataFrame.sort_index.html\n",
    "\n",
    "Sort_values() is the workhorse, and is very often used. Sort_index() is use less frequently. But if your data frame rows get into some different order, then sort_index can be useful. It is also good if you have created a new index. Then you can sort_index() to get the dataframe sorted the way you want it."
   ]
  },
  {
   "cell_type": "markdown",
   "metadata": {},
   "source": [
    "- **8.1 How to Sort a Dataframe by the values of a column?**\n",
    "\n",
    "If you want to just sort the values of one column, you can do the following:"
   ]
  },
  {
   "cell_type": "code",
   "execution_count": 113,
   "metadata": {},
   "outputs": [
    {
     "data": {
      "text/plain": [
       "DateTime\n",
       "2019-02-27 08:29:00    12.0\n",
       "2019-03-03 11:11:00    14.5\n",
       "2019-02-23 09:01:00    21.9\n",
       "2019-03-03 07:33:00    23.2\n",
       "2019-02-23 14:58:00    28.0\n",
       "2019-02-23 17:31:00    29.4\n",
       "2019-02-23 13:22:00    34.2\n",
       "2019-03-03 09:01:00    35.5\n",
       "2019-03-03 14:29:00    38.6\n",
       "2019-03-03 13:08:00    40.9\n",
       "Name: Temp, dtype: float64"
      ]
     },
     "execution_count": 113,
     "metadata": {},
     "output_type": "execute_result"
    }
   ],
   "source": [
    "df['Temp'].sort_values()"
   ]
  },
  {
   "cell_type": "markdown",
   "metadata": {},
   "source": [
    "However, if you want to sort the entire dataframe, based on this one column, you can do:"
   ]
  },
  {
   "cell_type": "code",
   "execution_count": 114,
   "metadata": {},
   "outputs": [
    {
     "data": {
      "text/html": [
       "<div>\n",
       "<style scoped>\n",
       "    .dataframe tbody tr th:only-of-type {\n",
       "        vertical-align: middle;\n",
       "    }\n",
       "\n",
       "    .dataframe tbody tr th {\n",
       "        vertical-align: top;\n",
       "    }\n",
       "\n",
       "    .dataframe thead th {\n",
       "        text-align: right;\n",
       "    }\n",
       "</style>\n",
       "<table border=\"1\" class=\"dataframe\">\n",
       "  <thead>\n",
       "    <tr style=\"text-align: right;\">\n",
       "      <th></th>\n",
       "      <th>NewCol1</th>\n",
       "      <th>Temp</th>\n",
       "      <th>Pressure_psi</th>\n",
       "      <th>Names</th>\n",
       "      <th>IntegerTemp</th>\n",
       "      <th>hour</th>\n",
       "    </tr>\n",
       "    <tr>\n",
       "      <th>DateTime</th>\n",
       "      <th></th>\n",
       "      <th></th>\n",
       "      <th></th>\n",
       "      <th></th>\n",
       "      <th></th>\n",
       "      <th></th>\n",
       "    </tr>\n",
       "  </thead>\n",
       "  <tbody>\n",
       "    <tr>\n",
       "      <th>2019-03-03 07:33:00</th>\n",
       "      <td>Eight</td>\n",
       "      <td>23.2</td>\n",
       "      <td>14.880</td>\n",
       "      <td>Mariam</td>\n",
       "      <td>23</td>\n",
       "      <td>7</td>\n",
       "    </tr>\n",
       "    <tr>\n",
       "      <th>2019-02-27 08:29:00</th>\n",
       "      <td>Four</td>\n",
       "      <td>12.0</td>\n",
       "      <td>14.810</td>\n",
       "      <td>Ali</td>\n",
       "      <td>12</td>\n",
       "      <td>8</td>\n",
       "    </tr>\n",
       "    <tr>\n",
       "      <th>2019-02-23 09:01:00</th>\n",
       "      <td>Zero</td>\n",
       "      <td>21.9</td>\n",
       "      <td>14.900</td>\n",
       "      <td>John</td>\n",
       "      <td>21</td>\n",
       "      <td>9</td>\n",
       "    </tr>\n",
       "    <tr>\n",
       "      <th>2019-03-03 09:01:00</th>\n",
       "      <td>Seven</td>\n",
       "      <td>35.5</td>\n",
       "      <td>14.900</td>\n",
       "      <td>NaN</td>\n",
       "      <td>35</td>\n",
       "      <td>9</td>\n",
       "    </tr>\n",
       "    <tr>\n",
       "      <th>2019-03-03 11:11:00</th>\n",
       "      <td>Five</td>\n",
       "      <td>14.5</td>\n",
       "      <td>14.730</td>\n",
       "      <td>Ravi</td>\n",
       "      <td>14</td>\n",
       "      <td>11</td>\n",
       "    </tr>\n",
       "    <tr>\n",
       "      <th>2019-02-23 13:22:00</th>\n",
       "      <td>One</td>\n",
       "      <td>34.2</td>\n",
       "      <td>NaN</td>\n",
       "      <td>Mary</td>\n",
       "      <td>34</td>\n",
       "      <td>13</td>\n",
       "    </tr>\n",
       "    <tr>\n",
       "      <th>2019-03-03 13:08:00</th>\n",
       "      <td>Six</td>\n",
       "      <td>40.9</td>\n",
       "      <td>14.270</td>\n",
       "      <td>NaN</td>\n",
       "      <td>40</td>\n",
       "      <td>13</td>\n",
       "    </tr>\n",
       "    <tr>\n",
       "      <th>2019-02-23 14:58:00</th>\n",
       "      <td>Two</td>\n",
       "      <td>28.0</td>\n",
       "      <td>14.700</td>\n",
       "      <td>John</td>\n",
       "      <td>28</td>\n",
       "      <td>14</td>\n",
       "    </tr>\n",
       "    <tr>\n",
       "      <th>2019-03-03 14:29:00</th>\n",
       "      <td>Nine</td>\n",
       "      <td>38.6</td>\n",
       "      <td>14.710</td>\n",
       "      <td>Merry</td>\n",
       "      <td>38</td>\n",
       "      <td>14</td>\n",
       "    </tr>\n",
       "    <tr>\n",
       "      <th>2019-02-23 17:31:00</th>\n",
       "      <td>Three</td>\n",
       "      <td>29.4</td>\n",
       "      <td>14.669</td>\n",
       "      <td>Peter</td>\n",
       "      <td>29</td>\n",
       "      <td>17</td>\n",
       "    </tr>\n",
       "  </tbody>\n",
       "</table>\n",
       "</div>"
      ],
      "text/plain": [
       "                    NewCol1  Temp  Pressure_psi   Names  IntegerTemp  hour\n",
       "DateTime                                                                  \n",
       "2019-03-03 07:33:00   Eight  23.2        14.880  Mariam           23     7\n",
       "2019-02-27 08:29:00    Four  12.0        14.810     Ali           12     8\n",
       "2019-02-23 09:01:00    Zero  21.9        14.900    John           21     9\n",
       "2019-03-03 09:01:00   Seven  35.5        14.900     NaN           35     9\n",
       "2019-03-03 11:11:00    Five  14.5        14.730    Ravi           14    11\n",
       "2019-02-23 13:22:00    One   34.2           NaN    Mary           34    13\n",
       "2019-03-03 13:08:00     Six  40.9        14.270     NaN           40    13\n",
       "2019-02-23 14:58:00     Two  28.0        14.700    John           28    14\n",
       "2019-03-03 14:29:00    Nine  38.6        14.710   Merry           38    14\n",
       "2019-02-23 17:31:00   Three  29.4        14.669   Peter           29    17"
      ]
     },
     "execution_count": 114,
     "metadata": {},
     "output_type": "execute_result"
    }
   ],
   "source": [
    "df.sort_values('hour') # sorts the ENTIRE data frame, by the column that was passed to it."
   ]
  },
  {
   "cell_type": "markdown",
   "metadata": {},
   "source": [
    "A couple of notes on sort_values()\n",
    "- Sorting a data frame creates a copy. If you want the ORIGINAL data frame sorted, then use `inplace=True`\n",
    "- To sort on multiple columns, simply use df.sort_values(['colname1', 'colname2']) and it will sort by both, one after another."
   ]
  },
  {
   "cell_type": "markdown",
   "metadata": {},
   "source": [
    "- ** 8.2 How to change the sort order to be descending?**"
   ]
  },
  {
   "cell_type": "code",
   "execution_count": 115,
   "metadata": {},
   "outputs": [
    {
     "data": {
      "text/html": [
       "<div>\n",
       "<style scoped>\n",
       "    .dataframe tbody tr th:only-of-type {\n",
       "        vertical-align: middle;\n",
       "    }\n",
       "\n",
       "    .dataframe tbody tr th {\n",
       "        vertical-align: top;\n",
       "    }\n",
       "\n",
       "    .dataframe thead th {\n",
       "        text-align: right;\n",
       "    }\n",
       "</style>\n",
       "<table border=\"1\" class=\"dataframe\">\n",
       "  <thead>\n",
       "    <tr style=\"text-align: right;\">\n",
       "      <th></th>\n",
       "      <th>NewCol1</th>\n",
       "      <th>Temp</th>\n",
       "      <th>Pressure_psi</th>\n",
       "      <th>Names</th>\n",
       "      <th>IntegerTemp</th>\n",
       "      <th>hour</th>\n",
       "    </tr>\n",
       "    <tr>\n",
       "      <th>DateTime</th>\n",
       "      <th></th>\n",
       "      <th></th>\n",
       "      <th></th>\n",
       "      <th></th>\n",
       "      <th></th>\n",
       "      <th></th>\n",
       "    </tr>\n",
       "  </thead>\n",
       "  <tbody>\n",
       "    <tr>\n",
       "      <th>2019-02-23 17:31:00</th>\n",
       "      <td>Three</td>\n",
       "      <td>29.4</td>\n",
       "      <td>14.669</td>\n",
       "      <td>Peter</td>\n",
       "      <td>29</td>\n",
       "      <td>17</td>\n",
       "    </tr>\n",
       "    <tr>\n",
       "      <th>2019-02-23 14:58:00</th>\n",
       "      <td>Two</td>\n",
       "      <td>28.0</td>\n",
       "      <td>14.700</td>\n",
       "      <td>John</td>\n",
       "      <td>28</td>\n",
       "      <td>14</td>\n",
       "    </tr>\n",
       "    <tr>\n",
       "      <th>2019-03-03 14:29:00</th>\n",
       "      <td>Nine</td>\n",
       "      <td>38.6</td>\n",
       "      <td>14.710</td>\n",
       "      <td>Merry</td>\n",
       "      <td>38</td>\n",
       "      <td>14</td>\n",
       "    </tr>\n",
       "    <tr>\n",
       "      <th>2019-02-23 13:22:00</th>\n",
       "      <td>One</td>\n",
       "      <td>34.2</td>\n",
       "      <td>NaN</td>\n",
       "      <td>Mary</td>\n",
       "      <td>34</td>\n",
       "      <td>13</td>\n",
       "    </tr>\n",
       "    <tr>\n",
       "      <th>2019-03-03 13:08:00</th>\n",
       "      <td>Six</td>\n",
       "      <td>40.9</td>\n",
       "      <td>14.270</td>\n",
       "      <td>NaN</td>\n",
       "      <td>40</td>\n",
       "      <td>13</td>\n",
       "    </tr>\n",
       "    <tr>\n",
       "      <th>2019-03-03 11:11:00</th>\n",
       "      <td>Five</td>\n",
       "      <td>14.5</td>\n",
       "      <td>14.730</td>\n",
       "      <td>Ravi</td>\n",
       "      <td>14</td>\n",
       "      <td>11</td>\n",
       "    </tr>\n",
       "    <tr>\n",
       "      <th>2019-02-23 09:01:00</th>\n",
       "      <td>Zero</td>\n",
       "      <td>21.9</td>\n",
       "      <td>14.900</td>\n",
       "      <td>John</td>\n",
       "      <td>21</td>\n",
       "      <td>9</td>\n",
       "    </tr>\n",
       "    <tr>\n",
       "      <th>2019-03-03 09:01:00</th>\n",
       "      <td>Seven</td>\n",
       "      <td>35.5</td>\n",
       "      <td>14.900</td>\n",
       "      <td>NaN</td>\n",
       "      <td>35</td>\n",
       "      <td>9</td>\n",
       "    </tr>\n",
       "    <tr>\n",
       "      <th>2019-02-27 08:29:00</th>\n",
       "      <td>Four</td>\n",
       "      <td>12.0</td>\n",
       "      <td>14.810</td>\n",
       "      <td>Ali</td>\n",
       "      <td>12</td>\n",
       "      <td>8</td>\n",
       "    </tr>\n",
       "    <tr>\n",
       "      <th>2019-03-03 07:33:00</th>\n",
       "      <td>Eight</td>\n",
       "      <td>23.2</td>\n",
       "      <td>14.880</td>\n",
       "      <td>Mariam</td>\n",
       "      <td>23</td>\n",
       "      <td>7</td>\n",
       "    </tr>\n",
       "  </tbody>\n",
       "</table>\n",
       "</div>"
      ],
      "text/plain": [
       "                    NewCol1  Temp  Pressure_psi   Names  IntegerTemp  hour\n",
       "DateTime                                                                  \n",
       "2019-02-23 17:31:00   Three  29.4        14.669   Peter           29    17\n",
       "2019-02-23 14:58:00     Two  28.0        14.700    John           28    14\n",
       "2019-03-03 14:29:00    Nine  38.6        14.710   Merry           38    14\n",
       "2019-02-23 13:22:00    One   34.2           NaN    Mary           34    13\n",
       "2019-03-03 13:08:00     Six  40.9        14.270     NaN           40    13\n",
       "2019-03-03 11:11:00    Five  14.5        14.730    Ravi           14    11\n",
       "2019-02-23 09:01:00    Zero  21.9        14.900    John           21     9\n",
       "2019-03-03 09:01:00   Seven  35.5        14.900     NaN           35     9\n",
       "2019-02-27 08:29:00    Four  12.0        14.810     Ali           12     8\n",
       "2019-03-03 07:33:00   Eight  23.2        14.880  Mariam           23     7"
      ]
     },
     "execution_count": 115,
     "metadata": {},
     "output_type": "execute_result"
    }
   ],
   "source": [
    "df.sort_values('hour', ascending=False)"
   ]
  },
  {
   "cell_type": "markdown",
   "metadata": {},
   "source": [
    "- **8.3 How to Sort a Dataframe by its Index?**"
   ]
  },
  {
   "cell_type": "code",
   "execution_count": 116,
   "metadata": {},
   "outputs": [
    {
     "data": {
      "text/html": [
       "<div>\n",
       "<style scoped>\n",
       "    .dataframe tbody tr th:only-of-type {\n",
       "        vertical-align: middle;\n",
       "    }\n",
       "\n",
       "    .dataframe tbody tr th {\n",
       "        vertical-align: top;\n",
       "    }\n",
       "\n",
       "    .dataframe thead th {\n",
       "        text-align: right;\n",
       "    }\n",
       "</style>\n",
       "<table border=\"1\" class=\"dataframe\">\n",
       "  <thead>\n",
       "    <tr style=\"text-align: right;\">\n",
       "      <th></th>\n",
       "      <th>NewCol1</th>\n",
       "      <th>Temp</th>\n",
       "      <th>Pressure_psi</th>\n",
       "      <th>Names</th>\n",
       "      <th>IntegerTemp</th>\n",
       "      <th>hour</th>\n",
       "    </tr>\n",
       "    <tr>\n",
       "      <th>DateTime</th>\n",
       "      <th></th>\n",
       "      <th></th>\n",
       "      <th></th>\n",
       "      <th></th>\n",
       "      <th></th>\n",
       "      <th></th>\n",
       "    </tr>\n",
       "  </thead>\n",
       "  <tbody>\n",
       "    <tr>\n",
       "      <th>2019-03-03 14:29:00</th>\n",
       "      <td>Nine</td>\n",
       "      <td>38.6</td>\n",
       "      <td>14.710</td>\n",
       "      <td>Merry</td>\n",
       "      <td>38</td>\n",
       "      <td>14</td>\n",
       "    </tr>\n",
       "    <tr>\n",
       "      <th>2019-03-03 13:08:00</th>\n",
       "      <td>Six</td>\n",
       "      <td>40.9</td>\n",
       "      <td>14.270</td>\n",
       "      <td>NaN</td>\n",
       "      <td>40</td>\n",
       "      <td>13</td>\n",
       "    </tr>\n",
       "    <tr>\n",
       "      <th>2019-03-03 11:11:00</th>\n",
       "      <td>Five</td>\n",
       "      <td>14.5</td>\n",
       "      <td>14.730</td>\n",
       "      <td>Ravi</td>\n",
       "      <td>14</td>\n",
       "      <td>11</td>\n",
       "    </tr>\n",
       "    <tr>\n",
       "      <th>2019-03-03 09:01:00</th>\n",
       "      <td>Seven</td>\n",
       "      <td>35.5</td>\n",
       "      <td>14.900</td>\n",
       "      <td>NaN</td>\n",
       "      <td>35</td>\n",
       "      <td>9</td>\n",
       "    </tr>\n",
       "    <tr>\n",
       "      <th>2019-03-03 07:33:00</th>\n",
       "      <td>Eight</td>\n",
       "      <td>23.2</td>\n",
       "      <td>14.880</td>\n",
       "      <td>Mariam</td>\n",
       "      <td>23</td>\n",
       "      <td>7</td>\n",
       "    </tr>\n",
       "    <tr>\n",
       "      <th>2019-02-27 08:29:00</th>\n",
       "      <td>Four</td>\n",
       "      <td>12.0</td>\n",
       "      <td>14.810</td>\n",
       "      <td>Ali</td>\n",
       "      <td>12</td>\n",
       "      <td>8</td>\n",
       "    </tr>\n",
       "    <tr>\n",
       "      <th>2019-02-23 17:31:00</th>\n",
       "      <td>Three</td>\n",
       "      <td>29.4</td>\n",
       "      <td>14.669</td>\n",
       "      <td>Peter</td>\n",
       "      <td>29</td>\n",
       "      <td>17</td>\n",
       "    </tr>\n",
       "    <tr>\n",
       "      <th>2019-02-23 14:58:00</th>\n",
       "      <td>Two</td>\n",
       "      <td>28.0</td>\n",
       "      <td>14.700</td>\n",
       "      <td>John</td>\n",
       "      <td>28</td>\n",
       "      <td>14</td>\n",
       "    </tr>\n",
       "    <tr>\n",
       "      <th>2019-02-23 13:22:00</th>\n",
       "      <td>One</td>\n",
       "      <td>34.2</td>\n",
       "      <td>NaN</td>\n",
       "      <td>Mary</td>\n",
       "      <td>34</td>\n",
       "      <td>13</td>\n",
       "    </tr>\n",
       "    <tr>\n",
       "      <th>2019-02-23 09:01:00</th>\n",
       "      <td>Zero</td>\n",
       "      <td>21.9</td>\n",
       "      <td>14.900</td>\n",
       "      <td>John</td>\n",
       "      <td>21</td>\n",
       "      <td>9</td>\n",
       "    </tr>\n",
       "  </tbody>\n",
       "</table>\n",
       "</div>"
      ],
      "text/plain": [
       "                    NewCol1  Temp  Pressure_psi   Names  IntegerTemp  hour\n",
       "DateTime                                                                  \n",
       "2019-03-03 14:29:00    Nine  38.6        14.710   Merry           38    14\n",
       "2019-03-03 13:08:00     Six  40.9        14.270     NaN           40    13\n",
       "2019-03-03 11:11:00    Five  14.5        14.730    Ravi           14    11\n",
       "2019-03-03 09:01:00   Seven  35.5        14.900     NaN           35     9\n",
       "2019-03-03 07:33:00   Eight  23.2        14.880  Mariam           23     7\n",
       "2019-02-27 08:29:00    Four  12.0        14.810     Ali           12     8\n",
       "2019-02-23 17:31:00   Three  29.4        14.669   Peter           29    17\n",
       "2019-02-23 14:58:00     Two  28.0        14.700    John           28    14\n",
       "2019-02-23 13:22:00    One   34.2           NaN    Mary           34    13\n",
       "2019-02-23 09:01:00    Zero  21.9        14.900    John           21     9"
      ]
     },
     "execution_count": 116,
     "metadata": {},
     "output_type": "execute_result"
    }
   ],
   "source": [
    "df.sort_index()\n",
    "df.sort_index(ascending=False)"
   ]
  },
  {
   "cell_type": "markdown",
   "metadata": {},
   "source": [
    "For more on sorting:\n",
    "\n",
    "- [CMDLINE TIPS Article on Sorting](http://cmdlinetips.com/2018/02/how-to-sort-pandas-dataframe-by-columns-and-row/) in Pandas"
   ]
  },
  {
   "cell_type": "markdown",
   "metadata": {
    "slideshow": {
     "slide_type": "slide"
    }
   },
   "source": [
    "# Part 9: Plotting with Pandas\n",
    "\n",
    "\n",
    "<a id='part9'></a>\n",
    "\n"
   ]
  },
  {
   "cell_type": "markdown",
   "metadata": {},
   "source": [
    "- **9.1 How to plot a histogram of one NUMERICAL Column?**"
   ]
  },
  {
   "cell_type": "code",
   "execution_count": 117,
   "metadata": {},
   "outputs": [
    {
     "data": {
      "text/plain": [
       "<matplotlib.axes._subplots.AxesSubplot at 0xbb4a860>"
      ]
     },
     "execution_count": 117,
     "metadata": {},
     "output_type": "execute_result"
    },
    {
     "data": {
      "image/png": "[encoded data removed]",
      "text/plain": [
       "<Figure size 432x288 with 1 Axes>"
      ]
     },
     "metadata": {},
     "output_type": "display_data"
    }
   ],
   "source": [
    "df['Temp'].hist(bins=5)"
   ]
  },
  {
   "cell_type": "markdown",
   "metadata": {},
   "source": [
    "- **9.2 How to plot a scatter plot of 2 columns?**"
   ]
  },
  {
   "cell_type": "code",
   "execution_count": 118,
   "metadata": {},
   "outputs": [
    {
     "data": {
      "text/plain": [
       "Text(0.5,1,'Pressure_psi vs TemP')"
      ]
     },
     "execution_count": 118,
     "metadata": {},
     "output_type": "execute_result"
    },
    {
     "data": {
      "image/png": "[encoded data removed]",
      "text/plain": [
       "<Figure size 432x288 with 1 Axes>"
      ]
     },
     "metadata": {},
     "output_type": "display_data"
    }
   ],
   "source": [
    "df.plot(x='Pressure_psi', y='Temp', kind='scatter', color='red')\n",
    "plt.title(\"Pressure_psi vs TemP\")"
   ]
  },
  {
   "cell_type": "markdown",
   "metadata": {},
   "source": [
    "- ** 9.3 How to create a bar plot of 2 columns? **"
   ]
  },
  {
   "cell_type": "code",
   "execution_count": 119,
   "metadata": {},
   "outputs": [
    {
     "data": {
      "text/plain": [
       "<matplotlib.axes._subplots.AxesSubplot at 0xc5894e0>"
      ]
     },
     "execution_count": 119,
     "metadata": {},
     "output_type": "execute_result"
    },
    {
     "data": {
      "image/png": "[encoded data removed]",
      "text/plain": [
       "<Figure size 432x288 with 1 Axes>"
      ]
     },
     "metadata": {},
     "output_type": "display_data"
    }
   ],
   "source": [
    "df.plot(x='Pressure_psi', y='Temp', kind='bar') #note that the x-axis is NOT sorted. Each is treated as a label"
   ]
  },
  {
   "cell_type": "markdown",
   "metadata": {},
   "source": [
    "- **9.4 How to plot two (or more) columns on the same plot?**"
   ]
  },
  {
   "cell_type": "code",
   "execution_count": 120,
   "metadata": {},
   "outputs": [
    {
     "data": {
      "text/plain": [
       "<matplotlib.axes._subplots.AxesSubplot at 0xc627048>"
      ]
     },
     "execution_count": 120,
     "metadata": {},
     "output_type": "execute_result"
    },
    {
     "data": {
      "image/png": "[encoded data removed]",
      "text/plain": [
       "<Figure size 864x288 with 1 Axes>"
      ]
     },
     "metadata": {},
     "output_type": "display_data"
    }
   ],
   "source": [
    "df[['Temp', 'Pressure_psi']].plot(style='o', figsize=(12,4))"
   ]
  },
  {
   "cell_type": "code",
   "execution_count": 121,
   "metadata": {},
   "outputs": [
    {
     "data": {
      "image/png": "[encoded data removed]",
      "text/plain": [
       "<Figure size 864x288 with 2 Axes>"
      ]
     },
     "metadata": {},
     "output_type": "display_data"
    }
   ],
   "source": [
    "df[['Temp', 'Pressure_psi']].plot(style='-', subplots=True, figsize=(12,4));"
   ]
  },
  {
   "cell_type": "markdown",
   "metadata": {},
   "source": [
    "- **9.5 How to Save a Plot to a file?**\n",
    "\n",
    "This is a two-step process. First, we store the Pandas plot to a variable. Once that is done, we can `get_figure` and then `savefig` that to a file.\n"
   ]
  },
  {
   "cell_type": "markdown",
   "metadata": {},
   "source": [
    "**Save a Pandas plot**\n",
    "\n",
    "If the Pandas plot has been stored as a variable, then we first need to `get_figure()` and only then savefig() will do the job.\n",
    "\n",
    "Gory Details: This is because `df.plot()` saves it to an `AxesSubplot` type of object. Those cannot be directly saved. We first get the parent figure for the `AxesSubplot`, and then we can easily save it using `savefig`"
   ]
  },
  {
   "cell_type": "code",
   "execution_count": 122,
   "metadata": {},
   "outputs": [
    {
     "data": {
      "image/png": "[encoded data removed]",
      "text/plain": [
       "<Figure size 432x288 with 1 Axes>"
      ]
     },
     "metadata": {},
     "output_type": "display_data"
    }
   ],
   "source": [
    "pandas_plot = df.plot() # save it to a variable for ease of referring to it\n",
    "fig = pandas_plot.get_figure()\n",
    "fig.savefig (\"Pandas.png\")"
   ]
  },
  {
   "cell_type": "markdown",
   "metadata": {},
   "source": [
    "- **9.6 Creating Multiple Plots side-by-side, and changing markers & plot types**"
   ]
  },
  {
   "cell_type": "code",
   "execution_count": 123,
   "metadata": {},
   "outputs": [
    {
     "data": {
      "image/png": "[encoded data removed]",
      "text/plain": [
       "<Figure size 864x216 with 4 Axes>"
      ]
     },
     "metadata": {},
     "output_type": "display_data"
    }
   ],
   "source": [
    "fig, axes = plt.subplots(1, 4, figsize=(12,3)) #fig is common to all plots. Each one can be referred to by axes[0],...,axes[3]\n",
    "df.plot(style='o', ax=axes[0]);\n",
    "df.plot(style='.', ax=axes[1]);\n",
    "df.plot(style='-', ax=axes[2]);\n",
    "df['Temp'].plot(style='-', kind='bar', ax=axes[3]);"
   ]
  },
  {
   "cell_type": "markdown",
   "metadata": {},
   "source": [
    "**Important to Note** When you plot a bar plot, notice that in the x-axis, time duration is NOT show visually. Each bar is simply treated as a 'label' and the distance between every 2 bars in the same, no mater the time duration. In contast, in all the other plots above, time duration is explicitly shown."
   ]
  },
  {
   "cell_type": "markdown",
   "metadata": {},
   "source": [
    "- **9.7 How to Add a title to a plot?**"
   ]
  },
  {
   "cell_type": "code",
   "execution_count": 124,
   "metadata": {},
   "outputs": [
    {
     "data": {
      "image/png": "[encoded data removed]",
      "text/plain": [
       "<Figure size 720x216 with 1 Axes>"
      ]
     },
     "metadata": {},
     "output_type": "display_data"
    }
   ],
   "source": [
    "df.plot(figsize=(10,3))\n",
    "plt.title(\"matplotlib xy line plot\");\n"
   ]
  },
  {
   "cell_type": "markdown",
   "metadata": {},
   "source": [
    "<a id='part10'></a>\n",
    "\n",
    "## 10. GroupBy\n",
    "\n"
   ]
  },
  {
   "cell_type": "markdown",
   "metadata": {},
   "source": [
    "<a href='#top'>Table of Contents</a>\n",
    "<img src = \"images/groupby.png\" width=700, align=\"left\">\n",
    "\n",
    "<br>\n"
   ]
  },
  {
   "cell_type": "code",
   "execution_count": 71,
   "metadata": {},
   "outputs": [],
   "source": [
    "#Create the data frame again, if needed\n",
    "df = pd.DataFrame({'Date': ['2/23/2019', '2/23/2019', '2/23/2019', '2/23/2019', '2/27/2019', '3/3/2019', '3/3/2019', '3/3/2019', '3/3/2019', '3/3/2019']\n",
    ",'Time' :['9:01','13:22', '14:58', '17:31', '8:29', '11:11', '13:08', '9:01', '7:33', '14:29']\n",
    ",'Col One' : ['Zero', 'One ', 'Two', 'Three', 'Four', 'Five', 'Six', 'Seven', 'Eight', 'Nine']\n",
    ",'Temp' : [21.9, 34.2, 28.0, 29.4, 12.0, 14.5, 40.9, 35.5, 23.2, 38.6]\n",
    ",'Names' : ['John', 'Mary', 'John', 'Peter', 'Ali', 'Ravi', np.nan, np.nan, 'Mariam', 'Mary'] \n",
    ",'Pressure_psi' : [14.9, 14.3, np.nan,  14.669, 14.81, 14.73, 14.27, 14.9, 14.88, 14.71]})"
   ]
  },
  {
   "cell_type": "code",
   "execution_count": 72,
   "metadata": {},
   "outputs": [
    {
     "data": {
      "text/html": [
       "<div>\n",
       "<style scoped>\n",
       "    .dataframe tbody tr th:only-of-type {\n",
       "        vertical-align: middle;\n",
       "    }\n",
       "\n",
       "    .dataframe tbody tr th {\n",
       "        vertical-align: top;\n",
       "    }\n",
       "\n",
       "    .dataframe thead th {\n",
       "        text-align: right;\n",
       "    }\n",
       "</style>\n",
       "<table border=\"1\" class=\"dataframe\">\n",
       "  <thead>\n",
       "    <tr style=\"text-align: right;\">\n",
       "      <th></th>\n",
       "      <th>Date</th>\n",
       "      <th>Time</th>\n",
       "      <th>Col One</th>\n",
       "      <th>Temp</th>\n",
       "      <th>Names</th>\n",
       "      <th>Pressure_psi</th>\n",
       "    </tr>\n",
       "  </thead>\n",
       "  <tbody>\n",
       "    <tr>\n",
       "      <th>0</th>\n",
       "      <td>2/23/2019</td>\n",
       "      <td>9:01</td>\n",
       "      <td>Zero</td>\n",
       "      <td>21.9</td>\n",
       "      <td>John</td>\n",
       "      <td>14.900</td>\n",
       "    </tr>\n",
       "    <tr>\n",
       "      <th>1</th>\n",
       "      <td>2/23/2019</td>\n",
       "      <td>13:22</td>\n",
       "      <td>One</td>\n",
       "      <td>34.2</td>\n",
       "      <td>Mary</td>\n",
       "      <td>14.300</td>\n",
       "    </tr>\n",
       "    <tr>\n",
       "      <th>2</th>\n",
       "      <td>2/23/2019</td>\n",
       "      <td>14:58</td>\n",
       "      <td>Two</td>\n",
       "      <td>28.0</td>\n",
       "      <td>John</td>\n",
       "      <td>NaN</td>\n",
       "    </tr>\n",
       "    <tr>\n",
       "      <th>3</th>\n",
       "      <td>2/23/2019</td>\n",
       "      <td>17:31</td>\n",
       "      <td>Three</td>\n",
       "      <td>29.4</td>\n",
       "      <td>Peter</td>\n",
       "      <td>14.669</td>\n",
       "    </tr>\n",
       "    <tr>\n",
       "      <th>4</th>\n",
       "      <td>2/27/2019</td>\n",
       "      <td>8:29</td>\n",
       "      <td>Four</td>\n",
       "      <td>12.0</td>\n",
       "      <td>Ali</td>\n",
       "      <td>14.810</td>\n",
       "    </tr>\n",
       "    <tr>\n",
       "      <th>5</th>\n",
       "      <td>3/3/2019</td>\n",
       "      <td>11:11</td>\n",
       "      <td>Five</td>\n",
       "      <td>14.5</td>\n",
       "      <td>Ravi</td>\n",
       "      <td>14.730</td>\n",
       "    </tr>\n",
       "    <tr>\n",
       "      <th>6</th>\n",
       "      <td>3/3/2019</td>\n",
       "      <td>13:08</td>\n",
       "      <td>Six</td>\n",
       "      <td>40.9</td>\n",
       "      <td>NaN</td>\n",
       "      <td>14.270</td>\n",
       "    </tr>\n",
       "    <tr>\n",
       "      <th>7</th>\n",
       "      <td>3/3/2019</td>\n",
       "      <td>9:01</td>\n",
       "      <td>Seven</td>\n",
       "      <td>35.5</td>\n",
       "      <td>NaN</td>\n",
       "      <td>14.900</td>\n",
       "    </tr>\n",
       "    <tr>\n",
       "      <th>8</th>\n",
       "      <td>3/3/2019</td>\n",
       "      <td>7:33</td>\n",
       "      <td>Eight</td>\n",
       "      <td>23.2</td>\n",
       "      <td>Mariam</td>\n",
       "      <td>14.880</td>\n",
       "    </tr>\n",
       "    <tr>\n",
       "      <th>9</th>\n",
       "      <td>3/3/2019</td>\n",
       "      <td>14:29</td>\n",
       "      <td>Nine</td>\n",
       "      <td>38.6</td>\n",
       "      <td>Mary</td>\n",
       "      <td>14.710</td>\n",
       "    </tr>\n",
       "  </tbody>\n",
       "</table>\n",
       "</div>"
      ],
      "text/plain": [
       "        Date   Time Col One  Temp   Names  Pressure_psi\n",
       "0  2/23/2019   9:01    Zero  21.9    John        14.900\n",
       "1  2/23/2019  13:22    One   34.2    Mary        14.300\n",
       "2  2/23/2019  14:58     Two  28.0    John           NaN\n",
       "3  2/23/2019  17:31   Three  29.4   Peter        14.669\n",
       "4  2/27/2019   8:29    Four  12.0     Ali        14.810\n",
       "5   3/3/2019  11:11    Five  14.5    Ravi        14.730\n",
       "6   3/3/2019  13:08     Six  40.9     NaN        14.270\n",
       "7   3/3/2019   9:01   Seven  35.5     NaN        14.900\n",
       "8   3/3/2019   7:33   Eight  23.2  Mariam        14.880\n",
       "9   3/3/2019  14:29    Nine  38.6    Mary        14.710"
      ]
     },
     "execution_count": 72,
     "metadata": {},
     "output_type": "execute_result"
    }
   ],
   "source": [
    "df"
   ]
  },
  {
   "cell_type": "markdown",
   "metadata": {},
   "source": [
    "**10.1 How to form a simple group by grouping one Column?**"
   ]
  },
  {
   "cell_type": "code",
   "execution_count": 41,
   "metadata": {},
   "outputs": [
    {
     "data": {
      "text/plain": [
       "<pandas.core.groupby.generic.DataFrameGroupBy object at 0x000001E64F03FCF8>"
      ]
     },
     "execution_count": 41,
     "metadata": {},
     "output_type": "execute_result"
    }
   ],
   "source": [
    "df.groupby('Names')"
   ]
  },
  {
   "cell_type": "markdown",
   "metadata": {},
   "source": [
    "**10.2 How to List all the groups?**"
   ]
  },
  {
   "cell_type": "code",
   "execution_count": 43,
   "metadata": {},
   "outputs": [
    {
     "data": {
      "text/plain": [
       "{'Ali': Int64Index([4], dtype='int64'),\n",
       " 'John': Int64Index([0, 2], dtype='int64'),\n",
       " 'Mariam': Int64Index([8], dtype='int64'),\n",
       " 'Mary': Int64Index([1, 9], dtype='int64'),\n",
       " 'Peter': Int64Index([3], dtype='int64'),\n",
       " 'Ravi': Int64Index([5], dtype='int64')}"
      ]
     },
     "execution_count": 43,
     "metadata": {},
     "output_type": "execute_result"
    }
   ],
   "source": [
    "df.groupby('Names').groups #Lists all the groups"
   ]
  },
  {
   "cell_type": "markdown",
   "metadata": {},
   "source": [
    "<a href='#top'>Table of Contents</a>\n",
    "\n",
    "**10.3 How to display the first (last) value of each group?**"
   ]
  },
  {
   "cell_type": "code",
   "execution_count": 44,
   "metadata": {},
   "outputs": [
    {
     "data": {
      "text/html": [
       "<div>\n",
       "<style scoped>\n",
       "    .dataframe tbody tr th:only-of-type {\n",
       "        vertical-align: middle;\n",
       "    }\n",
       "\n",
       "    .dataframe tbody tr th {\n",
       "        vertical-align: top;\n",
       "    }\n",
       "\n",
       "    .dataframe thead th {\n",
       "        text-align: right;\n",
       "    }\n",
       "</style>\n",
       "<table border=\"1\" class=\"dataframe\">\n",
       "  <thead>\n",
       "    <tr style=\"text-align: right;\">\n",
       "      <th></th>\n",
       "      <th>Date</th>\n",
       "      <th>Time</th>\n",
       "      <th>Col One</th>\n",
       "      <th>Temp</th>\n",
       "      <th>Pressure_psi</th>\n",
       "    </tr>\n",
       "    <tr>\n",
       "      <th>Names</th>\n",
       "      <th></th>\n",
       "      <th></th>\n",
       "      <th></th>\n",
       "      <th></th>\n",
       "      <th></th>\n",
       "    </tr>\n",
       "  </thead>\n",
       "  <tbody>\n",
       "    <tr>\n",
       "      <th>Ali</th>\n",
       "      <td>2/27/2019</td>\n",
       "      <td>8:29</td>\n",
       "      <td>Four</td>\n",
       "      <td>12.0</td>\n",
       "      <td>14.810</td>\n",
       "    </tr>\n",
       "    <tr>\n",
       "      <th>John</th>\n",
       "      <td>2/23/2019</td>\n",
       "      <td>9:01</td>\n",
       "      <td>Zero</td>\n",
       "      <td>21.9</td>\n",
       "      <td>14.900</td>\n",
       "    </tr>\n",
       "    <tr>\n",
       "      <th>Mariam</th>\n",
       "      <td>3/3/2019</td>\n",
       "      <td>7:33</td>\n",
       "      <td>Eight</td>\n",
       "      <td>23.2</td>\n",
       "      <td>14.880</td>\n",
       "    </tr>\n",
       "    <tr>\n",
       "      <th>Mary</th>\n",
       "      <td>2/23/2019</td>\n",
       "      <td>13:22</td>\n",
       "      <td>One</td>\n",
       "      <td>34.2</td>\n",
       "      <td>14.710</td>\n",
       "    </tr>\n",
       "    <tr>\n",
       "      <th>Peter</th>\n",
       "      <td>2/23/2019</td>\n",
       "      <td>17:31</td>\n",
       "      <td>Three</td>\n",
       "      <td>29.4</td>\n",
       "      <td>14.669</td>\n",
       "    </tr>\n",
       "    <tr>\n",
       "      <th>Ravi</th>\n",
       "      <td>3/3/2019</td>\n",
       "      <td>11:11</td>\n",
       "      <td>Five</td>\n",
       "      <td>14.5</td>\n",
       "      <td>14.730</td>\n",
       "    </tr>\n",
       "  </tbody>\n",
       "</table>\n",
       "</div>"
      ],
      "text/plain": [
       "             Date   Time Col One  Temp  Pressure_psi\n",
       "Names                                               \n",
       "Ali     2/27/2019   8:29    Four  12.0        14.810\n",
       "John    2/23/2019   9:01    Zero  21.9        14.900\n",
       "Mariam   3/3/2019   7:33   Eight  23.2        14.880\n",
       "Mary    2/23/2019  13:22    One   34.2        14.710\n",
       "Peter   2/23/2019  17:31   Three  29.4        14.669\n",
       "Ravi     3/3/2019  11:11    Five  14.5        14.730"
      ]
     },
     "execution_count": 44,
     "metadata": {},
     "output_type": "execute_result"
    }
   ],
   "source": [
    "df.groupby('Names').first()\n",
    "#df.groupby('Names').last()"
   ]
  },
  {
   "cell_type": "markdown",
   "metadata": {},
   "source": [
    "**10.4 How to display one single group?**"
   ]
  },
  {
   "cell_type": "code",
   "execution_count": 46,
   "metadata": {},
   "outputs": [
    {
     "data": {
      "text/html": [
       "<div>\n",
       "<style scoped>\n",
       "    .dataframe tbody tr th:only-of-type {\n",
       "        vertical-align: middle;\n",
       "    }\n",
       "\n",
       "    .dataframe tbody tr th {\n",
       "        vertical-align: top;\n",
       "    }\n",
       "\n",
       "    .dataframe thead th {\n",
       "        text-align: right;\n",
       "    }\n",
       "</style>\n",
       "<table border=\"1\" class=\"dataframe\">\n",
       "  <thead>\n",
       "    <tr style=\"text-align: right;\">\n",
       "      <th></th>\n",
       "      <th>Date</th>\n",
       "      <th>Time</th>\n",
       "      <th>Col One</th>\n",
       "      <th>Temp</th>\n",
       "      <th>Names</th>\n",
       "      <th>Pressure_psi</th>\n",
       "    </tr>\n",
       "  </thead>\n",
       "  <tbody>\n",
       "    <tr>\n",
       "      <th>0</th>\n",
       "      <td>2/23/2019</td>\n",
       "      <td>9:01</td>\n",
       "      <td>Zero</td>\n",
       "      <td>21.9</td>\n",
       "      <td>John</td>\n",
       "      <td>14.9</td>\n",
       "    </tr>\n",
       "    <tr>\n",
       "      <th>2</th>\n",
       "      <td>2/23/2019</td>\n",
       "      <td>14:58</td>\n",
       "      <td>Two</td>\n",
       "      <td>28.0</td>\n",
       "      <td>John</td>\n",
       "      <td>14.7</td>\n",
       "    </tr>\n",
       "  </tbody>\n",
       "</table>\n",
       "</div>"
      ],
      "text/plain": [
       "        Date   Time Col One  Temp Names  Pressure_psi\n",
       "0  2/23/2019   9:01    Zero  21.9  John          14.9\n",
       "2  2/23/2019  14:58     Two  28.0  John          14.7"
      ]
     },
     "execution_count": 46,
     "metadata": {},
     "output_type": "execute_result"
    }
   ],
   "source": [
    "df.groupby('Names').get_group('John')"
   ]
  },
  {
   "cell_type": "markdown",
   "metadata": {},
   "source": [
    "**10.5 How to display the count of all the groups?**"
   ]
  },
  {
   "cell_type": "code",
   "execution_count": 47,
   "metadata": {},
   "outputs": [
    {
     "data": {
      "text/plain": [
       "Names\n",
       "Ali       1\n",
       "John      2\n",
       "Mariam    1\n",
       "Mary      2\n",
       "Peter     1\n",
       "Ravi      1\n",
       "dtype: int64"
      ]
     },
     "execution_count": 47,
     "metadata": {},
     "output_type": "execute_result"
    }
   ],
   "source": [
    "df.groupby('Names').size()"
   ]
  },
  {
   "cell_type": "code",
   "execution_count": 49,
   "metadata": {},
   "outputs": [
    {
     "data": {
      "text/html": [
       "<div>\n",
       "<style scoped>\n",
       "    .dataframe tbody tr th:only-of-type {\n",
       "        vertical-align: middle;\n",
       "    }\n",
       "\n",
       "    .dataframe tbody tr th {\n",
       "        vertical-align: top;\n",
       "    }\n",
       "\n",
       "    .dataframe thead th {\n",
       "        text-align: right;\n",
       "    }\n",
       "</style>\n",
       "<table border=\"1\" class=\"dataframe\">\n",
       "  <thead>\n",
       "    <tr style=\"text-align: right;\">\n",
       "      <th></th>\n",
       "      <th>Date</th>\n",
       "      <th>Time</th>\n",
       "      <th>Col One</th>\n",
       "      <th>Temp</th>\n",
       "      <th>Names</th>\n",
       "      <th>Pressure_psi</th>\n",
       "    </tr>\n",
       "    <tr>\n",
       "      <th>Names</th>\n",
       "      <th></th>\n",
       "      <th></th>\n",
       "      <th></th>\n",
       "      <th></th>\n",
       "      <th></th>\n",
       "      <th></th>\n",
       "    </tr>\n",
       "  </thead>\n",
       "  <tbody>\n",
       "    <tr>\n",
       "      <th>Ali</th>\n",
       "      <td>1</td>\n",
       "      <td>1</td>\n",
       "      <td>1</td>\n",
       "      <td>1</td>\n",
       "      <td>1</td>\n",
       "      <td>1</td>\n",
       "    </tr>\n",
       "    <tr>\n",
       "      <th>John</th>\n",
       "      <td>1</td>\n",
       "      <td>2</td>\n",
       "      <td>2</td>\n",
       "      <td>2</td>\n",
       "      <td>1</td>\n",
       "      <td>2</td>\n",
       "    </tr>\n",
       "    <tr>\n",
       "      <th>Mariam</th>\n",
       "      <td>1</td>\n",
       "      <td>1</td>\n",
       "      <td>1</td>\n",
       "      <td>1</td>\n",
       "      <td>1</td>\n",
       "      <td>1</td>\n",
       "    </tr>\n",
       "    <tr>\n",
       "      <th>Mary</th>\n",
       "      <td>2</td>\n",
       "      <td>2</td>\n",
       "      <td>2</td>\n",
       "      <td>2</td>\n",
       "      <td>1</td>\n",
       "      <td>1</td>\n",
       "    </tr>\n",
       "    <tr>\n",
       "      <th>Peter</th>\n",
       "      <td>1</td>\n",
       "      <td>1</td>\n",
       "      <td>1</td>\n",
       "      <td>1</td>\n",
       "      <td>1</td>\n",
       "      <td>1</td>\n",
       "    </tr>\n",
       "    <tr>\n",
       "      <th>Ravi</th>\n",
       "      <td>1</td>\n",
       "      <td>1</td>\n",
       "      <td>1</td>\n",
       "      <td>1</td>\n",
       "      <td>1</td>\n",
       "      <td>1</td>\n",
       "    </tr>\n",
       "  </tbody>\n",
       "</table>\n",
       "</div>"
      ],
      "text/plain": [
       "        Date  Time  Col One  Temp  Names  Pressure_psi\n",
       "Names                                                 \n",
       "Ali        1     1        1     1      1             1\n",
       "John       1     2        2     2      1             2\n",
       "Mariam     1     1        1     1      1             1\n",
       "Mary       2     2        2     2      1             1\n",
       "Peter      1     1        1     1      1             1\n",
       "Ravi       1     1        1     1      1             1"
      ]
     },
     "execution_count": 49,
     "metadata": {},
     "output_type": "execute_result"
    }
   ],
   "source": [
    "df.groupby('Names').nunique() # Shows the number of unique values in each group. Useful during EDA"
   ]
  },
  {
   "cell_type": "markdown",
   "metadata": {},
   "source": [
    "<a href='#top'>Table of Contents</a>\n",
    "\n",
    "**10.6 How to Calculate Group Totals?**"
   ]
  },
  {
   "cell_type": "code",
   "execution_count": 21,
   "metadata": {},
   "outputs": [
    {
     "data": {
      "text/plain": [
       "Names\n",
       "Ali       12.0\n",
       "John      49.9\n",
       "Mariam    23.2\n",
       "Mary      72.8\n",
       "Peter     29.4\n",
       "Ravi      14.5\n",
       "Name: Temp, dtype: float64"
      ]
     },
     "execution_count": 21,
     "metadata": {},
     "output_type": "execute_result"
    }
   ],
   "source": [
    "df.groupby('Names')['Temp'].sum()"
   ]
  },
  {
   "cell_type": "markdown",
   "metadata": {},
   "source": [
    "Notice that the group is the Index. We may not always want this. We can simply use `reset_index` to address this.\n",
    "When we do this, the group's unique name/ID becomes a new column."
   ]
  },
  {
   "cell_type": "code",
   "execution_count": 50,
   "metadata": {},
   "outputs": [
    {
     "data": {
      "text/html": [
       "<div>\n",
       "<style scoped>\n",
       "    .dataframe tbody tr th:only-of-type {\n",
       "        vertical-align: middle;\n",
       "    }\n",
       "\n",
       "    .dataframe tbody tr th {\n",
       "        vertical-align: top;\n",
       "    }\n",
       "\n",
       "    .dataframe thead th {\n",
       "        text-align: right;\n",
       "    }\n",
       "</style>\n",
       "<table border=\"1\" class=\"dataframe\">\n",
       "  <thead>\n",
       "    <tr style=\"text-align: right;\">\n",
       "      <th></th>\n",
       "      <th>Names</th>\n",
       "      <th>Temp</th>\n",
       "    </tr>\n",
       "  </thead>\n",
       "  <tbody>\n",
       "    <tr>\n",
       "      <th>0</th>\n",
       "      <td>Ali</td>\n",
       "      <td>12.0</td>\n",
       "    </tr>\n",
       "    <tr>\n",
       "      <th>1</th>\n",
       "      <td>John</td>\n",
       "      <td>49.9</td>\n",
       "    </tr>\n",
       "    <tr>\n",
       "      <th>2</th>\n",
       "      <td>Mariam</td>\n",
       "      <td>23.2</td>\n",
       "    </tr>\n",
       "    <tr>\n",
       "      <th>3</th>\n",
       "      <td>Mary</td>\n",
       "      <td>72.8</td>\n",
       "    </tr>\n",
       "    <tr>\n",
       "      <th>4</th>\n",
       "      <td>Peter</td>\n",
       "      <td>29.4</td>\n",
       "    </tr>\n",
       "    <tr>\n",
       "      <th>5</th>\n",
       "      <td>Ravi</td>\n",
       "      <td>14.5</td>\n",
       "    </tr>\n",
       "  </tbody>\n",
       "</table>\n",
       "</div>"
      ],
      "text/plain": [
       "    Names  Temp\n",
       "0     Ali  12.0\n",
       "1    John  49.9\n",
       "2  Mariam  23.2\n",
       "3    Mary  72.8\n",
       "4   Peter  29.4\n",
       "5    Ravi  14.5"
      ]
     },
     "execution_count": 50,
     "metadata": {},
     "output_type": "execute_result"
    }
   ],
   "source": [
    "df.groupby('Names')['Temp'].sum().reset_index() "
   ]
  },
  {
   "cell_type": "code",
   "execution_count": 52,
   "metadata": {},
   "outputs": [
    {
     "data": {
      "text/html": [
       "<div>\n",
       "<style scoped>\n",
       "    .dataframe tbody tr th:only-of-type {\n",
       "        vertical-align: middle;\n",
       "    }\n",
       "\n",
       "    .dataframe tbody tr th {\n",
       "        vertical-align: top;\n",
       "    }\n",
       "\n",
       "    .dataframe thead th {\n",
       "        text-align: right;\n",
       "    }\n",
       "</style>\n",
       "<table border=\"1\" class=\"dataframe\">\n",
       "  <thead>\n",
       "    <tr style=\"text-align: right;\">\n",
       "      <th></th>\n",
       "      <th>Names</th>\n",
       "      <th>Sum of Temp</th>\n",
       "    </tr>\n",
       "  </thead>\n",
       "  <tbody>\n",
       "    <tr>\n",
       "      <th>0</th>\n",
       "      <td>Ali</td>\n",
       "      <td>12.0</td>\n",
       "    </tr>\n",
       "    <tr>\n",
       "      <th>1</th>\n",
       "      <td>John</td>\n",
       "      <td>49.9</td>\n",
       "    </tr>\n",
       "    <tr>\n",
       "      <th>2</th>\n",
       "      <td>Mariam</td>\n",
       "      <td>23.2</td>\n",
       "    </tr>\n",
       "    <tr>\n",
       "      <th>3</th>\n",
       "      <td>Mary</td>\n",
       "      <td>72.8</td>\n",
       "    </tr>\n",
       "    <tr>\n",
       "      <th>4</th>\n",
       "      <td>Peter</td>\n",
       "      <td>29.4</td>\n",
       "    </tr>\n",
       "    <tr>\n",
       "      <th>5</th>\n",
       "      <td>Ravi</td>\n",
       "      <td>14.5</td>\n",
       "    </tr>\n",
       "  </tbody>\n",
       "</table>\n",
       "</div>"
      ],
      "text/plain": [
       "    Names  Sum of Temp\n",
       "0     Ali         12.0\n",
       "1    John         49.9\n",
       "2  Mariam         23.2\n",
       "3    Mary         72.8\n",
       "4   Peter         29.4\n",
       "5    Ravi         14.5"
      ]
     },
     "execution_count": 52,
     "metadata": {},
     "output_type": "execute_result"
    }
   ],
   "source": [
    "#The column called Temp is misleading. Since we can the \"sum\" function, let's rename the column\n",
    "df.groupby('Names')['Temp'].sum().reset_index().rename(columns={'Temp': 'Sum of Temp'})"
   ]
  },
  {
   "cell_type": "code",
   "execution_count": 53,
   "metadata": {},
   "outputs": [
    {
     "data": {
      "text/html": [
       "<div>\n",
       "<style scoped>\n",
       "    .dataframe tbody tr th:only-of-type {\n",
       "        vertical-align: middle;\n",
       "    }\n",
       "\n",
       "    .dataframe tbody tr th {\n",
       "        vertical-align: top;\n",
       "    }\n",
       "\n",
       "    .dataframe thead th {\n",
       "        text-align: right;\n",
       "    }\n",
       "</style>\n",
       "<table border=\"1\" class=\"dataframe\">\n",
       "  <thead>\n",
       "    <tr style=\"text-align: right;\">\n",
       "      <th></th>\n",
       "      <th>Temp</th>\n",
       "    </tr>\n",
       "    <tr>\n",
       "      <th>Names</th>\n",
       "      <th></th>\n",
       "    </tr>\n",
       "  </thead>\n",
       "  <tbody>\n",
       "    <tr>\n",
       "      <th>Ali</th>\n",
       "      <td>12.0</td>\n",
       "    </tr>\n",
       "    <tr>\n",
       "      <th>John</th>\n",
       "      <td>49.9</td>\n",
       "    </tr>\n",
       "    <tr>\n",
       "      <th>Mariam</th>\n",
       "      <td>23.2</td>\n",
       "    </tr>\n",
       "    <tr>\n",
       "      <th>Mary</th>\n",
       "      <td>72.8</td>\n",
       "    </tr>\n",
       "    <tr>\n",
       "      <th>Peter</th>\n",
       "      <td>29.4</td>\n",
       "    </tr>\n",
       "    <tr>\n",
       "      <th>Ravi</th>\n",
       "      <td>14.5</td>\n",
       "    </tr>\n",
       "  </tbody>\n",
       "</table>\n",
       "</div>"
      ],
      "text/plain": [
       "        Temp\n",
       "Names       \n",
       "Ali     12.0\n",
       "John    49.9\n",
       "Mariam  23.2\n",
       "Mary    72.8\n",
       "Peter   29.4\n",
       "Ravi    14.5"
      ]
     },
     "execution_count": 53,
     "metadata": {},
     "output_type": "execute_result"
    }
   ],
   "source": [
    "#Another way to do the Group Sum\n",
    "df.groupby('Names').agg({'Temp': sum})"
   ]
  },
  {
   "cell_type": "markdown",
   "metadata": {},
   "source": [
    "**10.7 How to Groupby one column, and Perform Multiple Aggregations over another Column?**"
   ]
  },
  {
   "cell_type": "code",
   "execution_count": 55,
   "metadata": {},
   "outputs": [
    {
     "data": {
      "text/html": [
       "<div>\n",
       "<style scoped>\n",
       "    .dataframe tbody tr th:only-of-type {\n",
       "        vertical-align: middle;\n",
       "    }\n",
       "\n",
       "    .dataframe tbody tr th {\n",
       "        vertical-align: top;\n",
       "    }\n",
       "\n",
       "    .dataframe thead tr th {\n",
       "        text-align: left;\n",
       "    }\n",
       "\n",
       "    .dataframe thead tr:last-of-type th {\n",
       "        text-align: right;\n",
       "    }\n",
       "</style>\n",
       "<table border=\"1\" class=\"dataframe\">\n",
       "  <thead>\n",
       "    <tr>\n",
       "      <th></th>\n",
       "      <th colspan=\"4\" halign=\"left\">Temp</th>\n",
       "    </tr>\n",
       "    <tr>\n",
       "      <th></th>\n",
       "      <th>len</th>\n",
       "      <th>sum</th>\n",
       "      <th>max</th>\n",
       "      <th>mean</th>\n",
       "    </tr>\n",
       "    <tr>\n",
       "      <th>Names</th>\n",
       "      <th></th>\n",
       "      <th></th>\n",
       "      <th></th>\n",
       "      <th></th>\n",
       "    </tr>\n",
       "  </thead>\n",
       "  <tbody>\n",
       "    <tr>\n",
       "      <th>Ali</th>\n",
       "      <td>1.0</td>\n",
       "      <td>12.0</td>\n",
       "      <td>12.0</td>\n",
       "      <td>12.00</td>\n",
       "    </tr>\n",
       "    <tr>\n",
       "      <th>John</th>\n",
       "      <td>2.0</td>\n",
       "      <td>49.9</td>\n",
       "      <td>28.0</td>\n",
       "      <td>24.95</td>\n",
       "    </tr>\n",
       "    <tr>\n",
       "      <th>Mariam</th>\n",
       "      <td>1.0</td>\n",
       "      <td>23.2</td>\n",
       "      <td>23.2</td>\n",
       "      <td>23.20</td>\n",
       "    </tr>\n",
       "    <tr>\n",
       "      <th>Mary</th>\n",
       "      <td>2.0</td>\n",
       "      <td>72.8</td>\n",
       "      <td>38.6</td>\n",
       "      <td>36.40</td>\n",
       "    </tr>\n",
       "    <tr>\n",
       "      <th>Peter</th>\n",
       "      <td>1.0</td>\n",
       "      <td>29.4</td>\n",
       "      <td>29.4</td>\n",
       "      <td>29.40</td>\n",
       "    </tr>\n",
       "    <tr>\n",
       "      <th>Ravi</th>\n",
       "      <td>1.0</td>\n",
       "      <td>14.5</td>\n",
       "      <td>14.5</td>\n",
       "      <td>14.50</td>\n",
       "    </tr>\n",
       "  </tbody>\n",
       "</table>\n",
       "</div>"
      ],
      "text/plain": [
       "       Temp                   \n",
       "        len   sum   max   mean\n",
       "Names                         \n",
       "Ali     1.0  12.0  12.0  12.00\n",
       "John    2.0  49.9  28.0  24.95\n",
       "Mariam  1.0  23.2  23.2  23.20\n",
       "Mary    2.0  72.8  38.6  36.40\n",
       "Peter   1.0  29.4  29.4  29.40\n",
       "Ravi    1.0  14.5  14.5  14.50"
      ]
     },
     "execution_count": 55,
     "metadata": {},
     "output_type": "execute_result"
    }
   ],
   "source": [
    "#in this case we are grouping over Names, but aggregating over Temp\n",
    "df.groupby('Names').agg({'Temp': [len, sum, max, 'mean']})"
   ]
  },
  {
   "cell_type": "markdown",
   "metadata": {},
   "source": [
    "**10.8 Perform multiple Aggregations across multiple columns after grouping**"
   ]
  },
  {
   "cell_type": "code",
   "execution_count": 28,
   "metadata": {},
   "outputs": [
    {
     "data": {
      "text/html": [
       "<div>\n",
       "<style scoped>\n",
       "    .dataframe tbody tr th:only-of-type {\n",
       "        vertical-align: middle;\n",
       "    }\n",
       "\n",
       "    .dataframe tbody tr th {\n",
       "        vertical-align: top;\n",
       "    }\n",
       "\n",
       "    .dataframe thead tr th {\n",
       "        text-align: left;\n",
       "    }\n",
       "\n",
       "    .dataframe thead tr:last-of-type th {\n",
       "        text-align: right;\n",
       "    }\n",
       "</style>\n",
       "<table border=\"1\" class=\"dataframe\">\n",
       "  <thead>\n",
       "    <tr>\n",
       "      <th></th>\n",
       "      <th colspan=\"4\" halign=\"left\">Temp</th>\n",
       "      <th>Pressure_psi</th>\n",
       "    </tr>\n",
       "    <tr>\n",
       "      <th></th>\n",
       "      <th>sum</th>\n",
       "      <th>len</th>\n",
       "      <th>max</th>\n",
       "      <th>mean</th>\n",
       "      <th>max</th>\n",
       "    </tr>\n",
       "    <tr>\n",
       "      <th>Names</th>\n",
       "      <th></th>\n",
       "      <th></th>\n",
       "      <th></th>\n",
       "      <th></th>\n",
       "      <th></th>\n",
       "    </tr>\n",
       "  </thead>\n",
       "  <tbody>\n",
       "    <tr>\n",
       "      <th>Ali</th>\n",
       "      <td>12.0</td>\n",
       "      <td>1.0</td>\n",
       "      <td>12.0</td>\n",
       "      <td>12.00</td>\n",
       "      <td>14.810</td>\n",
       "    </tr>\n",
       "    <tr>\n",
       "      <th>John</th>\n",
       "      <td>49.9</td>\n",
       "      <td>2.0</td>\n",
       "      <td>28.0</td>\n",
       "      <td>24.95</td>\n",
       "      <td>14.900</td>\n",
       "    </tr>\n",
       "    <tr>\n",
       "      <th>Mariam</th>\n",
       "      <td>23.2</td>\n",
       "      <td>1.0</td>\n",
       "      <td>23.2</td>\n",
       "      <td>23.20</td>\n",
       "      <td>14.880</td>\n",
       "    </tr>\n",
       "    <tr>\n",
       "      <th>Mary</th>\n",
       "      <td>72.8</td>\n",
       "      <td>2.0</td>\n",
       "      <td>38.6</td>\n",
       "      <td>36.40</td>\n",
       "      <td>14.710</td>\n",
       "    </tr>\n",
       "    <tr>\n",
       "      <th>Peter</th>\n",
       "      <td>29.4</td>\n",
       "      <td>1.0</td>\n",
       "      <td>29.4</td>\n",
       "      <td>29.40</td>\n",
       "      <td>14.669</td>\n",
       "    </tr>\n",
       "    <tr>\n",
       "      <th>Ravi</th>\n",
       "      <td>14.5</td>\n",
       "      <td>1.0</td>\n",
       "      <td>14.5</td>\n",
       "      <td>14.50</td>\n",
       "      <td>14.730</td>\n",
       "    </tr>\n",
       "  </tbody>\n",
       "</table>\n",
       "</div>"
      ],
      "text/plain": [
       "        Temp                   Pressure_psi\n",
       "         sum  len   max   mean          max\n",
       "Names                                      \n",
       "Ali     12.0  1.0  12.0  12.00       14.810\n",
       "John    49.9  2.0  28.0  24.95       14.900\n",
       "Mariam  23.2  1.0  23.2  23.20       14.880\n",
       "Mary    72.8  2.0  38.6  36.40       14.710\n",
       "Peter   29.4  1.0  29.4  29.40       14.669\n",
       "Ravi    14.5  1.0  14.5  14.50       14.730"
      ]
     },
     "execution_count": 28,
     "metadata": {},
     "output_type": "execute_result"
    }
   ],
   "source": [
    "df.groupby('Names').agg({'Temp':[sum, len, max, 'mean'], \n",
    "                         'Pressure_psi': max})"
   ]
  },
  {
   "cell_type": "markdown",
   "metadata": {},
   "source": [
    "**10.9 How to Apply a custom function inside `agg` after grouping**"
   ]
  },
  {
   "cell_type": "code",
   "execution_count": 68,
   "metadata": {},
   "outputs": [
    {
     "data": {
      "text/html": [
       "<div>\n",
       "<style scoped>\n",
       "    .dataframe tbody tr th:only-of-type {\n",
       "        vertical-align: middle;\n",
       "    }\n",
       "\n",
       "    .dataframe tbody tr th {\n",
       "        vertical-align: top;\n",
       "    }\n",
       "\n",
       "    .dataframe thead tr th {\n",
       "        text-align: left;\n",
       "    }\n",
       "\n",
       "    .dataframe thead tr:last-of-type th {\n",
       "        text-align: right;\n",
       "    }\n",
       "</style>\n",
       "<table border=\"1\" class=\"dataframe\">\n",
       "  <thead>\n",
       "    <tr>\n",
       "      <th></th>\n",
       "      <th colspan=\"5\" halign=\"left\">Temp</th>\n",
       "      <th colspan=\"2\" halign=\"left\">Pressure_psi</th>\n",
       "    </tr>\n",
       "    <tr>\n",
       "      <th></th>\n",
       "      <th>sum</th>\n",
       "      <th>len</th>\n",
       "      <th>max</th>\n",
       "      <th>mean</th>\n",
       "      <th>col_range</th>\n",
       "      <th>max</th>\n",
       "      <th>col_range</th>\n",
       "    </tr>\n",
       "    <tr>\n",
       "      <th>Names</th>\n",
       "      <th></th>\n",
       "      <th></th>\n",
       "      <th></th>\n",
       "      <th></th>\n",
       "      <th></th>\n",
       "      <th></th>\n",
       "      <th></th>\n",
       "    </tr>\n",
       "  </thead>\n",
       "  <tbody>\n",
       "    <tr>\n",
       "      <th>Ali</th>\n",
       "      <td>12.0</td>\n",
       "      <td>1.0</td>\n",
       "      <td>12.0</td>\n",
       "      <td>12.00</td>\n",
       "      <td>12.0-12.0</td>\n",
       "      <td>14.810</td>\n",
       "      <td>14.81-14.81</td>\n",
       "    </tr>\n",
       "    <tr>\n",
       "      <th>John</th>\n",
       "      <td>49.9</td>\n",
       "      <td>2.0</td>\n",
       "      <td>28.0</td>\n",
       "      <td>24.95</td>\n",
       "      <td>21.9-28.0</td>\n",
       "      <td>14.900</td>\n",
       "      <td>14.9-14.9</td>\n",
       "    </tr>\n",
       "    <tr>\n",
       "      <th>Mariam</th>\n",
       "      <td>23.2</td>\n",
       "      <td>1.0</td>\n",
       "      <td>23.2</td>\n",
       "      <td>23.20</td>\n",
       "      <td>23.2-23.2</td>\n",
       "      <td>14.880</td>\n",
       "      <td>14.88-14.88</td>\n",
       "    </tr>\n",
       "    <tr>\n",
       "      <th>Mary</th>\n",
       "      <td>72.8</td>\n",
       "      <td>2.0</td>\n",
       "      <td>38.6</td>\n",
       "      <td>36.40</td>\n",
       "      <td>34.2-38.6</td>\n",
       "      <td>14.710</td>\n",
       "      <td>14.3-14.71</td>\n",
       "    </tr>\n",
       "    <tr>\n",
       "      <th>Peter</th>\n",
       "      <td>29.4</td>\n",
       "      <td>1.0</td>\n",
       "      <td>29.4</td>\n",
       "      <td>29.40</td>\n",
       "      <td>29.4-29.4</td>\n",
       "      <td>14.669</td>\n",
       "      <td>14.669-14.669</td>\n",
       "    </tr>\n",
       "    <tr>\n",
       "      <th>Ravi</th>\n",
       "      <td>14.5</td>\n",
       "      <td>1.0</td>\n",
       "      <td>14.5</td>\n",
       "      <td>14.50</td>\n",
       "      <td>14.5-14.5</td>\n",
       "      <td>14.730</td>\n",
       "      <td>14.73-14.73</td>\n",
       "    </tr>\n",
       "  </tbody>\n",
       "</table>\n",
       "</div>"
      ],
      "text/plain": [
       "        Temp                              Pressure_psi               \n",
       "         sum  len   max   mean  col_range          max      col_range\n",
       "Names                                                                \n",
       "Ali     12.0  1.0  12.0  12.00  12.0-12.0       14.810    14.81-14.81\n",
       "John    49.9  2.0  28.0  24.95  21.9-28.0       14.900      14.9-14.9\n",
       "Mariam  23.2  1.0  23.2  23.20  23.2-23.2       14.880    14.88-14.88\n",
       "Mary    72.8  2.0  38.6  36.40  34.2-38.6       14.710     14.3-14.71\n",
       "Peter   29.4  1.0  29.4  29.40  29.4-29.4       14.669  14.669-14.669\n",
       "Ravi    14.5  1.0  14.5  14.50  14.5-14.5       14.730    14.73-14.73"
      ]
     },
     "execution_count": 68,
     "metadata": {},
     "output_type": "execute_result"
    }
   ],
   "source": [
    "def col_range(df):\n",
    "    mini = df.min()\n",
    "    maxi = df.max()\n",
    "    rang_str = f'{mini}-{maxi}'\n",
    "    return rang_str\n",
    "\n",
    "gagg = df.groupby('Names').agg({'Temp':[sum, len, max, 'mean', col_range], \n",
    "                         'Pressure_psi': [max, col_range]})\n",
    "gagg"
   ]
  },
  {
   "cell_type": "code",
   "execution_count": 69,
   "metadata": {},
   "outputs": [
    {
     "data": {
      "text/html": [
       "<div>\n",
       "<style scoped>\n",
       "    .dataframe tbody tr th:only-of-type {\n",
       "        vertical-align: middle;\n",
       "    }\n",
       "\n",
       "    .dataframe tbody tr th {\n",
       "        vertical-align: top;\n",
       "    }\n",
       "\n",
       "    .dataframe thead th {\n",
       "        text-align: right;\n",
       "    }\n",
       "</style>\n",
       "<table border=\"1\" class=\"dataframe\">\n",
       "  <thead>\n",
       "    <tr style=\"text-align: right;\">\n",
       "      <th></th>\n",
       "      <th>Temp_sum</th>\n",
       "      <th>Temp_len</th>\n",
       "      <th>Temp_max</th>\n",
       "      <th>Temp_mean</th>\n",
       "      <th>Temp_col_range</th>\n",
       "      <th>Pressure_psi_max</th>\n",
       "      <th>Pressure_psi_col_range</th>\n",
       "    </tr>\n",
       "    <tr>\n",
       "      <th>Names</th>\n",
       "      <th></th>\n",
       "      <th></th>\n",
       "      <th></th>\n",
       "      <th></th>\n",
       "      <th></th>\n",
       "      <th></th>\n",
       "      <th></th>\n",
       "    </tr>\n",
       "  </thead>\n",
       "  <tbody>\n",
       "    <tr>\n",
       "      <th>Ali</th>\n",
       "      <td>12.0</td>\n",
       "      <td>1.0</td>\n",
       "      <td>12.0</td>\n",
       "      <td>12.00</td>\n",
       "      <td>12.0-12.0</td>\n",
       "      <td>14.810</td>\n",
       "      <td>14.81-14.81</td>\n",
       "    </tr>\n",
       "    <tr>\n",
       "      <th>John</th>\n",
       "      <td>49.9</td>\n",
       "      <td>2.0</td>\n",
       "      <td>28.0</td>\n",
       "      <td>24.95</td>\n",
       "      <td>21.9-28.0</td>\n",
       "      <td>14.900</td>\n",
       "      <td>14.9-14.9</td>\n",
       "    </tr>\n",
       "    <tr>\n",
       "      <th>Mariam</th>\n",
       "      <td>23.2</td>\n",
       "      <td>1.0</td>\n",
       "      <td>23.2</td>\n",
       "      <td>23.20</td>\n",
       "      <td>23.2-23.2</td>\n",
       "      <td>14.880</td>\n",
       "      <td>14.88-14.88</td>\n",
       "    </tr>\n",
       "    <tr>\n",
       "      <th>Mary</th>\n",
       "      <td>72.8</td>\n",
       "      <td>2.0</td>\n",
       "      <td>38.6</td>\n",
       "      <td>36.40</td>\n",
       "      <td>34.2-38.6</td>\n",
       "      <td>14.710</td>\n",
       "      <td>14.3-14.71</td>\n",
       "    </tr>\n",
       "    <tr>\n",
       "      <th>Peter</th>\n",
       "      <td>29.4</td>\n",
       "      <td>1.0</td>\n",
       "      <td>29.4</td>\n",
       "      <td>29.40</td>\n",
       "      <td>29.4-29.4</td>\n",
       "      <td>14.669</td>\n",
       "      <td>14.669-14.669</td>\n",
       "    </tr>\n",
       "    <tr>\n",
       "      <th>Ravi</th>\n",
       "      <td>14.5</td>\n",
       "      <td>1.0</td>\n",
       "      <td>14.5</td>\n",
       "      <td>14.50</td>\n",
       "      <td>14.5-14.5</td>\n",
       "      <td>14.730</td>\n",
       "      <td>14.73-14.73</td>\n",
       "    </tr>\n",
       "  </tbody>\n",
       "</table>\n",
       "</div>"
      ],
      "text/plain": [
       "        Temp_sum  Temp_len  Temp_max  Temp_mean Temp_col_range  \\\n",
       "Names                                                            \n",
       "Ali         12.0       1.0      12.0      12.00      12.0-12.0   \n",
       "John        49.9       2.0      28.0      24.95      21.9-28.0   \n",
       "Mariam      23.2       1.0      23.2      23.20      23.2-23.2   \n",
       "Mary        72.8       2.0      38.6      36.40      34.2-38.6   \n",
       "Peter       29.4       1.0      29.4      29.40      29.4-29.4   \n",
       "Ravi        14.5       1.0      14.5      14.50      14.5-14.5   \n",
       "\n",
       "        Pressure_psi_max Pressure_psi_col_range  \n",
       "Names                                            \n",
       "Ali               14.810            14.81-14.81  \n",
       "John              14.900              14.9-14.9  \n",
       "Mariam            14.880            14.88-14.88  \n",
       "Mary              14.710             14.3-14.71  \n",
       "Peter             14.669          14.669-14.669  \n",
       "Ravi              14.730            14.73-14.73  "
      ]
     },
     "execution_count": 69,
     "metadata": {},
     "output_type": "execute_result"
    }
   ],
   "source": [
    "#Renaming is a bit tricky, because our GroupedDF, has a MULTI_INDEX\n",
    "gagg.columns =  [\"_\".join(x) for x in gagg.columns.ravel()]\n",
    "gagg"
   ]
  },
  {
   "cell_type": "markdown",
   "metadata": {},
   "source": [
    "**10.10 How to Create a New Column of Group Totals to all the rows in the original data frame?**"
   ]
  },
  {
   "cell_type": "code",
   "execution_count": 77,
   "metadata": {},
   "outputs": [
    {
     "data": {
      "text/html": [
       "<div>\n",
       "<style scoped>\n",
       "    .dataframe tbody tr th:only-of-type {\n",
       "        vertical-align: middle;\n",
       "    }\n",
       "\n",
       "    .dataframe tbody tr th {\n",
       "        vertical-align: top;\n",
       "    }\n",
       "\n",
       "    .dataframe thead th {\n",
       "        text-align: right;\n",
       "    }\n",
       "</style>\n",
       "<table border=\"1\" class=\"dataframe\">\n",
       "  <thead>\n",
       "    <tr style=\"text-align: right;\">\n",
       "      <th></th>\n",
       "      <th>Date</th>\n",
       "      <th>Time</th>\n",
       "      <th>Col One</th>\n",
       "      <th>Temp</th>\n",
       "      <th>Names</th>\n",
       "      <th>Pressure_psi</th>\n",
       "      <th>TempSumByName</th>\n",
       "    </tr>\n",
       "  </thead>\n",
       "  <tbody>\n",
       "    <tr>\n",
       "      <th>0</th>\n",
       "      <td>2/23/2019</td>\n",
       "      <td>9:01</td>\n",
       "      <td>Zero</td>\n",
       "      <td>21.9</td>\n",
       "      <td>John</td>\n",
       "      <td>14.900</td>\n",
       "      <td>49.9</td>\n",
       "    </tr>\n",
       "    <tr>\n",
       "      <th>1</th>\n",
       "      <td>2/23/2019</td>\n",
       "      <td>13:22</td>\n",
       "      <td>One</td>\n",
       "      <td>34.2</td>\n",
       "      <td>Mary</td>\n",
       "      <td>14.300</td>\n",
       "      <td>72.8</td>\n",
       "    </tr>\n",
       "    <tr>\n",
       "      <th>2</th>\n",
       "      <td>2/23/2019</td>\n",
       "      <td>14:58</td>\n",
       "      <td>Two</td>\n",
       "      <td>28.0</td>\n",
       "      <td>John</td>\n",
       "      <td>NaN</td>\n",
       "      <td>49.9</td>\n",
       "    </tr>\n",
       "    <tr>\n",
       "      <th>3</th>\n",
       "      <td>2/23/2019</td>\n",
       "      <td>17:31</td>\n",
       "      <td>Three</td>\n",
       "      <td>29.4</td>\n",
       "      <td>Peter</td>\n",
       "      <td>14.669</td>\n",
       "      <td>29.4</td>\n",
       "    </tr>\n",
       "    <tr>\n",
       "      <th>4</th>\n",
       "      <td>2/27/2019</td>\n",
       "      <td>8:29</td>\n",
       "      <td>Four</td>\n",
       "      <td>12.0</td>\n",
       "      <td>Ali</td>\n",
       "      <td>14.810</td>\n",
       "      <td>12.0</td>\n",
       "    </tr>\n",
       "    <tr>\n",
       "      <th>5</th>\n",
       "      <td>3/3/2019</td>\n",
       "      <td>11:11</td>\n",
       "      <td>Five</td>\n",
       "      <td>14.5</td>\n",
       "      <td>Ravi</td>\n",
       "      <td>14.730</td>\n",
       "      <td>14.5</td>\n",
       "    </tr>\n",
       "    <tr>\n",
       "      <th>6</th>\n",
       "      <td>3/3/2019</td>\n",
       "      <td>13:08</td>\n",
       "      <td>Six</td>\n",
       "      <td>40.9</td>\n",
       "      <td>NaN</td>\n",
       "      <td>14.270</td>\n",
       "      <td>NaN</td>\n",
       "    </tr>\n",
       "    <tr>\n",
       "      <th>7</th>\n",
       "      <td>3/3/2019</td>\n",
       "      <td>9:01</td>\n",
       "      <td>Seven</td>\n",
       "      <td>35.5</td>\n",
       "      <td>NaN</td>\n",
       "      <td>14.900</td>\n",
       "      <td>NaN</td>\n",
       "    </tr>\n",
       "    <tr>\n",
       "      <th>8</th>\n",
       "      <td>3/3/2019</td>\n",
       "      <td>7:33</td>\n",
       "      <td>Eight</td>\n",
       "      <td>23.2</td>\n",
       "      <td>Mariam</td>\n",
       "      <td>14.880</td>\n",
       "      <td>23.2</td>\n",
       "    </tr>\n",
       "    <tr>\n",
       "      <th>9</th>\n",
       "      <td>3/3/2019</td>\n",
       "      <td>14:29</td>\n",
       "      <td>Nine</td>\n",
       "      <td>38.6</td>\n",
       "      <td>Mary</td>\n",
       "      <td>14.710</td>\n",
       "      <td>72.8</td>\n",
       "    </tr>\n",
       "  </tbody>\n",
       "</table>\n",
       "</div>"
      ],
      "text/plain": [
       "        Date   Time Col One  Temp   Names  Pressure_psi  TempSumByName\n",
       "0  2/23/2019   9:01    Zero  21.9    John        14.900           49.9\n",
       "1  2/23/2019  13:22    One   34.2    Mary        14.300           72.8\n",
       "2  2/23/2019  14:58     Two  28.0    John           NaN           49.9\n",
       "3  2/23/2019  17:31   Three  29.4   Peter        14.669           29.4\n",
       "4  2/27/2019   8:29    Four  12.0     Ali        14.810           12.0\n",
       "5   3/3/2019  11:11    Five  14.5    Ravi        14.730           14.5\n",
       "6   3/3/2019  13:08     Six  40.9     NaN        14.270            NaN\n",
       "7   3/3/2019   9:01   Seven  35.5     NaN        14.900            NaN\n",
       "8   3/3/2019   7:33   Eight  23.2  Mariam        14.880           23.2\n",
       "9   3/3/2019  14:29    Nine  38.6    Mary        14.710           72.8"
      ]
     },
     "execution_count": 77,
     "metadata": {},
     "output_type": "execute_result"
    }
   ],
   "source": [
    "df['TempSumByName'] = df.groupby('Names')['Temp'].transform(sum)\n",
    "df"
   ]
  },
  {
   "cell_type": "markdown",
   "metadata": {},
   "source": [
    "**10.11 How add a `Sequence count` of each group to the original Data Frame rows?**\n",
    "\n",
    "If there are N rows in a group, number each row starting from 1 and go till N \n"
   ]
  },
  {
   "cell_type": "code",
   "execution_count": 81,
   "metadata": {},
   "outputs": [
    {
     "data": {
      "text/html": [
       "<div>\n",
       "<style scoped>\n",
       "    .dataframe tbody tr th:only-of-type {\n",
       "        vertical-align: middle;\n",
       "    }\n",
       "\n",
       "    .dataframe tbody tr th {\n",
       "        vertical-align: top;\n",
       "    }\n",
       "\n",
       "    .dataframe thead th {\n",
       "        text-align: right;\n",
       "    }\n",
       "</style>\n",
       "<table border=\"1\" class=\"dataframe\">\n",
       "  <thead>\n",
       "    <tr style=\"text-align: right;\">\n",
       "      <th></th>\n",
       "      <th>Date</th>\n",
       "      <th>Time</th>\n",
       "      <th>Col One</th>\n",
       "      <th>Temp</th>\n",
       "      <th>Names</th>\n",
       "      <th>Pressure_psi</th>\n",
       "      <th>TempSumByName</th>\n",
       "      <th>Name_seq_number</th>\n",
       "    </tr>\n",
       "  </thead>\n",
       "  <tbody>\n",
       "    <tr>\n",
       "      <th>0</th>\n",
       "      <td>2/23/2019</td>\n",
       "      <td>9:01</td>\n",
       "      <td>Zero</td>\n",
       "      <td>21.9</td>\n",
       "      <td>John</td>\n",
       "      <td>14.900</td>\n",
       "      <td>49.9</td>\n",
       "      <td>1</td>\n",
       "    </tr>\n",
       "    <tr>\n",
       "      <th>1</th>\n",
       "      <td>2/23/2019</td>\n",
       "      <td>13:22</td>\n",
       "      <td>One</td>\n",
       "      <td>34.2</td>\n",
       "      <td>Mary</td>\n",
       "      <td>14.300</td>\n",
       "      <td>72.8</td>\n",
       "      <td>1</td>\n",
       "    </tr>\n",
       "    <tr>\n",
       "      <th>2</th>\n",
       "      <td>2/23/2019</td>\n",
       "      <td>14:58</td>\n",
       "      <td>Two</td>\n",
       "      <td>28.0</td>\n",
       "      <td>John</td>\n",
       "      <td>NaN</td>\n",
       "      <td>49.9</td>\n",
       "      <td>2</td>\n",
       "    </tr>\n",
       "    <tr>\n",
       "      <th>3</th>\n",
       "      <td>2/23/2019</td>\n",
       "      <td>17:31</td>\n",
       "      <td>Three</td>\n",
       "      <td>29.4</td>\n",
       "      <td>Peter</td>\n",
       "      <td>14.669</td>\n",
       "      <td>29.4</td>\n",
       "      <td>1</td>\n",
       "    </tr>\n",
       "    <tr>\n",
       "      <th>4</th>\n",
       "      <td>2/27/2019</td>\n",
       "      <td>8:29</td>\n",
       "      <td>Four</td>\n",
       "      <td>12.0</td>\n",
       "      <td>Ali</td>\n",
       "      <td>14.810</td>\n",
       "      <td>12.0</td>\n",
       "      <td>1</td>\n",
       "    </tr>\n",
       "    <tr>\n",
       "      <th>5</th>\n",
       "      <td>3/3/2019</td>\n",
       "      <td>11:11</td>\n",
       "      <td>Five</td>\n",
       "      <td>14.5</td>\n",
       "      <td>Ravi</td>\n",
       "      <td>14.730</td>\n",
       "      <td>14.5</td>\n",
       "      <td>1</td>\n",
       "    </tr>\n",
       "    <tr>\n",
       "      <th>6</th>\n",
       "      <td>3/3/2019</td>\n",
       "      <td>13:08</td>\n",
       "      <td>Six</td>\n",
       "      <td>40.9</td>\n",
       "      <td>NaN</td>\n",
       "      <td>14.270</td>\n",
       "      <td>NaN</td>\n",
       "      <td>1</td>\n",
       "    </tr>\n",
       "    <tr>\n",
       "      <th>7</th>\n",
       "      <td>3/3/2019</td>\n",
       "      <td>9:01</td>\n",
       "      <td>Seven</td>\n",
       "      <td>35.5</td>\n",
       "      <td>NaN</td>\n",
       "      <td>14.900</td>\n",
       "      <td>NaN</td>\n",
       "      <td>2</td>\n",
       "    </tr>\n",
       "    <tr>\n",
       "      <th>8</th>\n",
       "      <td>3/3/2019</td>\n",
       "      <td>7:33</td>\n",
       "      <td>Eight</td>\n",
       "      <td>23.2</td>\n",
       "      <td>Mariam</td>\n",
       "      <td>14.880</td>\n",
       "      <td>23.2</td>\n",
       "      <td>1</td>\n",
       "    </tr>\n",
       "    <tr>\n",
       "      <th>9</th>\n",
       "      <td>3/3/2019</td>\n",
       "      <td>14:29</td>\n",
       "      <td>Nine</td>\n",
       "      <td>38.6</td>\n",
       "      <td>Mary</td>\n",
       "      <td>14.710</td>\n",
       "      <td>72.8</td>\n",
       "      <td>2</td>\n",
       "    </tr>\n",
       "  </tbody>\n",
       "</table>\n",
       "</div>"
      ],
      "text/plain": [
       "        Date   Time Col One  Temp   Names  Pressure_psi  TempSumByName  \\\n",
       "0  2/23/2019   9:01    Zero  21.9    John        14.900           49.9   \n",
       "1  2/23/2019  13:22    One   34.2    Mary        14.300           72.8   \n",
       "2  2/23/2019  14:58     Two  28.0    John           NaN           49.9   \n",
       "3  2/23/2019  17:31   Three  29.4   Peter        14.669           29.4   \n",
       "4  2/27/2019   8:29    Four  12.0     Ali        14.810           12.0   \n",
       "5   3/3/2019  11:11    Five  14.5    Ravi        14.730           14.5   \n",
       "6   3/3/2019  13:08     Six  40.9     NaN        14.270            NaN   \n",
       "7   3/3/2019   9:01   Seven  35.5     NaN        14.900            NaN   \n",
       "8   3/3/2019   7:33   Eight  23.2  Mariam        14.880           23.2   \n",
       "9   3/3/2019  14:29    Nine  38.6    Mary        14.710           72.8   \n",
       "\n",
       "   Name_seq_number  \n",
       "0                1  \n",
       "1                1  \n",
       "2                2  \n",
       "3                1  \n",
       "4                1  \n",
       "5                1  \n",
       "6                1  \n",
       "7                2  \n",
       "8                1  \n",
       "9                2  "
      ]
     },
     "execution_count": 81,
     "metadata": {},
     "output_type": "execute_result"
    }
   ],
   "source": [
    "df['Name_seq_number'] = df.groupby('Names').cumcount()+1\n",
    "df"
   ]
  },
  {
   "cell_type": "markdown",
   "metadata": {},
   "source": [
    "<a href='#top'>Back to the Table of Contents</a>\n",
    "\n",
    "## 11. Working with Columns containing Text Strings\n",
    "\n",
    "<a id='part11'></a>"
   ]
  },
  {
   "cell_type": "markdown",
   "metadata": {},
   "source": [
    "- **11.1 How to Calculate the lengths of the strings in a text column?**"
   ]
  },
  {
   "cell_type": "code",
   "execution_count": 129,
   "metadata": {},
   "outputs": [
    {
     "data": {
      "text/plain": [
       "DateTime\n",
       "2019-02-23 09:01:00    4.0\n",
       "2019-02-23 13:22:00    4.0\n",
       "2019-02-23 14:58:00    4.0\n",
       "2019-02-23 17:31:00    5.0\n",
       "2019-02-27 08:29:00    3.0\n",
       "2019-03-03 11:11:00    4.0\n",
       "2019-03-03 13:08:00    NaN\n",
       "2019-03-03 09:01:00    NaN\n",
       "2019-03-03 07:33:00    6.0\n",
       "2019-03-03 14:29:00    5.0\n",
       "Name: Names, dtype: float64"
      ]
     },
     "execution_count": 129,
     "metadata": {},
     "output_type": "execute_result"
    }
   ],
   "source": [
    "df['Names'].str.len()"
   ]
  },
  {
   "cell_type": "markdown",
   "metadata": {},
   "source": [
    "- **11.2 How to Check if a particular substring is present Calculate the lengths of the strings in a text column?**"
   ]
  },
  {
   "cell_type": "code",
   "execution_count": 130,
   "metadata": {},
   "outputs": [
    {
     "data": {
      "text/plain": [
       "DateTime\n",
       "2019-02-23 09:01:00    False\n",
       "2019-02-23 13:22:00    False\n",
       "2019-02-23 14:58:00    False\n",
       "2019-02-23 17:31:00     True\n",
       "2019-02-27 08:29:00    False\n",
       "2019-03-03 11:11:00    False\n",
       "2019-03-03 13:08:00      NaN\n",
       "2019-03-03 09:01:00      NaN\n",
       "2019-03-03 07:33:00    False\n",
       "2019-03-03 14:29:00     True\n",
       "Name: Names, dtype: object"
      ]
     },
     "execution_count": 130,
     "metadata": {},
     "output_type": "execute_result"
    }
   ],
   "source": [
    "df['Names'].str.contains('e')"
   ]
  },
  {
   "cell_type": "markdown",
   "metadata": {},
   "source": [
    "- **11.3 How to Split a Column Based on some text?**"
   ]
  },
  {
   "cell_type": "code",
   "execution_count": 131,
   "metadata": {},
   "outputs": [
    {
     "data": {
      "text/html": [
       "<div>\n",
       "<style scoped>\n",
       "    .dataframe tbody tr th:only-of-type {\n",
       "        vertical-align: middle;\n",
       "    }\n",
       "\n",
       "    .dataframe tbody tr th {\n",
       "        vertical-align: top;\n",
       "    }\n",
       "\n",
       "    .dataframe thead th {\n",
       "        text-align: right;\n",
       "    }\n",
       "</style>\n",
       "<table border=\"1\" class=\"dataframe\">\n",
       "  <thead>\n",
       "    <tr style=\"text-align: right;\">\n",
       "      <th></th>\n",
       "      <th>0</th>\n",
       "      <th>1</th>\n",
       "      <th>2</th>\n",
       "    </tr>\n",
       "    <tr>\n",
       "      <th>DateTime</th>\n",
       "      <th></th>\n",
       "      <th></th>\n",
       "      <th></th>\n",
       "    </tr>\n",
       "  </thead>\n",
       "  <tbody>\n",
       "    <tr>\n",
       "      <th>2019-02-23 09:01:00</th>\n",
       "      <td>John</td>\n",
       "      <td>None</td>\n",
       "      <td>None</td>\n",
       "    </tr>\n",
       "    <tr>\n",
       "      <th>2019-02-23 13:22:00</th>\n",
       "      <td>M</td>\n",
       "      <td>ry</td>\n",
       "      <td>None</td>\n",
       "    </tr>\n",
       "    <tr>\n",
       "      <th>2019-02-23 14:58:00</th>\n",
       "      <td>John</td>\n",
       "      <td>None</td>\n",
       "      <td>None</td>\n",
       "    </tr>\n",
       "    <tr>\n",
       "      <th>2019-02-23 17:31:00</th>\n",
       "      <td>Peter</td>\n",
       "      <td>None</td>\n",
       "      <td>None</td>\n",
       "    </tr>\n",
       "    <tr>\n",
       "      <th>2019-02-27 08:29:00</th>\n",
       "      <td>Ali</td>\n",
       "      <td>None</td>\n",
       "      <td>None</td>\n",
       "    </tr>\n",
       "    <tr>\n",
       "      <th>2019-03-03 11:11:00</th>\n",
       "      <td>R</td>\n",
       "      <td>vi</td>\n",
       "      <td>None</td>\n",
       "    </tr>\n",
       "    <tr>\n",
       "      <th>2019-03-03 13:08:00</th>\n",
       "      <td>NaN</td>\n",
       "      <td>NaN</td>\n",
       "      <td>NaN</td>\n",
       "    </tr>\n",
       "    <tr>\n",
       "      <th>2019-03-03 09:01:00</th>\n",
       "      <td>NaN</td>\n",
       "      <td>NaN</td>\n",
       "      <td>NaN</td>\n",
       "    </tr>\n",
       "    <tr>\n",
       "      <th>2019-03-03 07:33:00</th>\n",
       "      <td>M</td>\n",
       "      <td>ri</td>\n",
       "      <td>m</td>\n",
       "    </tr>\n",
       "    <tr>\n",
       "      <th>2019-03-03 14:29:00</th>\n",
       "      <td>Merry</td>\n",
       "      <td>None</td>\n",
       "      <td>None</td>\n",
       "    </tr>\n",
       "  </tbody>\n",
       "</table>\n",
       "</div>"
      ],
      "text/plain": [
       "                         0     1     2\n",
       "DateTime                              \n",
       "2019-02-23 09:01:00   John  None  None\n",
       "2019-02-23 13:22:00      M    ry  None\n",
       "2019-02-23 14:58:00   John  None  None\n",
       "2019-02-23 17:31:00  Peter  None  None\n",
       "2019-02-27 08:29:00    Ali  None  None\n",
       "2019-03-03 11:11:00      R    vi  None\n",
       "2019-03-03 13:08:00    NaN   NaN   NaN\n",
       "2019-03-03 09:01:00    NaN   NaN   NaN\n",
       "2019-03-03 07:33:00      M    ri     m\n",
       "2019-03-03 14:29:00  Merry  None  None"
      ]
     },
     "execution_count": 131,
     "metadata": {},
     "output_type": "execute_result"
    }
   ],
   "source": [
    "df['Names'].str.split('a', expand=True)"
   ]
  },
  {
   "cell_type": "markdown",
   "metadata": {},
   "source": [
    "End of Cookbook. Oct 2019\n",
    "\n",
    "<a href='#top'>Go back to Top </a>"
   ]
  },
  {
   "cell_type": "code",
   "execution_count": null,
   "metadata": {},
   "outputs": [],
   "source": []
  }
 ],
 "metadata": {
  "kernelspec": {
   "display_name": "Python 3",
   "language": "python",
   "name": "python3"
  },
  "language_info": {
   "codemirror_mode": {
    "name": "ipython",
    "version": 3
   },
   "file_extension": ".py",
   "mimetype": "text/x-python",
   "name": "python",
   "nbconvert_exporter": "python",
   "pygments_lexer": "ipython3",
   "version": "3.7.3"
  }
 },
 "nbformat": 4,
 "nbformat_minor": 4
}
